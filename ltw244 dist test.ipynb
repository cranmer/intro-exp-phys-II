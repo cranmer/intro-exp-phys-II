{
 "cells": [
  {
   "cell_type": "code",
   "execution_count": 1,
   "metadata": {},
   "outputs": [],
   "source": [
    "import numpy as np\n",
    "import matplotlib.pyplot as plt"
   ]
  },
  {
   "cell_type": "code",
   "execution_count": 2,
   "metadata": {},
   "outputs": [],
   "source": [
    "import distributions\n",
    "import distributions.Dist_ltw244 as Dist\n"
   ]
  },
  {
   "cell_type": "code",
   "execution_count": 3,
   "metadata": {},
   "outputs": [
    {
     "name": "stdout",
     "output_type": "stream",
     "text": [
      "import numpy as np\r\n",
      "from .base_distribution import BaseDistribution\r\n",
      "\r\n",
      "\r\n",
      "class Dist_ltw244(BaseDistribution):\r\n",
      "\r\n",
      "    def __init__(self):\r\n",
      "        self.f_max = 1.5\r\n",
      "        self.x_min = 0\r\n",
      "        self.x_max = 2\r\n",
      "\r\n",
      "    def pdf(self, x):\r\n",
      "        \"\"\"This is your PDF\"\"\"\r\n",
      "        return (x**3 - x**2 + 1) / (10/3)\r\n",
      "\r\n",
      "    def mean(self):\r\n",
      "        \"\"\"This is the mean of the PDF\"\"\"\r\n",
      "        return 1.32\r\n",
      "\r\n",
      "    def std(self):\r\n",
      "        \"\"\"This is the standard deviation of the pdf\"\"\"\r\n",
      "        return 0.581033561853\r\n",
      "\r\n",
      "\r\n"
     ]
    }
   ],
   "source": [
    "!cat distributions/Dist_ltw244.py"
   ]
  },
  {
   "cell_type": "code",
   "execution_count": 4,
   "metadata": {},
   "outputs": [],
   "source": [
    "mydist = Dist()\n",
    "mydist.mean()\n",
    "mydist.std()\n",
    "x = mydist.rvs(10000)\n",
    "np.mean(x)\n",
    "np.std(x)\n",
    "mybins = np.linspace(mydist.x_min, mydist.x_max, 50)"
   ]
  },
  {
   "cell_type": "code",
   "execution_count": 5,
   "metadata": {},
   "outputs": [
    {
     "data": {
      "text/plain": [
       "1.32"
      ]
     },
     "execution_count": 5,
     "metadata": {},
     "output_type": "execute_result"
    }
   ],
   "source": [
    "mydist.mean()"
   ]
  },
  {
   "cell_type": "code",
   "execution_count": 6,
   "metadata": {},
   "outputs": [
    {
     "data": {
      "text/plain": [
       "0.581033561853"
      ]
     },
     "execution_count": 6,
     "metadata": {},
     "output_type": "execute_result"
    }
   ],
   "source": [
    "mydist.std()"
   ]
  },
  {
   "cell_type": "code",
   "execution_count": 7,
   "metadata": {},
   "outputs": [
    {
     "data": {
      "text/plain": [
       "1.324155904326744"
      ]
     },
     "execution_count": 7,
     "metadata": {},
     "output_type": "execute_result"
    }
   ],
   "source": [
    "np.mean(x)"
   ]
  },
  {
   "cell_type": "code",
   "execution_count": 8,
   "metadata": {},
   "outputs": [
    {
     "data": {
      "text/plain": [
       "0.5785521143697304"
      ]
     },
     "execution_count": 8,
     "metadata": {},
     "output_type": "execute_result"
    }
   ],
   "source": [
    "np.std(x)"
   ]
  },
  {
   "cell_type": "code",
   "execution_count": 9,
   "metadata": {},
   "outputs": [
    {
     "data": {
      "image/png": "[encoded data removed]",
      "text/plain": [
       "<Figure size 432x288 with 1 Axes>"
      ]
     },
     "metadata": {
      "needs_background": "light"
     },
     "output_type": "display_data"
    }
   ],
   "source": [
    "plt.plot(mybins, mydist.pdf(mybins))\n",
    "_ = plt.hist(x, bins=mybins, density=True)"
   ]
  },
  {
   "cell_type": "code",
   "execution_count": null,
   "metadata": {},
   "outputs": [],
   "source": []
  }
 ],
 "metadata": {
  "kernelspec": {
   "display_name": "Python 3",
   "language": "python",
   "name": "python3"
  },
  "language_info": {
   "codemirror_mode": {
    "name": "ipython",
    "version": 3
   },
   "file_extension": ".py",
   "mimetype": "text/x-python",
   "name": "python",
   "nbconvert_exporter": "python",
   "pygments_lexer": "ipython3",
   "version": "3.7.6"
  }
 },
 "nbformat": 4,
 "nbformat_minor": 4
}
