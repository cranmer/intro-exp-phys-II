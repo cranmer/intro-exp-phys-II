{
 "metadata": {
  "kernelspec": {
   "display_name": "Python 2",
   "language": "python",
   "name": "python2"
  },
  "language_info": {
   "codemirror_mode": {
    "name": "ipython",
    "version": 2
   },
   "file_extension": ".py",
   "mimetype": "text/x-python",
   "name": "python",
   "nbconvert_exporter": "python",
   "pygments_lexer": "ipython2",
   "version": "2.7.11"
  },
  "name": "",
  "signature": "sha256:e590dea0fbed2b4bda5c853233904ffd16eff5d39d52c0c2abc221af1214e1f6"
 },
 "nbformat": 3,
 "nbformat_minor": 0,
 "worksheets": [
  {
   "cells": [
    {
     "cell_type": "markdown",
     "metadata": {
      "collapsed": true
     },
     "source": [
      "## Central Limit Theorem\n",
      "\n",
      "The [central limit theorem](https://en.wikipedia.org/wiki/Central_limit_theorem) is a key result in probability theory that helps explain why normal, or Gaussian, distributions are so omnipresent. The setup is that you have distributions for $N$ random variables $x_i$ and you want to know the distribution of $q = \\sum_{i=1}^{N} x_i$. Think of each $x_i$ as coming from it's own distribution like in the figure below. For instance, $x_1$ might be the weight of spoons, $x_2$ the weight of forks, $x_3$ the weight of bowls, ..., and $x_N$ of plates in your kitchen. Then $q$ would represent the total weight when you have one of each of those objects. The distribution of weights for each object might be weird because you have some mix-and-match set of silverware from your parents, grandparents, IKEA, and the thrift shop. The *central limit theorem* says that if you have enough objects (i.e. $N$ is large), then $q$ has a normal (Gaussian) distribution.\n",
      "\n",
      "![](Central_limit_theorem.png)\n",
      "\n",
      "Moreover, the central limit theorem states that the mean value of $q$ is given by\n",
      "\n",
      "\\begin{equation}\n",
      "\\mu_{q} = \\sum_{i=1}^{N} \\mu_{x_i} \n",
      "\\end{equation}\n",
      "\n",
      "and the variance (standard deviation squared) is given by\n",
      "\n",
      "\\begin{equation}\n",
      "\\sigma_{q}^{2} = \\sum_{i=1}^{N} \\sigma^2_{x_i} \n",
      "\\end{equation}\n",
      "\n",
      "*if you are having problems with the math displaing, click [here](http://nbviewer.jupyter.org/github/cranmer/intro-exp-phys-II/blob/master/Central-Limit-Theorem.ipynb?flush_cache=true)*\n",
      "\n",
      "The mean probably isn't surprising because $q$ is just a sum and the integral the defines the mean just distributes across each term. Also, the equation for the variance is the same as the propagation of errors formula we use when we add different measurements together. However, that propoagation of errors formula is derived from the Central Limit Theorem, not vice versa.\n",
      "\n",
      "### This is a collaborative project\n",
      "\n",
      "In this repository there is a folder called `distributions` with several python files. The idea is that each student will create one of these python files and we will use GitHub to collect them. Each of these files has a python class that describes a probability distribution.  Each of these classes will define:\n",
      "   * `x_min, x_max, f_max` - used for the accept/reject Monte Carlo sampling algorithm\n",
      "   * `pdf()` - the probability density function\n",
      "   * `mean()` - the mean of the pdf\n",
      "   * `std()` - the standard deviation of the pdf\n",
      "   \n",
      "In addition, each of these python classes inherits from `BaseDistribution` which knows how to run the accept/reject algorithm using the information above ([see inside](distributions/base_distribution.py) ). In order to generate `n_samples` from the pdf, you simply call `dist.rvs(n_samples)`, where `dist` is an instance of one of these python classes.\n",
      "\n",
      "**Naming Convention**: Name your file `Dist_<netid>.py` and your distribution the same way (without the `.py`). If you want to contribute more than one distribution, you can can add `Dist_<netid>_<index>.py`, where `<index>` is 1,2,3,...\n",
      "\n",
      "Here's an example:"
     ]
    },
    {
     "cell_type": "code",
     "collapsed": false,
     "input": [
      "!cat distributions/Dist_kc90.py"
     ],
     "language": "python",
     "metadata": {},
     "outputs": [
      {
       "output_type": "stream",
       "stream": "stdout",
       "text": [
        "\r\n",
        "import numpy as np\r\n",
        "from base_distribution import BaseDistribution\r\n",
        "\r\n",
        "class Dist_hk1764(BaseDistribution):\r\n",
        "\tdef __init__(self):\r\n",
        "\t\tself.f_max = 1\r\n",
        "\t\tself.x_min = -1\r\n",
        "\t\tself.x_max = 1\r\n",
        "\r\n",
        "\r\n",
        "\tdef pdf(self, x):\r\n",
        "\t\t\"\"\"This is your PDF\"\"\"\r\n",
        "\t\treturn np.abs((x**2-x**3)/x)\r\n",
        "\r\n",
        "\tdef mean(self):\r\n",
        "\t\t\"\"\"This is the mean of the PDF\"\"\"\r\n",
        "\t\treturn -.41\r\n",
        "\r\n",
        "\tdef std(self):\r\n",
        "\t\t\"\"\"This is the standard deviation of the pdf\"\"\"\r\n",
        "\t\treturn .51\r\n",
        "\r\n",
        "\r\n",
        "def test(cls):\r\n",
        "\ttry:\r\n",
        "\t\tdist = cls()\r\n",
        "\t\tN_test = 100000\r\n",
        "\t\trvs = dist.rvs(N_test)\r\n",
        "\t\tif np.abs(np.mean(rvs) - dist.mean()) > 5*np.std(rvs)/np.sqrt(N_test):\r\n",
        "\t\t\tprint(\"means don't match for %s: %f vs. %f\" %(cls.__name__, \r\n",
        "\t\t\t\t\t\t\t\t\t\t\t\t\t\t  np.mean(rvs), dist.mean()))\r\n",
        "\t\t\t\r\n",
        "\t\telif np.abs(np.std(rvs) - dist.std()) > 5*np.std(rvs)/np.sqrt(np.sqrt(1.*N_test)):\r\n",
        "\t\t\tprint(\"std devs. don't match for %s: %f vs. %f\" %(cls.__name__, \r\n",
        "\t\t\t\t\t\t\t\t\t\t\t\t\t\t  np.std(rvs), dist.std()))\r\n",
        "\t\t\r\n",
        "\t\telif np.sum(dist.pdf(np.linspace(dist.x_min,dist.x_max,100))<0) > 0:\r\n",
        "\t\t\tprint(\"pdf was negative in some places\")\r\n",
        "\r\n",
        "\t\telse:\r\n",
        "\t\t\tprint(\"%s passes tests, adding it\" %(cls.__name__))\r\n",
        "\texcept:\r\n",
        "\t\tprint(\"%s has errors't work\" %(cls.__name__))\r\n",
        "\r\n",
        "if __name__ == '__main__':\r\n",
        "\ttest(Dist_hk1764)"
       ]
      }
     ],
     "prompt_number": 1
    },
    {
     "cell_type": "markdown",
     "metadata": {},
     "source": [
      "## Example usage of the distributions\n",
      "\n",
      "Ok, now let's use them. So far there are only two distributions, but there will be more soon."
     ]
    },
    {
     "cell_type": "code",
     "collapsed": false,
     "input": [
      "%pylab inline --no-import-all\n",
      "from scipy.stats import norm #will use this for plotting\n"
     ],
     "language": "python",
     "metadata": {},
     "outputs": [
      {
       "output_type": "stream",
       "stream": "stdout",
       "text": [
        "Populating the interactive namespace from numpy and matplotlib\n"
       ]
      }
     ],
     "prompt_number": 5
    },
    {
     "cell_type": "code",
     "collapsed": false,
     "input": [
      "# import all our distributions\n",
      "import distributions"
     ],
     "language": "python",
     "metadata": {},
     "outputs": [],
     "prompt_number": 6
    },
    {
     "cell_type": "code",
     "collapsed": false,
     "input": [
      "# some funny python to make a list of all the distributions for convenience\n",
      "all_distributions_dict = dict([(name, cls) for name, cls in distributions.__dict__.items() if isinstance(cls, type)])\n",
      "all_distributions_list = [(cls) for name, cls in distributions.__dict__.items() if isinstance(cls, type)]\n",
      "# print out their names\n",
      "all_distributions_dict.keys()"
     ],
     "language": "python",
     "metadata": {},
     "outputs": [
      {
       "metadata": {},
       "output_type": "pyout",
       "prompt_number": 7,
       "text": [
        "['Dist_sm6376',\n",
        " 'Dist_ry643',\n",
        " 'Dist_vag273',\n",
        " 'Dist_nj18',\n",
        " 'Dist_pc1727',\n",
        " 'Dist_hk1764',\n",
        " 'Dist_yz2668',\n",
        " 'Dist_jgc375',\n",
        " 'Dist_kjm538',\n",
        " 'Dist_msc565',\n",
        " 'Dist_rdr335',\n",
        " 'Dist_my1462',\n",
        " 'Dist_yr595',\n",
        " 'Dist_ptf223',\n",
        " 'Dist_jeg535',\n",
        " 'Dist_mh3908',\n",
        " 'Dist_dl3185',\n",
        " 'Dist_kc90_2',\n",
        " 'Dist_kc90_3',\n",
        " 'Dist_vag273_1',\n",
        " 'Dist_vag273_2',\n",
        " 'Dist_ejk483',\n",
        " 'Dist_ams1396',\n",
        " 'Dist_psa251',\n",
        " 'Dist_recast',\n",
        " 'Dist_saw533',\n",
        " 'Dist_jsg549',\n",
        " 'Dist_ac5790']"
       ]
      }
     ],
     "prompt_number": 7
    },
    {
     "cell_type": "code",
     "collapsed": false,
     "input": [
      "len(all_distributions_dict.keys())"
     ],
     "language": "python",
     "metadata": {},
     "outputs": [
      {
       "metadata": {},
       "output_type": "pyout",
       "prompt_number": 8,
       "text": [
        "28"
       ]
      }
     ],
     "prompt_number": 8
    },
    {
     "cell_type": "code",
     "collapsed": false,
     "input": [
      "## Do tests\n",
      "ok_distributions_list=[]\n",
      "problems=[]\n",
      "for i, cls in enumerate(all_distributions_list):\n",
      "    #print(cls)\n",
      "    try:\n",
      "        dist = cls()\n",
      "        N_test = 100000\n",
      "        #print('will try to generate for %s' %(cls.__name__))\n",
      "        if dist.pdf(dist.x_min + .3*(dist.x_max-dist.x_min)) < 1E-3:\n",
      "            print(\"may have a problem\")\n",
      "            continue\n",
      "            \n",
      "        rvs = dist.rvs(N_test)\n",
      "        if np.abs(np.mean(rvs) - dist.mean()) > 5*np.std(rvs)/np.sqrt(N_test):\n",
      "            print(\"means don't match for %s: %f vs. %f\" %(cls.__name__, \n",
      "                                                          np.mean(rvs), dist.mean()))\n",
      "            continue\n",
      "            \n",
      "        elif np.abs(np.std(rvs) - dist.std()) > 5*np.std(rvs)/np.sqrt(np.sqrt(1.*N_test)):\n",
      "            print(\"std devs. don't match for %s: %f vs. %f\" %(cls.__name__, \n",
      "                                                          np.std(rvs), dist.std()))\n",
      "            continue\n",
      "        elif np.abs(np.std(rvs) - dist.std()) / dist.std() > 0.1:\n",
      "            print(\"std devs. don't match for %s: %f vs. %f\" %(cls.__name__, \n",
      "                                                          np.std(rvs), dist.std()))\n",
      "            continue\n",
      "        \n",
      "        elif np.sum(dist.pdf(np.linspace(dist.x_min,dist.x_max,100))<0) > 0:\n",
      "            print(\"pdf was negative in some places\")\n",
      "            continue                    \n",
      "\n",
      "        else:\n",
      "            print(\"%s passes tests, adding it\" %(cls.__name__))\n",
      "            ok_distributions_list.append(cls)\n",
      "    except:\n",
      "        print(\"%s has errors, does't work\" %(cls.__name__))\n",
      "        continue\n",
      "\n",
      "print(\"list of ok distributions:\",[i.__name__ for i in ok_distributions_list])\n",
      "\n",
      "\n"
     ],
     "language": "python",
     "metadata": {},
     "outputs": [
      {
       "output_type": "stream",
       "stream": "stdout",
       "text": [
        "Dist_sm6376 passes tests, adding it\n",
        "Dist_ry643 passes tests, adding it"
       ]
      },
      {
       "output_type": "stream",
       "stream": "stdout",
       "text": [
        "\n",
        "std devs. don't match for Dist_jgc375: 13.742625 vs. 15.655860"
       ]
      },
      {
       "output_type": "stream",
       "stream": "stdout",
       "text": [
        "\n",
        "std devs. don't match for Dist_vag273: 0.144575 vs. 0.288675"
       ]
      },
      {
       "output_type": "stream",
       "stream": "stdout",
       "text": [
        "\n",
        "Dist_nj18 passes tests, adding it"
       ]
      },
      {
       "output_type": "stream",
       "stream": "stdout",
       "text": [
        "\n",
        "std devs. don't match for Dist_pc1727: 0.844783 vs. 1.000000"
       ]
      },
      {
       "output_type": "stream",
       "stream": "stdout",
       "text": [
        "\n",
        "Dist_hk1764 passes tests, adding it"
       ]
      },
      {
       "output_type": "stream",
       "stream": "stdout",
       "text": [
        "\n",
        "Dist_yz2668 passes tests, adding it"
       ]
      },
      {
       "output_type": "stream",
       "stream": "stdout",
       "text": [
        "\n",
        "Dist_psa251 passes tests, adding it"
       ]
      },
      {
       "output_type": "stream",
       "stream": "stdout",
       "text": [
        "\n",
        "Dist_ejk483 passes tests, adding it"
       ]
      },
      {
       "output_type": "stream",
       "stream": "stdout",
       "text": [
        "\n",
        "std devs. don't match for Dist_rdr335: 0.399035 vs. 0.100000"
       ]
      },
      {
       "output_type": "stream",
       "stream": "stdout",
       "text": [
        "\n",
        "means don't match for Dist_my1462: -1.825385 vs. 3.000000"
       ]
      },
      {
       "output_type": "stream",
       "stream": "stdout",
       "text": [
        "\n",
        "Dist_yr595 passes tests, adding it"
       ]
      },
      {
       "output_type": "stream",
       "stream": "stdout",
       "text": [
        "\n",
        "std devs. don't match for Dist_ptf223: 2.850469 vs. 2.150000"
       ]
      },
      {
       "output_type": "stream",
       "stream": "stdout",
       "text": [
        "\n",
        "means don't match for Dist_jeg535: -3.286895 vs. 0.072000"
       ]
      },
      {
       "output_type": "stream",
       "stream": "stdout",
       "text": [
        "\n",
        "std devs. don't match for Dist_mh3908: 28.851892 vs. 38.000000"
       ]
      },
      {
       "output_type": "stream",
       "stream": "stdout",
       "text": [
        "\n",
        "std devs. don't match for Dist_dl3185: 0.774835 vs. 0.632456"
       ]
      },
      {
       "output_type": "stream",
       "stream": "stdout",
       "text": [
        "\n",
        "Dist_kc90_2 passes tests, adding it"
       ]
      },
      {
       "output_type": "stream",
       "stream": "stdout",
       "text": [
        "\n",
        "Dist_kc90_3 passes tests, adding it"
       ]
      },
      {
       "output_type": "stream",
       "stream": "stdout",
       "text": [
        "\n",
        "std devs. don't match for Dist_vag273_1: 0.144355 vs. 0.288675"
       ]
      },
      {
       "output_type": "stream",
       "stream": "stdout",
       "text": [
        "\n",
        "Dist_vag273_2 passes tests, adding it"
       ]
      },
      {
       "output_type": "stream",
       "stream": "stdout",
       "text": [
        "\n",
        "Dist_msc565 passes tests, adding it"
       ]
      },
      {
       "output_type": "stream",
       "stream": "stdout",
       "text": [
        "\n",
        "may have a problem\n",
        "Dist_kjm538 passes tests, adding it"
       ]
      },
      {
       "output_type": "stream",
       "stream": "stdout",
       "text": [
        "\n",
        "Dist_recast passes tests, adding it"
       ]
      },
      {
       "output_type": "stream",
       "stream": "stdout",
       "text": [
        "\n",
        "Dist_saw533 passes tests, adding it"
       ]
      },
      {
       "output_type": "stream",
       "stream": "stdout",
       "text": [
        "\n",
        "Dist_jsg549 passes tests, adding it"
       ]
      },
      {
       "output_type": "stream",
       "stream": "stdout",
       "text": [
        "\n",
        "Dist_ac5790 passes tests, adding it"
       ]
      },
      {
       "output_type": "stream",
       "stream": "stdout",
       "text": [
        "\n",
        "('list of ok distributions:', ['Dist_sm6376', 'Dist_ry643', 'Dist_nj18', 'Dist_hk1764', 'Dist_yz2668', 'Dist_psa251', 'Dist_ejk483', 'Dist_yr595', 'Dist_kc90_2', 'Dist_kc90_3', 'Dist_vag273_2', 'Dist_msc565', 'Dist_kjm538', 'Dist_recast', 'Dist_saw533', 'Dist_jsg549', 'Dist_ac5790'])\n"
       ]
      }
     ],
     "prompt_number": 9
    },
    {
     "cell_type": "code",
     "collapsed": false,
     "input": [
      "problems = [x for x in all_distributions_list if x not in ok_distributions_list]\n",
      "[i.__name__ for i in problems]"
     ],
     "language": "python",
     "metadata": {},
     "outputs": [
      {
       "metadata": {},
       "output_type": "pyout",
       "prompt_number": 10,
       "text": [
        "['Dist_jgc375',\n",
        " 'Dist_vag273',\n",
        " 'Dist_pc1727',\n",
        " 'Dist_rdr335',\n",
        " 'Dist_my1462',\n",
        " 'Dist_ptf223',\n",
        " 'Dist_jeg535',\n",
        " 'Dist_mh3908',\n",
        " 'Dist_dl3185',\n",
        " 'Dist_vag273_1',\n",
        " 'Dist_ams1396']"
       ]
      }
     ],
     "prompt_number": 10
    },
    {
     "cell_type": "code",
     "collapsed": true,
     "input": [
      "# how many samples for plots?\n",
      "n_samples = 100000"
     ],
     "language": "python",
     "metadata": {},
     "outputs": [],
     "prompt_number": 11
    },
    {
     "cell_type": "code",
     "collapsed": false,
     "input": [
      "# Here's an example of usage\n",
      "dist = distributions.Dist_ac5790()\n",
      "rvs = dist.rvs(n_samples)\n",
      "counts, bins, edges = plt.hist(rvs, bins=50, normed=True, alpha =0.2)\n",
      "y = []\n",
      "for bin in bins:\n",
      "    y.append(dist.pdf(bin))\n",
      "plt.plot(bins, y, c='r', lw=2)"
     ],
     "language": "python",
     "metadata": {},
     "outputs": [
      {
       "metadata": {},
       "output_type": "pyout",
       "prompt_number": 12,
       "text": [
        "[<matplotlib.lines.Line2D at 0xa2c1fd0>]"
       ]
      },
      {
       "metadata": {},
       "output_type": "display_data",
       "png": "[encoded data removed]",
       "text": [
        "<matplotlib.figure.Figure at 0x8131198>"
       ]
      }
     ],
     "prompt_number": 12
    },
    {
     "cell_type": "markdown",
     "metadata": {},
     "source": [
      "## Let's inspect all the distributions we have\n",
      "\n",
      "Here we will loop over the different distributions and make a plot like the one above"
     ]
    },
    {
     "cell_type": "code",
     "collapsed": false,
     "input": [
      "fig = plt.figure(figsize=plt.figaspect(2.))\n",
      "for i, cls in enumerate(ok_distributions_list):\n",
      "    dist = cls()\n",
      "    rvs = dist.rvs(100000)\n",
      "    ax = fig.add_subplot(len(ok_distributions_list),1,i+1)\n",
      "    counts, bins, patches = ax.hist(rvs, bins=50, normed=True, alpha=0.2)\n",
      "    # depending on how you code up your pdf() function, numpy might not\n",
      "    # be able to \"broadcast\" (apply the function for each element of a numpy array)\n",
      "    # but this should always wrok\n",
      "    y = []\n",
      "    for bin in bins:\n",
      "        y.append(dist.pdf(bin))\n",
      "        \n",
      "    # ok, now plot it\n",
      "    plt.plot(bins, y, c='r', lw=2)\n",
      "    \n",
      "    # and let's check if teh distribution is ok\n",
      "    print(\"std from samples = %.2f, std from dist = %.2f\" %(np.std(dist.rvs(n_samples)), dist.std()))\n",
      "    if np.abs(np.std(dist.rvs(n_samples)) - dist.std()) / dist.std() > 0.1:\n",
      "        print(\"looks like a problem with this distribution: \", cls)"
     ],
     "language": "python",
     "metadata": {},
     "outputs": [
      {
       "output_type": "stream",
       "stream": "stdout",
       "text": [
        "std from samples = 0.29, std from dist = 0.29\n",
        "std from samples = 0.33, std from dist = 0.33"
       ]
      },
      {
       "output_type": "stream",
       "stream": "stdout",
       "text": [
        "\n",
        "std from samples = 0.71, std from dist = 0.71"
       ]
      },
      {
       "output_type": "stream",
       "stream": "stdout",
       "text": [
        "\n",
        "std from samples = 0.51, std from dist = 0.51"
       ]
      },
      {
       "output_type": "stream",
       "stream": "stdout",
       "text": [
        "\n",
        "std from samples = 0.28, std from dist = 0.28"
       ]
      },
      {
       "output_type": "stream",
       "stream": "stdout",
       "text": [
        "\n",
        "std from samples = 0.45, std from dist = 0.45"
       ]
      },
      {
       "output_type": "stream",
       "stream": "stdout",
       "text": [
        "\n",
        "std from samples = 0.24, std from dist = 0.24"
       ]
      },
      {
       "output_type": "stream",
       "stream": "stdout",
       "text": [
        "\n",
        "std from samples = 0.50, std from dist = 0.50"
       ]
      },
      {
       "output_type": "stream",
       "stream": "stdout",
       "text": [
        "\n",
        "std from samples = 0.29, std from dist = 0.29"
       ]
      },
      {
       "output_type": "stream",
       "stream": "stdout",
       "text": [
        "\n",
        "std from samples = 5.39, std from dist = 5.40"
       ]
      },
      {
       "output_type": "stream",
       "stream": "stdout",
       "text": [
        "\n",
        "std from samples = 0.30, std from dist = 0.30"
       ]
      },
      {
       "output_type": "stream",
       "stream": "stdout",
       "text": [
        "\n",
        "std from samples = 0.27, std from dist = 0.27"
       ]
      },
      {
       "output_type": "stream",
       "stream": "stdout",
       "text": [
        "\n",
        "std from samples = 1.25, std from dist = 1.26"
       ]
      },
      {
       "output_type": "stream",
       "stream": "stdout",
       "text": [
        "\n",
        "std from samples = 5.40, std from dist = 5.40"
       ]
      },
      {
       "output_type": "stream",
       "stream": "stdout",
       "text": [
        "\n",
        "std from samples = 0.47, std from dist = 0.47"
       ]
      },
      {
       "output_type": "stream",
       "stream": "stdout",
       "text": [
        "\n",
        "std from samples = 0.49, std from dist = 0.49"
       ]
      },
      {
       "output_type": "stream",
       "stream": "stdout",
       "text": [
        "\n",
        "std from samples = 0.29, std from dist = 0.29"
       ]
      },
      {
       "output_type": "stream",
       "stream": "stdout",
       "text": [
        "\n"
       ]
      },
      {
       "metadata": {},
       "output_type": "display_data",
       "png": "[encoded data removed]",
       "text": [
        "<matplotlib.figure.Figure at 0x3b949860>"
       ]
      }
     ],
     "prompt_number": 13
    },
    {
     "cell_type": "markdown",
     "metadata": {
      "collapsed": false
     },
     "source": [
      "## Demonstration of the Central Limit Theorem\n",
      "\n",
      "ok, let's use one of the distributions to demonstrate the central limit theorem. We will use the same distribution $N$ times.\n",
      "\n",
      "First let's make a little helper function."
     ]
    },
    {
     "cell_type": "code",
     "collapsed": true,
     "input": [
      "def do_convolution(dist, N):\n",
      "    n_samples = 100000\n",
      "    q = np.zeros(n_samples)\n",
      "    var_q = 0.\n",
      "    mean_q = 0.\n",
      "\n",
      "    for i in range(N):\n",
      "        q = q+dist.rvs(n_samples)\n",
      "        var_q = var_q + dist.std()**2\n",
      "        mean_q = mean_q + dist.mean()\n",
      "\n",
      "    std_q = np.sqrt( var_q )\n",
      "    \n",
      "    \n",
      "\n",
      "\n",
      "    counts, bins, patches = plt.hist(q,bins=50, normed=True, alpha=.2)\n",
      "    plt.plot(bins, norm.pdf(bins,loc=mean_q, scale=std_q), lw=2, c='r')"
     ],
     "language": "python",
     "metadata": {},
     "outputs": [],
     "prompt_number": 14
    },
    {
     "cell_type": "markdown",
     "metadata": {},
     "source": [
      "Now let's use it for $N=\\{2,4,32\\}$"
     ]
    },
    {
     "cell_type": "code",
     "collapsed": false,
     "input": [
      "dist = distributions.Dist_kc90_3()\n",
      "do_convolution(dist,2)"
     ],
     "language": "python",
     "metadata": {},
     "outputs": [
      {
       "metadata": {},
       "output_type": "display_data",
       "png": "[encoded data removed]",
       "text": [
        "<matplotlib.figure.Figure at 0xa0991d0>"
       ]
      }
     ],
     "prompt_number": 15
    },
    {
     "cell_type": "code",
     "collapsed": false,
     "input": [
      "do_convolution(dist,4)"
     ],
     "language": "python",
     "metadata": {},
     "outputs": [
      {
       "metadata": {},
       "output_type": "display_data",
       "png": "[encoded data removed]",
       "text": [
        "<matplotlib.figure.Figure at 0xef4a0b8>"
       ]
      }
     ],
     "prompt_number": 16
    },
    {
     "cell_type": "code",
     "collapsed": false,
     "input": [
      "do_convolution(dist,32)"
     ],
     "language": "python",
     "metadata": {},
     "outputs": [
      {
       "metadata": {},
       "output_type": "display_data",
       "png": "[encoded data removed]",
       "text": [
        "<matplotlib.figure.Figure at 0xbe320b8>"
       ]
      }
     ],
     "prompt_number": 17
    },
    {
     "cell_type": "markdown",
     "metadata": {},
     "source": [
      "*Gorgeous!*"
     ]
    },
    {
     "cell_type": "markdown",
     "metadata": {},
     "source": [
      "## Now let's do the same thing randomly using different distributions \n",
      "\n",
      "To do this we will use `np.random.choice` to randomly choose from our list. Here's an example"
     ]
    },
    {
     "cell_type": "code",
     "collapsed": false,
     "input": [
      "np.random.choice(['a','b','c','d'], 10)"
     ],
     "language": "python",
     "metadata": {},
     "outputs": [
      {
       "metadata": {},
       "output_type": "pyout",
       "prompt_number": 18,
       "text": [
        "array(['d', 'c', 'c', 'b', 'b', 'b', 'c', 'd', 'd', 'b'], \n",
        "      dtype='|S1')"
       ]
      }
     ],
     "prompt_number": 18
    },
    {
     "cell_type": "markdown",
     "metadata": {},
     "source": [
      "Now let's make a variation on the helper function above"
     ]
    },
    {
     "cell_type": "code",
     "collapsed": true,
     "input": [
      "from scipy.stats import chisquare\n",
      "from scipy.stats import chi2\n",
      "def do_random_convolution(list_of_distributions, N):\n",
      "    n_samples = 100000\n",
      "    q = np.zeros(n_samples)\n",
      "    var_q = 0.\n",
      "    mean_q = 0.\n",
      "\n",
      "    for dist_class in np.random.choice(list_of_distributions,N):\n",
      "        dist = dist_class()\n",
      "        q = q+dist.rvs(n_samples)\n",
      "        var_q = var_q + dist.std()**2\n",
      "        mean_q = mean_q + dist.mean()\n",
      "\n",
      "    std_q = np.sqrt( var_q )\n",
      "    \n",
      "    counts,bins,patches=plt.hist(q,bins=50,normed=True,alpha=.2)\n",
      "    plt.plot(bins,norm.pdf(bins,loc=mean_q,scale=std_q),lw=2,c='r')\n",
      "    right_edges= bins[1:]\n",
      "    left_edges=bins[:-1]\n",
      "    bin_centers= (right_edges+left_edges)/2\n",
      "    normalization = q.size*(bin_centers)\n",
      "    prediction=norm.pdf(bin_centers,loc=mean_q,scale=std_q)\n",
      "    chisq_obs =np.sum((counts-prediction)**2/prediction)\n",
      "    pvalue =chi2.sf(chisq_obs,counts.size)\n",
      "    print chisq_obs\n",
      "    \n",
      "    \n",
      "\n",
      "    "
     ],
     "language": "python",
     "metadata": {},
     "outputs": [],
     "prompt_number": 63
    },
    {
     "cell_type": "code",
     "collapsed": false,
     "input": [
      "do_random_convolution(ok_distributions_list,2)"
     ],
     "language": "python",
     "metadata": {},
     "outputs": [
      {
       "output_type": "stream",
       "stream": "stdout",
       "text": [
        "0.220823852225\n"
       ]
      },
      {
       "metadata": {},
       "output_type": "display_data",
       "png": "[encoded data removed]",
       "text": [
        "<matplotlib.figure.Figure at 0x19708fd0>"
       ]
      }
     ],
     "prompt_number": 64
    },
    {
     "cell_type": "code",
     "collapsed": false,
     "input": [
      "do_random_convolution(ok_distributions_list,4)"
     ],
     "language": "python",
     "metadata": {},
     "outputs": [
      {
       "output_type": "stream",
       "stream": "stdout",
       "text": [
        "0.624664575223\n"
       ]
      },
      {
       "metadata": {},
       "output_type": "display_data",
       "png": "[encoded data removed]",
       "text": [
        "<matplotlib.figure.Figure at 0x197186a0>"
       ]
      }
     ],
     "prompt_number": 65
    },
    {
     "cell_type": "code",
     "collapsed": false,
     "input": [
      "do_random_convolution(ok_distributions_list,32)"
     ],
     "language": "python",
     "metadata": {},
     "outputs": [
      {
       "output_type": "stream",
       "stream": "stdout",
       "text": [
        "0.0177211075569\n"
       ]
      },
      {
       "metadata": {},
       "output_type": "display_data",
       "png": "[encoded data removed]",
       "text": [
        "<matplotlib.figure.Figure at 0xbc315f8>"
       ]
      }
     ],
     "prompt_number": 66
    },
    {
     "cell_type": "code",
     "collapsed": true,
     "input": [
      "do_random_convolution(ok_distributions_list,64)"
     ],
     "language": "python",
     "metadata": {},
     "outputs": [
      {
       "output_type": "stream",
       "stream": "stdout",
       "text": [
        "0.00189295181271\n"
       ]
      },
      {
       "metadata": {},
       "output_type": "display_data",
       "png": "[encoded data removed]",
       "text": [
        "<matplotlib.figure.Figure at 0x19768a90>"
       ]
      }
     ],
     "prompt_number": 68
    },
    {
     "cell_type": "code",
     "collapsed": true,
     "input": [],
     "language": "python",
     "metadata": {},
     "outputs": [],
     "prompt_number": 28
    },
    {
     "cell_type": "code",
     "collapsed": false,
     "input": [],
     "language": "python",
     "metadata": {},
     "outputs": [],
     "prompt_number": 28
    },
    {
     "cell_type": "code",
     "collapsed": false,
     "input": [],
     "language": "python",
     "metadata": {},
     "outputs": [],
     "prompt_number": 28
    },
    {
     "cell_type": "code",
     "collapsed": false,
     "input": [],
     "language": "python",
     "metadata": {},
     "outputs": [],
     "prompt_number": 28
    },
    {
     "cell_type": "code",
     "collapsed": false,
     "input": [],
     "language": "python",
     "metadata": {},
     "outputs": [],
     "prompt_number": 28
    },
    {
     "cell_type": "code",
     "collapsed": false,
     "input": [],
     "language": "python",
     "metadata": {},
     "outputs": []
    }
   ],
   "metadata": {}
  }
 ]
}