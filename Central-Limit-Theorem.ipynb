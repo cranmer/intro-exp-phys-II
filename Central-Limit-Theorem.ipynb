{
 "cells": [
  {
   "cell_type": "markdown",
   "metadata": {
    "collapsed": true
   },
   "source": [
    "## Central Limit Theorem\n",
    "\n",
    "The [central limit theorem](https://en.wikipedia.org/wiki/Central_limit_theorem) is a key result in probability theory that helps explain why normal, or Gaussian, distributions are so omnipresent. The setup is that you have distributions for $N$ random variables $x_i$ and you want to know the distribution of $q = \\sum_{i=1}^{N} x_i$. Think of each $x_i$ as coming from it's own distribution like in the figure below. For instance, $x_1$ might be the weight of spoons, $x_2$ the weight of forks, $x_3$ the weight of bowls, ..., and $x_N$ of plates in your kitchen. Then $q$ would represent the total weight when you have one of each of those objects. The distribution of weights for each object might be weird because you have some mix-and-match set of silverware from your parents, grandparents, IKEA, and the thrift shop. The *central limit theorem* says that if you have enough objects (i.e. $N$ is large), then $q$ has a normal (Gaussian) distribution.\n",
    "\n",
    "![](Central_limit_theorem.png)\n",
    "\n",
    "Moreover, the central limit theorem states that the mean value of $q$ is given by\n",
    "\n",
    "\\begin{equation}\n",
    "\\mu_{q} = \\sum_{i=1}^{N} \\mu_{x_i} \n",
    "\\end{equation}\n",
    "\n",
    "and the variance (standard deviation squared) is given by\n",
    "\n",
    "\\begin{equation}\n",
    "\\sigma_{q}^{2} = \\sum_{i=1}^{N} \\sigma^2_{x_i} \n",
    "\\end{equation}\n",
    "\n",
    "*if you are having problems with the math displaing, click [here](http://nbviewer.jupyter.org/github/cranmer/intro-exp-phys-II/blob/master/Central-Limit-Theorem.ipynb?flush_cache=true)*\n",
    "\n",
    "The mean probably isn't surprising because $q$ is just a sum and the integral the defines the mean just distributes across each term. Also, the equation for the variance is the same as the propagation of errors formula we use when we add different measurements together. However, that propoagation of errors formula is derived from the Central Limit Theorem, not vice versa.\n",
    "\n",
    "### This is a collaborative project\n",
    "\n",
    "In this repository there is a folder called `distributions` with several python files. The idea is that each student will create one of these python files and we will use GitHub to collect them. Each of these files has a python class that describes a probability distribution.  Each of these classes will define:\n",
    "   * `x_min, x_max, f_max` - used for the accept/reject Monte Carlo sampling algorithm\n",
    "   * `pdf()` - the probability density function\n",
    "   * `mean()` - the mean of the pdf\n",
    "   * `std()` - the standard deviation of the pdf\n",
    "   \n",
    "In addition, each of these python classes inherits from `BaseDistribution` which knows how to run the accept/reject algorithm using the information above ([see inside](distributions/base_distribution.py) ). In order to generate `n_samples` from the pdf, you simply call `dist.rvs(n_samples)`, where `dist` is an instance of one of these python classes.\n",
    "\n",
    "**Naming Convention**: Name your file `Dist_<netid>.py` and your distribution the same way (without the `.py`). If you want to contribute more than one distribution, you can can add `Dist_<netid>_<index>.py`, where `<index>` is 1,2,3,...\n",
    "\n",
    "Here's an example:"
   ]
  },
  {
   "cell_type": "code",
<<<<<<< HEAD
   "execution_count": 1,
   "metadata": {
    "collapsed": false
   },
   "outputs": [
    {
     "name": "stdout",
     "output_type": "stream",
     "text": [
      "\r\n",
      "import numpy as np\r\n",
      "from base_distribution import BaseDistribution\r\n",
      "\r\n",
      "class Dist_hk1764(BaseDistribution):\r\n",
      "\tdef __init__(self):\r\n",
      "\t\tself.f_max = 1\r\n",
      "\t\tself.x_min = -1\r\n",
      "\t\tself.x_max = 1\r\n",
      "\r\n",
      "\r\n",
      "\tdef pdf(self, x):\r\n",
      "\t\t\"\"\"This is your PDF\"\"\"\r\n",
      "\t\treturn np.abs((x**2-x**3)/x)\r\n",
      "\r\n",
      "\tdef mean(self):\r\n",
      "\t\t\"\"\"This is the mean of the PDF\"\"\"\r\n",
      "\t\treturn -.41\r\n",
      "\r\n",
      "\tdef std(self):\r\n",
      "\t\t\"\"\"This is the standard deviation of the pdf\"\"\"\r\n",
      "\t\treturn .51\r\n",
      "\r\n",
      "\r\n",
      "def test(cls):\r\n",
      "\ttry:\r\n",
      "\t\tdist = cls()\r\n",
      "\t\tN_test = 100000\r\n",
      "\t\trvs = dist.rvs(N_test)\r\n",
      "\t\tif np.abs(np.mean(rvs) - dist.mean()) > 5*np.std(rvs)/np.sqrt(N_test):\r\n",
      "\t\t\tprint(\"means don't match for %s: %f vs. %f\" %(cls.__name__, \r\n",
      "\t\t\t\t\t\t\t\t\t\t\t\t\t\t  np.mean(rvs), dist.mean()))\r\n",
      "\t\t\t\r\n",
      "\t\telif np.abs(np.std(rvs) - dist.std()) > 5*np.std(rvs)/np.sqrt(np.sqrt(1.*N_test)):\r\n",
      "\t\t\tprint(\"std devs. don't match for %s: %f vs. %f\" %(cls.__name__, \r\n",
      "\t\t\t\t\t\t\t\t\t\t\t\t\t\t  np.std(rvs), dist.std()))\r\n",
      "\t\t\r\n",
      "\t\telif np.sum(dist.pdf(np.linspace(dist.x_min,dist.x_max,100))<0) > 0:\r\n",
      "\t\t\tprint(\"pdf was negative in some places\")\r\n",
      "\r\n",
      "\t\telse:\r\n",
      "\t\t\tprint(\"%s passes tests, adding it\" %(cls.__name__))\r\n",
      "\texcept:\r\n",
      "\t\tprint(\"%s has errors't work\" %(cls.__name__))\r\n",
      "\r\n",
      "if __name__ == '__main__':\r\n",
      "\ttest(Dist_hk1764)"
     ]
    }
   ],
=======
   "execution_count": null,
   "metadata": {
    "collapsed": false
   },
   "outputs": [],
>>>>>>> cranmer/master
   "source": [
    "!cat distributions/Dist_kc90.py"
   ]
  },
  {
   "cell_type": "markdown",
   "metadata": {},
   "source": [
    "## Example usage of the distributions\n",
    "\n",
    "Ok, now let's use them. So far there are only two distributions, but there will be more soon."
   ]
  },
  {
   "cell_type": "code",
<<<<<<< HEAD
   "execution_count": 2,
   "metadata": {
    "collapsed": false
   },
   "outputs": [
    {
     "name": "stdout",
     "output_type": "stream",
     "text": [
      "Populating the interactive namespace from numpy and matplotlib\n"
     ]
    }
   ],
=======
   "execution_count": null,
   "metadata": {
    "collapsed": false
   },
   "outputs": [],
>>>>>>> cranmer/master
   "source": [
    "%pylab inline --no-import-all\n",
    "from scipy.stats import norm #will use this for plotting"
   ]
  },
  {
   "cell_type": "code",
<<<<<<< HEAD
   "execution_count": 3,
=======
   "execution_count": null,
>>>>>>> cranmer/master
   "metadata": {
    "collapsed": false
   },
   "outputs": [],
   "source": [
    "# import all our distributions\n",
    "import distributions"
   ]
  },
  {
   "cell_type": "code",
<<<<<<< HEAD
   "execution_count": 4,
   "metadata": {
    "collapsed": false
   },
   "outputs": [
    {
     "data": {
      "text/plain": [
       "['Dist_sm6376',\n",
       " 'Dist_ry643',\n",
       " 'Dist_psa251_2',\n",
       " 'Dist_vag273',\n",
       " 'Dist_kw1621',\n",
       " 'Dist_nj18',\n",
       " 'Dist_pc1727',\n",
       " 'Dist_hk1764',\n",
       " 'Dist_jgc375',\n",
       " 'Dist_kjm538',\n",
       " 'Dist_ejk483',\n",
       " 'Dist_rdr335',\n",
       " 'Dist_my1462',\n",
       " 'Dist_ih646',\n",
       " 'Dist_yr595',\n",
       " 'Dist_ptf223',\n",
       " 'Dist_jeg535',\n",
       " 'Dist_vag273_2',\n",
       " 'Dist_mh3908',\n",
       " 'Dist_dl3185',\n",
       " 'Dist_kc90_2',\n",
       " 'Dist_kc90_3',\n",
       " 'Dist_vag273_1',\n",
       " 'Dist_yz2668',\n",
       " 'Dist_msc565',\n",
       " 'Dist_jn1348',\n",
       " 'Dist_az1332',\n",
       " 'Dist_ae1389',\n",
       " 'Dist_ams1396',\n",
       " 'Dist_recast',\n",
       " 'Dist_psa251',\n",
       " 'Dist_sar653_1',\n",
       " 'Dist_saw533',\n",
       " 'Dist_jsg549',\n",
       " 'Dist_ac5790']"
      ]
     },
     "execution_count": 4,
     "metadata": {},
     "output_type": "execute_result"
    }
   ],
=======
   "execution_count": null,
   "metadata": {
    "collapsed": false
   },
   "outputs": [],
>>>>>>> cranmer/master
   "source": [
    "# some funny python to make a list of all the distributions for convenience\n",
    "all_distributions_dict = dict([(name, cls) for name, cls in distributions.__dict__.items() if isinstance(cls, type)])\n",
    "all_distributions_list = [(cls) for name, cls in distributions.__dict__.items() if isinstance(cls, type)]\n",
    "# print out their names\n",
    "all_distributions_dict.keys()"
   ]
  },
  {
   "cell_type": "code",
<<<<<<< HEAD
   "execution_count": 5,
   "metadata": {
    "collapsed": false
   },
   "outputs": [
    {
     "data": {
      "text/plain": [
       "35"
      ]
     },
     "execution_count": 5,
     "metadata": {},
     "output_type": "execute_result"
    }
   ],
=======
   "execution_count": null,
   "metadata": {
    "collapsed": false
   },
   "outputs": [],
>>>>>>> cranmer/master
   "source": [
    "len(all_distributions_dict.keys())"
   ]
  },
  {
   "cell_type": "code",
<<<<<<< HEAD
   "execution_count": 6,
   "metadata": {
    "collapsed": false
   },
   "outputs": [
    {
     "name": "stdout",
     "output_type": "stream",
     "text": [
      "Dist_sm6376 passes tests, adding it\n",
      "Dist_ry643 passes tests, adding it\n",
      "Dist_yr595 passes tests, adding it\n",
      "Dist_psa251_2 passes tests, adding it\n",
      "std devs. don't match for Dist_vag273: 0.144921 vs. 0.288675\n",
      "Dist_kw1621 passes tests, adding it\n",
      "Dist_nj18 passes tests, adding it\n",
      "std devs. don't match for Dist_pc1727: 0.846174 vs. 1.000000\n",
      "means don't match for Dist_hk1764: -0.419153 vs. -0.410000\n",
      "Dist_yz2668 passes tests, adding it\n",
      "Dist_psa251 passes tests, adding it\n",
      "Dist_ejk483 passes tests, adding it\n",
      "std devs. don't match for Dist_rdr335: 0.399285 vs. 0.100000\n",
      "Dist_my1462 passes tests, adding it\n",
      "Dist_ih646 passes tests, adding it\n",
      "means don't match for Dist_mh3908: 0.853103 vs. 2.364890\n",
      "std devs. don't match for Dist_ptf223: 2.849109 vs. 2.150000\n",
      "means don't match for Dist_jeg535: -3.304124 vs. 0.072000\n",
      "std devs. don't match for Dist_sar653_1: 0.500510 vs. 0.626657\n",
      "std devs. don't match for Dist_jgc375: 13.718057 vs. 15.655860\n",
      "std devs. don't match for Dist_dl3185: 0.774386 vs. 0.632456\n",
      "Dist_kc90_2 passes tests, adding it\n",
      "Dist_kc90_3 passes tests, adding it\n",
      "std devs. don't match for Dist_vag273_1: 0.144108 vs. 0.288675\n",
      "Dist_vag273_2 passes tests, adding it\n",
      "Dist_msc565 passes tests, adding it\n",
      "Dist_jn1348 passes tests, adding it\n",
      "Dist_az1332 passes tests, adding it\n",
      "Dist_ae1389 has errors, does't work\n",
      "may have a problem\n",
      "Dist_kjm538 passes tests, adding it\n",
      "Dist_recast passes tests, adding it\n",
      "Dist_saw533 passes tests, adding it\n",
      "Dist_jsg549 passes tests, adding it\n",
      "Dist_ac5790 passes tests, adding it\n",
      "('list of ok distributions:', ['Dist_sm6376', 'Dist_ry643', 'Dist_yr595', 'Dist_psa251_2', 'Dist_kw1621', 'Dist_nj18', 'Dist_yz2668', 'Dist_psa251', 'Dist_ejk483', 'Dist_my1462', 'Dist_ih646', 'Dist_kc90_2', 'Dist_kc90_3', 'Dist_vag273_2', 'Dist_msc565', 'Dist_jn1348', 'Dist_az1332', 'Dist_kjm538', 'Dist_recast', 'Dist_saw533', 'Dist_jsg549', 'Dist_ac5790'])\n"
     ]
    }
   ],
=======
   "execution_count": null,
   "metadata": {
    "collapsed": false
   },
   "outputs": [],
>>>>>>> cranmer/master
   "source": [
    "## Do tests\n",
    "ok_distributions_list=[]\n",
    "problems=[]\n",
<<<<<<< HEAD
    "my_dist=[]\n",
    "for i, cls in enumerate(all_distributions_list):\n",
    "    #print(cls)\n",
    "    if(cls.__name__ == \"Dist_msc565\"):\n",
    "        my_dist.append(cls)\n",
=======
    "for i, cls in enumerate(all_distributions_list):\n",
    "    #print(cls)\n",
>>>>>>> cranmer/master
    "    try:\n",
    "        dist = cls()\n",
    "        N_test = 100000\n",
    "        #print('will try to generate for %s' %(cls.__name__))\n",
    "        if dist.pdf(dist.x_min + .3*(dist.x_max-dist.x_min)) < 1E-3:\n",
    "            print(\"may have a problem\")\n",
    "            continue\n",
    "            \n",
    "        rvs = dist.rvs(N_test)\n",
    "        if np.abs(np.mean(rvs) - dist.mean()) > 5*np.std(rvs)/np.sqrt(N_test):\n",
    "            print(\"means don't match for %s: %f vs. %f\" %(cls.__name__, \n",
    "                                                          np.mean(rvs), dist.mean()))\n",
    "            continue\n",
    "            \n",
    "        elif np.abs(np.std(rvs) - dist.std()) > 5*np.std(rvs)/np.sqrt(np.sqrt(1.*N_test)):\n",
    "            print(\"std devs. don't match for %s: %f vs. %f\" %(cls.__name__, \n",
    "                                                          np.std(rvs), dist.std()))\n",
    "            continue\n",
    "        elif np.abs(np.std(rvs) - dist.std()) / dist.std() > 0.1:\n",
    "            print(\"std devs. don't match for %s: %f vs. %f\" %(cls.__name__, \n",
    "                                                          np.std(rvs), dist.std()))\n",
    "            continue\n",
    "        \n",
    "        elif np.sum(dist.pdf(np.linspace(dist.x_min,dist.x_max,100))<0) > 0:\n",
    "            print(\"pdf was negative in some places\")\n",
    "            continue                    \n",
    "\n",
    "        else:\n",
    "            print(\"%s passes tests, adding it\" %(cls.__name__))\n",
    "            ok_distributions_list.append(cls)\n",
    "    except:\n",
    "        print(\"%s has errors, does't work\" %(cls.__name__))\n",
    "        continue\n",
    "\n",
    "print(\"list of ok distributions:\",[i.__name__ for i in ok_distributions_list])\n",
    "\n",
    "\n"
   ]
  },
  {
   "cell_type": "code",
<<<<<<< HEAD
   "execution_count": 12,
   "metadata": {
    "collapsed": false
   },
   "outputs": [
    {
     "data": {
      "text/plain": [
       "['Dist_vag273',\n",
       " 'Dist_pc1727',\n",
       " 'Dist_hk1764',\n",
       " 'Dist_rdr335',\n",
       " 'Dist_mh3908',\n",
       " 'Dist_ptf223',\n",
       " 'Dist_jeg535',\n",
       " 'Dist_sar653_1',\n",
       " 'Dist_jgc375',\n",
       " 'Dist_dl3185',\n",
       " 'Dist_vag273_1',\n",
       " 'Dist_ae1389',\n",
       " 'Dist_ams1396']"
      ]
     },
     "execution_count": 12,
     "metadata": {},
     "output_type": "execute_result"
    }
   ],
=======
   "execution_count": null,
   "metadata": {
    "collapsed": false
   },
   "outputs": [],
>>>>>>> cranmer/master
   "source": [
    "problems = [x for x in all_distributions_list if x not in ok_distributions_list]\n",
    "[i.__name__ for i in problems]"
   ]
  },
  {
   "cell_type": "code",
<<<<<<< HEAD
   "execution_count": 13,
=======
   "execution_count": null,
>>>>>>> cranmer/master
   "metadata": {
    "collapsed": true
   },
   "outputs": [],
   "source": [
    "# how many samples for plots?\n",
    "n_samples = 100000"
   ]
  },
  {
   "cell_type": "code",
<<<<<<< HEAD
   "execution_count": 14,
   "metadata": {
    "collapsed": false
   },
   "outputs": [
    {
     "data": {
      "text/plain": [
       "[<matplotlib.lines.Line2D at 0x10c907710>]"
      ]
     },
     "execution_count": 14,
     "metadata": {},
     "output_type": "execute_result"
    },
    {
     "data": {
      "image/png": "iVBORw0KGgoAAAANSUhEUgAAAXkAAAENCAYAAADqsBXqAAAABHNCSVQICAgIfAhkiAAAAAlwSFlz\nAAALEgAACxIB0t1+/AAAEg1JREFUeJzt3X2sZHV9x/H3B5DUB8T62AruWgXBEsCwt0hbH9aHyoKm\n2MYmQKpCK24iWNOmFWtrWFMT28amaql1d6VUmxq0aOJiBfFpS0yFsIsI6iKLElgWxUesGo0L/faP\nGWG4e+fO7Nwzc+/+9v1KJplzzm/OfPfHuZ/zm9/MOaSqkCS16aDlLkCSND2GvCQ1zJCXpIYZ8pLU\nMENekhpmyEtSw0aGfJJLktyT5KYh289O8qX+4/NJju++TEnSJMYZyV8KnLrI9m8Az6uqE4G3AZu7\nKEyStHSHjGpQVZ9PsnqR7dcOLF4LHNFFYZKkpet6Tv41wJUd71OSNKGRI/lxJXkBcC7wnK72KUla\nmk5CPskJwCZgXVX9YJF23ihHkiZQVZnkdeNO16T/2HtDsgr4CPDKqvr6qB1VlY8qLrroomWvYaU8\n7Av7wr5Y/LEUI0fyST4IrAUel+RO4CLg0F5e1ybgLcBjgfckCbCnqk5eUlWSpE6M8+uas0dsPw84\nr7OKJEmd8YrXZbJ27drlLmHFsC8eZF88yL7oRpY637NPb5bULN9PklqQhJryF6+SpP2QIS9JDTPk\nJalhhrwkNcyQl6SGGfKS1DBDXpIaZshLUsMMeUlqmCEvSQ0z5CWpYYa8JDXMkJekhhnyktQwQ16S\nGmbIS1LDDHlJapghL0kNM+QlqWGGvCQ1zJCXpIYdstwFSNdeezP33vvzBbc95jGHcsopx8+4Iqkd\nhryW3b33/pwnPGHNgtu+853tM65GaovTNZLUMENekhrmdI2kA17L3wuNDPkklwAvA+6pqhOGtHk3\ncBrwE+Ccqrqx0yob1PJBJe1vWv5eaJyR/KXAPwEfWGhjktOAp1fV0UmeDbwXOKW7Eofbn4Oy64Nq\nln2xP/d717ruC/t2aey/vY0M+ar6fJLVizQ5g/4JoKquS3J4kidV1T1dFTnMSjn7DjuwpnFQDXuv\nHTtu53nPe8WCr+m6L1ZKv68EXffFJPvbH4JtVn8jHpt762JO/ghg18Dy7v66fQr5lTASnfR9hh1Y\n0ziohr3Xtm07O38v7R8WC7ZrrvnwijgBzPJvZJgdO76+yLbbh/bhJBbLs1277uQpT1m11/pp/fdI\nVY1u1BvJX7HQnHySK4C3V9X/9Jc/Dbyxqm5YoO0Y7yZJGhSgqjLJa7sYye8GnjKwfGR/3YI2DDxf\n239Ikh60tf/owrgj+afSG8nv9VkiyenA+VX10iSnAO+sqgW/eE1Sn/nMFxdYDz/4wY9Yvfq5C77/\nlVdexmmnnTn2euh9DFy3buGPX1ddtX3Bj2az3F/X2ybd37B/17B/00rZ32L7vOaaD/PMZz59wdd0\n/WXoqO9ChtU+zGL91HXfLrZtWB8Om2qAxfu267+5YabRF8PqmPS4GPZei/17k0xvJJ/kg/QG3I9L\ncidwEXAoUFW1qao+keT0JLfR+wnluYvt71GP2vsg+N73drFnz/cmKH+4Wc6/aWX5yU/+b2Zfhs7y\nu5Bhx/Q0judhfbht205OOmn5v9hc7AcIs/rbXinHxSjj/Lrm7DHaXDDuGx588MF7rUsmOkEtarE/\n9En+A7R60phlcEyi1X6fxGLBe6Bp8QcIix3rS+EVr2Pq+qSxUqz04Jhlv89qdDjqY/7+euJq9YQ8\nq4HQYsf6UhjyUt+sRof7y8f8feVAaGUy5NWplT79Ix1oDHl1aqWPemY5peAJb2lanf6ZNUNeB5RZ\nTims9BPeStfq9M+seT95SWqYIS9JDTPkJalhhrwkNcyQl6SGGfKS1DBDXpIaZshLUsMMeUlqmCEv\nSQ0z5CWpYYa8JDXMkJekhhnyktQwQ16SGmbIS1LDDHlJapghL0kNM+QlqWGGvCQ1zJCXpIYZ8pLU\nMENekhpmyEtSw8YK+STrktyS5NYkFy6w/dFJtiS5McnNSc7pvFJJ0j4bGfJJDgIuBk4FjgPOSnLs\nvGbnA1+pqmcBLwD+IckhXRcrSdo344zkTwZ2VtUdVbUHuAw4Y16bAg7rPz8M+F5V3dddmZKkSYwT\n8kcAuwaW7+qvG3Qx8OtJ7ga+BLyhm/IkSUvR1ZTKqcAXq+qFSZ4OfCrJCVX14/kNN27c8MDzNWvW\nMje3tqMSJKkN27ZtZfv2rZ3sa5yQ3w2sGlg+sr9u0LnA2wGq6utJbgeOBbbN39n69RsmKlSSDhRz\ncw8dAG/e/NaJ9zXOdM31wFFJVic5FDgT2DKvzR3AiwGSPAl4BvCNiauSJHVi5Ei+qu5PcgFwNb2T\nwiVVtSPJ+t7m2gS8Dfi3JDf1X/bGqvr+1KqWJI1lrDn5qroKOGbeuo0Dz79Jb15ekrSCeMWrJDXM\nkJekhhnyktQwQ16SGmbIS1LDDHlJapghL0kNM+QlqWGGvCQ1zJCXpIYZ8pLUMENekhpmyEtSwwx5\nSWqYIS9JDTPkJalhhrwkNcyQl6SGGfKS1DBDXpIaZshLUsMMeUlqmCEvSQ0z5CWpYYa8JDXMkJek\nhhnyktQwQ16SGjZWyCdZl+SWJLcmuXBIm7VJvpjky0k+122ZkqRJHDKqQZKDgIuBFwF3A9cn+VhV\n3TLQ5nDgn4GXVNXuJI+fVsGSpPGNM5I/GdhZVXdU1R7gMuCMeW3OBj5SVbsBquq73ZYpSZrEOCF/\nBLBrYPmu/rpBzwAem+RzSa5P8squCpQkTW7kdM0+7Ock4IXAI4EvJPlCVd02v+HGjRseeL5mzVrm\n5tZ2VIIktWHbtq1s3761k32NE/K7gVUDy0f21w26C/huVf0M+FmSa4ATgb1Cfv36DZNVKkkHiLm5\nhw6AN29+68T7Gme65nrgqCSrkxwKnAlsmdfmY8Bzkhyc5BHAs4EdE1clSerEyJF8Vd2f5ALganon\nhUuqakeS9b3NtamqbknySeAm4H5gU1V9daqVS5JGGmtOvqquAo6Zt27jvOV3AO/orjRJ0lJ5xask\nNcyQl6SGGfKS1DBDXpIaZshLUsMMeUlqmCEvSQ0z5CWpYYa8JDXMkJekhhnyktQwQ16SGmbIS1LD\nDHlJapghL0kNM+QlqWGGvCQ1zJCXpIYZ8pLUMENekhpmyEtSwwx5SWqYIS9JDTPkJalhhrwkNcyQ\nl6SGGfKS1DBDXpIaNlbIJ1mX5JYktya5cJF2v5FkT5Lf765ESdKkRoZ8koOAi4FTgeOAs5IcO6Td\n3wKf7LpISdJkxhnJnwzsrKo7qmoPcBlwxgLtXg9cDny7w/okSUswTsgfAewaWL6rv+4BSZ4MvLyq\n/gVId+VJkpbikI72805gcK5+aNBv3Ljhgedr1qxlbm5tRyVIUhu2bdvK9u1bO9nXOCG/G1g1sHxk\nf92gOeCyJAEeD5yWZE9VbZm/s/XrN0xYqiQdGObmHjoA3rz5rRPva5yQvx44Kslq4JvAmcBZgw2q\n6mm/eJ7kUuCKhQJekjRbI0O+qu5PcgFwNb05/EuqakeS9b3NtWn+S6ZQpyRpAmPNyVfVVcAx89Zt\nHNL2jzqoS5LUAa94laSGGfKS1DBDXpIaZshLUsMMeUlqmCEvSQ0z5CWpYYa8JDXMkJekhhnyktQw\nQ16SGmbIS1LDDHlJapghL0kNM+QlqWGGvCQ1zJCXpIYZ8pLUMENekhpmyEtSwwx5SWqYIS9JDTPk\nJalhhrwkNcyQl6SGGfKS1DBDXpIaZshLUsPGCvkk65LckuTWJBcusP3sJF/qPz6f5PjuS5Uk7auR\nIZ/kIOBi4FTgOOCsJMfOa/YN4HlVdSLwNmBz14VKkvbdOCP5k4GdVXVHVe0BLgPOGGxQVddW1Q/7\ni9cCR3RbpiRpEuOE/BHAroHlu1g8xF8DXLmUoiRJ3Tiky50leQFwLvCcLvcrSZrMOCG/G1g1sHxk\nf91DJDkB2ASsq6ofDNvZxo0bHni+Zs1a5ubWjlmqJB0Ytm3byvbtWzvZ1zghfz1wVJLVwDeBM4Gz\nBhskWQV8BHhlVX19sZ2tX79hskol6QAxN/fQAfDmzW+deF8jQ76q7k9yAXA1vTn8S6pqR5L1vc21\nCXgL8FjgPUkC7KmqkyeuSpLUibHm5KvqKuCYees2Djw/Dziv29IkSUvlFa+S1DBDXpIaZshLUsMM\neUlqmCEvSQ0z5CWpYYa8JDXMkJekhhnyktQwQ16SGmbIS1LDDHlJapghL0kNM+QlqWGGvCQ1zJCX\npIYZ8pLUMENekhpmyEtSwwx5SWqYIS9JDTPkJalhhrwkNcyQl6SGGfKS1DBDXpIaZshLUsMMeUlq\n2Fghn2RdkluS3JrkwiFt3p1kZ5Ibkzyr2zIlSZMYGfJJDgIuBk4FjgPOSnLsvDanAU+vqqOB9cB7\np1BrU26//avLXcKKYV88yL54kH3RjXFG8icDO6vqjqraA1wGnDGvzRnABwCq6jrg8CRP6rTSxngA\nP8i+eJB98SD7ohvjhPwRwK6B5bv66xZrs3uBNpKkGTtk1m/4ne/ctte6++77KZBZlyJJzUtVLd4g\nOQXYUFXr+stvAqqq/m6gzXuBz1XVh/rLtwDPr6p75u1r8TeTJC2oqiYaCY8zkr8eOCrJauCbwJnA\nWfPabAHOBz7UPyncOz/gl1KkJGkyI0O+qu5PcgFwNb05/EuqakeS9b3NtamqPpHk9CS3AT8Bzp1u\n2ZKkcYycrpEk7b+mesVrklck+XKS+5OctEi7kRdb7e+S/HKSq5N8Lcknkxw+pN2f9vvspiT/keTQ\nWdc6bfvQF4cn+c8kO5J8JcmzZ13rtI3bF/22ByW5IcmWWdY4K+P0RZIjk3y2fzzcnORPlqPWaZnG\nhafTvq3BzcDvAf89rME4F1s14k3Ap6vqGOCzwF/Ob5DkycDrgZOq6gR602lnzrTK2RjZF33vAj5R\nVc8ETgR2zKi+WRq3LwDeALT84/Fx+uI+4M+q6jjgN4HzW8mLaV14OtWQr6qvVdVOFv995DgXW7Xg\nDOD9/efvB14+pN3BwCOTHAI8Arh7BrXN2si+SPJo4LlVdSlAVd1XVf87uxJnZqzjIsmRwOnA+2ZU\n13IY2RdV9a2qurH//Mf0TvytXJMzlQtPV8INysa52KoFT/zFL46q6lvAE+c3qKq7gX8A7qR3Qdm9\nVfXpmVY5GyP7Avg14LtJLu1PUWxK8vCZVjkb4/QFwD8CfwG0/CXauH0BQJKnAs8Crpt6ZbMxlQtP\nl3wxVJJPAYNnktA7EP+qqq5Y6v73J4v0xV8v0HyvP9Ykj6F3pl4N/BC4PMnZVfXBKZQ7VUvtC3rH\n5knA+VW1Lck76X2cv6jrWqetg+PipcA9VXVjkrXsx1cOdnBc/GI/jwIuB97QH9FriCWHfFX9zhJ3\nsRtYNbB8ZH/dfmexvkhyT5InVdU9SX4F+PYCzV4MfKOqvt9/zUeB3wL2u5DvoC/uAnZV1bb+8uXA\nfvmlfAd98dvA7yY5HXg4cFiSD1TVq6ZU8tR00Bf0pzIvB/69qj42pVKXwzhZuBt4yog2DzHL6Zph\no48HLrbq/5LkTHoXV7VmC3BO//mrgYUOzjuBU5L8UpIAL6LNLxtH9kX/Y/uuJM/or3oRbX7pOE5f\nvLmqVlXV0+j9fXx2fwz4MYzzNwLwr8BXq+pdsyhqhsbJwi3Aq+CBuxEseOHpQ1TV1B70vjjZBfyU\n3tWyV/bX/yrw8YF264CvATuBN02zpuV6AI8FPt3/d14NPGZIX1xEL9hvovfl08OWu/Zl7IsT+wf+\njcBHgcOXu/bl6ouB9s8Htix33cvVF/Q+1dzfPya+CNwArFvu2jvsg72ykN6vaF470OZi4DbgS/R+\nibfoPr0YSpIathJ+XSNJmhJDXpIaZshLUsMMeUlqmCEvSVMw7g0aF3jdYUl2JXl3F3UY8pI0HSNv\n0DjE30zwmqEMeUmaghpyg8b+LaP/Psl1/dsFnzewbQ29e/Zc3VUdhrwkzdYf07tS9dn07jz52v5V\nrgHeAfw5Hd6faMn3rpGkA9WEN2h8CXB8kj/oLz8aOBp4GfBfVXV3L++7CXpDXpImVJPdoDHA66vq\nUw9ZmZwDPCfJ64DDgIcl+VFVvXkpNRrykjR9g6PyTwKvS/K5qrovydHAXVX1hw80Tl4NrFlqwINz\n8pI0FUlenmQXcArw8SRX9je9j94dVW9IcjO9/4Xf1Abc3qBMkhrmSF6SGmbIS1LDDHlJapghL0kN\nM+QlqWGGvCQ1zJCXpIYZ8pLUsP8HphAGUvLch6kAAAAASUVORK5CYII=\n",
      "text/plain": [
       "<matplotlib.figure.Figure at 0x10cca1490>"
      ]
     },
     "metadata": {},
     "output_type": "display_data"
    }
   ],
=======
   "execution_count": null,
   "metadata": {
    "collapsed": false
   },
   "outputs": [],
>>>>>>> cranmer/master
   "source": [
    "# Here's an example of usage\n",
    "dist = distributions.Dist_ac5790()\n",
    "rvs = dist.rvs(n_samples)\n",
    "counts, bins, edges = plt.hist(rvs, bins=50, normed=True, alpha =0.2)\n",
    "y = []\n",
    "for bin in bins:\n",
    "    y.append(dist.pdf(bin))\n",
    "plt.plot(bins, y, c='r', lw=2)"
   ]
  },
  {
   "cell_type": "code",
<<<<<<< HEAD
   "execution_count": 15,
   "metadata": {
    "collapsed": false
   },
   "outputs": [
    {
     "data": {
      "text/plain": [
       "0.28867513459481287"
      ]
     },
     "execution_count": 15,
     "metadata": {},
     "output_type": "execute_result"
    }
   ],
=======
   "execution_count": null,
   "metadata": {
    "collapsed": false
   },
   "outputs": [],
>>>>>>> cranmer/master
   "source": [
    "dist.std()"
   ]
  },
  {
   "cell_type": "markdown",
   "metadata": {},
   "source": [
    "## Let's inspect all the distributions we have\n",
    "\n",
    "Here we will loop over the different distributions and make a plot like the one above"
   ]
  },
  {
   "cell_type": "code",
<<<<<<< HEAD
   "execution_count": 16,
   "metadata": {
    "collapsed": false
   },
   "outputs": [
    {
     "name": "stdout",
     "output_type": "stream",
     "text": [
      "Dist_sm6376: std from samples = 0.29, std from dist = 0.29\n",
      "Dist_ry643: std from samples = 0.33, std from dist = 0.33\n",
      "Dist_yr595: std from samples = 0.50, std from dist = 0.50\n",
      "Dist_psa251_2: std from samples = 1.00, std from dist = 1.00\n"
     ]
    },
    {
     "ename": "KeyboardInterrupt",
     "evalue": "",
     "output_type": "error",
     "traceback": [
      "\u001b[0;31m---------------------------------------------------------------------------\u001b[0m",
      "\u001b[0;31mKeyboardInterrupt\u001b[0m                         Traceback (most recent call last)",
      "\u001b[0;32m<ipython-input-16-91e271c7a527>\u001b[0m in \u001b[0;36m<module>\u001b[0;34m()\u001b[0m\n\u001b[1;32m     16\u001b[0m \u001b[0;34m\u001b[0m\u001b[0m\n\u001b[1;32m     17\u001b[0m     \u001b[0;31m# and let's check if the distribution is ok\u001b[0m\u001b[0;34m\u001b[0m\u001b[0;34m\u001b[0m\u001b[0m\n\u001b[0;32m---> 18\u001b[0;31m     \u001b[0;32mprint\u001b[0m\u001b[0;34m(\u001b[0m\u001b[0;34m\"%s: std from samples = %.2f, std from dist = %.2f\"\u001b[0m \u001b[0;34m%\u001b[0m\u001b[0;34m(\u001b[0m\u001b[0mcls\u001b[0m\u001b[0;34m.\u001b[0m\u001b[0m__name__\u001b[0m\u001b[0;34m,\u001b[0m\u001b[0mnp\u001b[0m\u001b[0;34m.\u001b[0m\u001b[0mstd\u001b[0m\u001b[0;34m(\u001b[0m\u001b[0mdist\u001b[0m\u001b[0;34m.\u001b[0m\u001b[0mrvs\u001b[0m\u001b[0;34m(\u001b[0m\u001b[0mn_samples\u001b[0m\u001b[0;34m)\u001b[0m\u001b[0;34m)\u001b[0m\u001b[0;34m,\u001b[0m \u001b[0mdist\u001b[0m\u001b[0;34m.\u001b[0m\u001b[0mstd\u001b[0m\u001b[0;34m(\u001b[0m\u001b[0;34m)\u001b[0m\u001b[0;34m)\u001b[0m\u001b[0;34m)\u001b[0m\u001b[0;34m\u001b[0m\u001b[0m\n\u001b[0m\u001b[1;32m     19\u001b[0m     \u001b[0;32mif\u001b[0m \u001b[0mnp\u001b[0m\u001b[0;34m.\u001b[0m\u001b[0mabs\u001b[0m\u001b[0;34m(\u001b[0m\u001b[0mnp\u001b[0m\u001b[0;34m.\u001b[0m\u001b[0mstd\u001b[0m\u001b[0;34m(\u001b[0m\u001b[0mdist\u001b[0m\u001b[0;34m.\u001b[0m\u001b[0mrvs\u001b[0m\u001b[0;34m(\u001b[0m\u001b[0mn_samples\u001b[0m\u001b[0;34m)\u001b[0m\u001b[0;34m)\u001b[0m \u001b[0;34m-\u001b[0m \u001b[0mdist\u001b[0m\u001b[0;34m.\u001b[0m\u001b[0mstd\u001b[0m\u001b[0;34m(\u001b[0m\u001b[0;34m)\u001b[0m\u001b[0;34m)\u001b[0m \u001b[0;34m/\u001b[0m \u001b[0mdist\u001b[0m\u001b[0;34m.\u001b[0m\u001b[0mstd\u001b[0m\u001b[0;34m(\u001b[0m\u001b[0;34m)\u001b[0m \u001b[0;34m>\u001b[0m \u001b[0;36m0.1\u001b[0m\u001b[0;34m:\u001b[0m\u001b[0;34m\u001b[0m\u001b[0m\n\u001b[1;32m     20\u001b[0m         \u001b[0;32mprint\u001b[0m\u001b[0;34m(\u001b[0m\u001b[0;34m\"looks like a problem with this distribution: \"\u001b[0m\u001b[0;34m,\u001b[0m \u001b[0mcls\u001b[0m\u001b[0;34m)\u001b[0m\u001b[0;34m\u001b[0m\u001b[0m\n",
      "\u001b[0;32m/Users/michaelchess/PhysicsPython/intro-exp-phys-II/distributions/base_distribution.pyc\u001b[0m in \u001b[0;36mrvs\u001b[0;34m(self, n_samples)\u001b[0m\n\u001b[1;32m     15\u001b[0m                         \u001b[0;31m#print n_samples, acceptance_fraction, n_samples/acceptance_fraction\u001b[0m\u001b[0;34m\u001b[0m\u001b[0;34m\u001b[0m\u001b[0m\n\u001b[1;32m     16\u001b[0m                         \u001b[0mn_trys\u001b[0m \u001b[0;34m=\u001b[0m \u001b[0mnp\u001b[0m\u001b[0;34m.\u001b[0m\u001b[0mint\u001b[0m\u001b[0;34m(\u001b[0m\u001b[0;34m(\u001b[0m\u001b[0mn_samples\u001b[0m\u001b[0;34m-\u001b[0m\u001b[0mtemp\u001b[0m\u001b[0;34m.\u001b[0m\u001b[0msize\u001b[0m\u001b[0;34m)\u001b[0m\u001b[0;34m/\u001b[0m\u001b[0macceptance_fraction\u001b[0m\u001b[0;34m)\u001b[0m\u001b[0;34m\u001b[0m\u001b[0m\n\u001b[0;32m---> 17\u001b[0;31m                         \u001b[0mnew_samples\u001b[0m \u001b[0;34m=\u001b[0m \u001b[0mself\u001b[0m\u001b[0;34m.\u001b[0m\u001b[0maccept_reject\u001b[0m\u001b[0;34m(\u001b[0m\u001b[0mn_trys\u001b[0m\u001b[0;34m)\u001b[0m\u001b[0;34m\u001b[0m\u001b[0m\n\u001b[0m\u001b[1;32m     18\u001b[0m                         \u001b[0;32mif\u001b[0m \u001b[0mnew_samples\u001b[0m\u001b[0;34m.\u001b[0m\u001b[0msize\u001b[0m \u001b[0;34m>\u001b[0m \u001b[0;36m0\u001b[0m\u001b[0;34m:\u001b[0m\u001b[0;34m\u001b[0m\u001b[0m\n\u001b[1;32m     19\u001b[0m                                 \u001b[0macceptance_fraction\u001b[0m \u001b[0;34m=\u001b[0m \u001b[0;36m1.\u001b[0m\u001b[0;34m*\u001b[0m\u001b[0mnew_samples\u001b[0m\u001b[0;34m.\u001b[0m\u001b[0msize\u001b[0m\u001b[0;34m/\u001b[0m\u001b[0mn_trys\u001b[0m\u001b[0;34m\u001b[0m\u001b[0m\n",
      "\u001b[0;32m/Users/michaelchess/PhysicsPython/intro-exp-phys-II/distributions/base_distribution.pyc\u001b[0m in \u001b[0;36maccept_reject\u001b[0;34m(self, n_trys)\u001b[0m\n\u001b[1;32m     28\u001b[0m                 \u001b[0maccepted_x\u001b[0m \u001b[0;34m=\u001b[0m \u001b[0;34m[\u001b[0m\u001b[0;34m]\u001b[0m\u001b[0;34m\u001b[0m\u001b[0m\n\u001b[1;32m     29\u001b[0m                 \u001b[0;32mfor\u001b[0m \u001b[0mi\u001b[0m \u001b[0;32min\u001b[0m \u001b[0mrange\u001b[0m\u001b[0;34m(\u001b[0m\u001b[0mn_trys\u001b[0m\u001b[0;34m)\u001b[0m\u001b[0;34m:\u001b[0m\u001b[0;34m\u001b[0m\u001b[0m\n\u001b[0;32m---> 30\u001b[0;31m                     \u001b[0;32mif\u001b[0m \u001b[0my\u001b[0m\u001b[0;34m[\u001b[0m\u001b[0mi\u001b[0m\u001b[0;34m]\u001b[0m \u001b[0;34m<\u001b[0m \u001b[0mself\u001b[0m\u001b[0;34m.\u001b[0m\u001b[0mpdf\u001b[0m\u001b[0;34m(\u001b[0m\u001b[0mx\u001b[0m\u001b[0;34m[\u001b[0m\u001b[0mi\u001b[0m\u001b[0;34m]\u001b[0m\u001b[0;34m)\u001b[0m\u001b[0;34m:\u001b[0m\u001b[0;34m\u001b[0m\u001b[0m\n\u001b[0m\u001b[1;32m     31\u001b[0m                         \u001b[0maccepted_x\u001b[0m\u001b[0;34m.\u001b[0m\u001b[0mappend\u001b[0m\u001b[0;34m(\u001b[0m \u001b[0mx\u001b[0m\u001b[0;34m[\u001b[0m\u001b[0mi\u001b[0m\u001b[0;34m]\u001b[0m \u001b[0;34m)\u001b[0m\u001b[0;34m\u001b[0m\u001b[0m\n\u001b[1;32m     32\u001b[0m                 \u001b[0;32mreturn\u001b[0m \u001b[0mnp\u001b[0m\u001b[0;34m.\u001b[0m\u001b[0marray\u001b[0m\u001b[0;34m(\u001b[0m\u001b[0maccepted_x\u001b[0m\u001b[0;34m)\u001b[0m\u001b[0;34m\u001b[0m\u001b[0m\n",
      "\u001b[0;32m/Users/michaelchess/PhysicsPython/intro-exp-phys-II/distributions/Dist_kw1621.pyc\u001b[0m in \u001b[0;36mpdf\u001b[0;34m(self, x)\u001b[0m\n\u001b[1;32m     16\u001b[0m         \u001b[0;32mdef\u001b[0m \u001b[0mpdf\u001b[0m\u001b[0;34m(\u001b[0m\u001b[0mself\u001b[0m\u001b[0;34m,\u001b[0m \u001b[0mx\u001b[0m\u001b[0;34m)\u001b[0m\u001b[0;34m:\u001b[0m\u001b[0;34m\u001b[0m\u001b[0m\n\u001b[1;32m     17\u001b[0m                 \u001b[0;34m\"\"\"This is your PDF\"\"\"\u001b[0m\u001b[0;34m\u001b[0m\u001b[0m\n\u001b[0;32m---> 18\u001b[0;31m                 \u001b[0;32mreturn\u001b[0m \u001b[0;34m(\u001b[0m\u001b[0;34m(\u001b[0m\u001b[0mnp\u001b[0m\u001b[0;34m.\u001b[0m\u001b[0msin\u001b[0m\u001b[0;34m(\u001b[0m\u001b[0mx\u001b[0m\u001b[0;34m)\u001b[0m\u001b[0;34m*\u001b[0m\u001b[0mnp\u001b[0m\u001b[0;34m.\u001b[0m\u001b[0mcos\u001b[0m\u001b[0;34m(\u001b[0m\u001b[0mx\u001b[0m\u001b[0;34m)\u001b[0m\u001b[0;34m*\u001b[0m\u001b[0mx\u001b[0m\u001b[0;34m)\u001b[0m\u001b[0;34m)\u001b[0m\u001b[0;34m**\u001b[0m\u001b[0;36m2\u001b[0m \u001b[0;34m/\u001b[0m \u001b[0;34m(\u001b[0m\u001b[0mself\u001b[0m\u001b[0;34m.\u001b[0m\u001b[0mNormalization\u001b[0m\u001b[0;34m(\u001b[0m\u001b[0mself\u001b[0m\u001b[0;34m.\u001b[0m\u001b[0mx_max\u001b[0m\u001b[0;34m)\u001b[0m \u001b[0;34m-\u001b[0m \u001b[0mself\u001b[0m\u001b[0;34m.\u001b[0m\u001b[0mNormalization\u001b[0m\u001b[0;34m(\u001b[0m\u001b[0mself\u001b[0m\u001b[0;34m.\u001b[0m\u001b[0mx_min\u001b[0m\u001b[0;34m)\u001b[0m\u001b[0;34m)\u001b[0m\u001b[0;34m\u001b[0m\u001b[0m\n\u001b[0m\u001b[1;32m     19\u001b[0m \u001b[0;34m\u001b[0m\u001b[0m\n\u001b[1;32m     20\u001b[0m         \u001b[0;32mdef\u001b[0m \u001b[0mmean\u001b[0m\u001b[0;34m(\u001b[0m\u001b[0mself\u001b[0m\u001b[0;34m)\u001b[0m\u001b[0;34m:\u001b[0m\u001b[0;34m\u001b[0m\u001b[0m\n",
      "\u001b[0;32m/Users/michaelchess/PhysicsPython/intro-exp-phys-II/distributions/Dist_kw1621.pyc\u001b[0m in \u001b[0;36mNormalization\u001b[0;34m(self, x)\u001b[0m\n\u001b[1;32m     10\u001b[0m \u001b[0;34m\u001b[0m\u001b[0m\n\u001b[1;32m     11\u001b[0m         \u001b[0;32mdef\u001b[0m \u001b[0mNormalization\u001b[0m\u001b[0;34m(\u001b[0m\u001b[0mself\u001b[0m\u001b[0;34m,\u001b[0m \u001b[0mx\u001b[0m\u001b[0;34m)\u001b[0m\u001b[0;34m:\u001b[0m\u001b[0;34m\u001b[0m\u001b[0m\n\u001b[0;32m---> 12\u001b[0;31m             \u001b[0mtemp\u001b[0m \u001b[0;34m=\u001b[0m \u001b[0;34m(\u001b[0m\u001b[0;36m32\u001b[0m \u001b[0;34m*\u001b[0m \u001b[0mx\u001b[0m\u001b[0;34m**\u001b[0m\u001b[0;36m3\u001b[0m \u001b[0;34m-\u001b[0m \u001b[0;36m12\u001b[0m \u001b[0;34m*\u001b[0m\u001b[0mx\u001b[0m \u001b[0;34m*\u001b[0m \u001b[0mnp\u001b[0m\u001b[0;34m.\u001b[0m\u001b[0mcos\u001b[0m\u001b[0;34m(\u001b[0m\u001b[0;36m4\u001b[0m \u001b[0;34m*\u001b[0m\u001b[0mx\u001b[0m\u001b[0;34m)\u001b[0m \u001b[0;34m+\u001b[0m \u001b[0;34m(\u001b[0m\u001b[0;36m3\u001b[0m \u001b[0;34m-\u001b[0m \u001b[0;36m24\u001b[0m \u001b[0;34m*\u001b[0m\u001b[0mx\u001b[0m\u001b[0;34m**\u001b[0m\u001b[0;36m2\u001b[0m\u001b[0;34m)\u001b[0m \u001b[0;34m*\u001b[0m \u001b[0mnp\u001b[0m\u001b[0;34m.\u001b[0m\u001b[0msin\u001b[0m\u001b[0;34m(\u001b[0m\u001b[0;36m4\u001b[0m \u001b[0;34m*\u001b[0m\u001b[0mx\u001b[0m\u001b[0;34m)\u001b[0m \u001b[0;34m)\u001b[0m\u001b[0;34m/\u001b[0m\u001b[0;36m768\u001b[0m\u001b[0;34m\u001b[0m\u001b[0m\n\u001b[0m\u001b[1;32m     13\u001b[0m             \u001b[0;31m#print(temp)\u001b[0m\u001b[0;34m\u001b[0m\u001b[0;34m\u001b[0m\u001b[0m\n\u001b[1;32m     14\u001b[0m             \u001b[0;32mreturn\u001b[0m \u001b[0mtemp\u001b[0m\u001b[0;34m\u001b[0m\u001b[0m\n",
      "\u001b[0;31mKeyboardInterrupt\u001b[0m: "
     ]
    },
    {
     "data": {
      "image/png": "iVBORw0KGgoAAAANSUhEUgAAAe8AAAGsCAYAAAD0RS8PAAAABHNCSVQICAgIfAhkiAAAAAlwSFlz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\n",
      "text/plain": [
       "<matplotlib.figure.Figure at 0x10f110690>"
      ]
     },
     "metadata": {},
     "output_type": "display_data"
    }
   ],
=======
   "execution_count": null,
   "metadata": {
    "collapsed": false
   },
   "outputs": [],
>>>>>>> cranmer/master
   "source": [
    "fig = plt.figure(figsize=2*plt.figaspect(len(ok_distributions_list)))\n",
    "for i, cls in enumerate(ok_distributions_list):\n",
    "    dist = cls()\n",
    "    rvs = dist.rvs(10000)\n",
    "    ax = fig.add_subplot(len(ok_distributions_list),1,i+1)\n",
    "    counts, bins, patches = ax.hist(rvs, bins=50, normed=True, alpha=0.2)\n",
    "    # depending on how you code up your pdf() function, numpy might not\n",
    "    # be able to \"broadcast\" (apply the function for each element of a numpy array)\n",
    "    # but this should always wrok\n",
    "    y = []\n",
    "    for bin in bins:\n",
    "        y.append(dist.pdf(bin))\n",
    "        \n",
    "    # ok, now plot it\n",
    "    plt.plot(bins, y, c='r', lw=2)\n",
    "    \n",
    "    # and let's check if the distribution is ok\n",
    "    print(\"%s: std from samples = %.2f, std from dist = %.2f\" %(cls.__name__,np.std(dist.rvs(n_samples)), dist.std()))\n",
    "    if np.abs(np.std(dist.rvs(n_samples)) - dist.std()) / dist.std() > 0.1:\n",
    "        print(\"looks like a problem with this distribution: \", cls)"
   ]
  },
  {
   "cell_type": "markdown",
   "metadata": {
    "collapsed": false
   },
   "source": [
    "## Demonstration of the Central Limit Theorem\n",
    "\n",
    "ok, let's use one of the distributions to demonstrate the central limit theorem. We will use the same distribution $N$ times.\n",
    "\n",
    "First let's make a little helper function."
   ]
  },
  {
   "cell_type": "code",
   "execution_count": null,
   "metadata": {
    "collapsed": true
   },
   "outputs": [],
   "source": [
    "def do_convolution(dist, N):\n",
    "    n_samples = 10000\n",
    "    q = np.zeros(n_samples)\n",
    "    var_q = 0.\n",
    "    mean_q = 0.\n",
    "\n",
    "    for i in range(N):\n",
    "        q = q+dist.rvs(n_samples)\n",
    "        var_q = var_q + dist.std()**2\n",
    "        mean_q = mean_q + dist.mean()\n",
    "\n",
    "    std_q = np.sqrt( var_q )\n",
    "\n",
    "\n",
    "    counts, bins, patches = plt.hist(q,bins=50, normed=True, alpha=.2)\n",
    "    plt.plot(bins, norm.pdf(bins,loc=mean_q, scale=std_q), lw=2, c='r')"
   ]
  },
  {
   "cell_type": "markdown",
   "metadata": {},
   "source": [
    "Now let's use it for $N=\\{2,4,32\\}$"
   ]
  },
  {
   "cell_type": "code",
   "execution_count": null,
   "metadata": {
    "collapsed": false
   },
   "outputs": [],
   "source": [
    "dist = distributions.Dist_nj18()\n",
    "do_convolution(dist,2)"
   ]
  },
  {
   "cell_type": "code",
   "execution_count": null,
   "metadata": {
    "collapsed": false
   },
   "outputs": [],
   "source": [
    "do_convolution(dist,4)"
   ]
  },
  {
   "cell_type": "code",
   "execution_count": null,
   "metadata": {
    "collapsed": false
   },
   "outputs": [],
   "source": [
    "do_convolution(dist,32)"
   ]
  },
  {
   "cell_type": "markdown",
   "metadata": {},
   "source": [
    "*Gorgeous!*"
   ]
  },
  {
   "cell_type": "markdown",
   "metadata": {},
   "source": [
    "## Now let's do the same thing randomly using different distributions \n",
    "\n",
    "To do this we will use `np.random.choice` to randomly choose from our list. Here's an example"
   ]
  },
  {
   "cell_type": "code",
   "execution_count": null,
   "metadata": {
    "collapsed": false
   },
   "outputs": [],
   "source": [
    "np.random.choice(['a','b','c','d'], 10)"
   ]
  },
  {
   "cell_type": "markdown",
   "metadata": {},
   "source": [
    "Now let's make a variation on the helper function above"
   ]
  },
  {
   "cell_type": "code",
   "execution_count": null,
   "metadata": {
    "collapsed": true
   },
   "outputs": [],
   "source": [
    "def do_random_convolution(list_of_distributions, N):\n",
    "    n_samples = 10000\n",
    "    q = np.zeros(n_samples)\n",
    "    var_q = 0.\n",
    "    mean_q = 0.\n",
    "\n",
    "    for dist_class in np.random.choice(list_of_distributions,N):\n",
    "        dist = dist_class()\n",
    "        print(dist_class.__name__, dist.std())\n",
    "        q = q+dist.rvs(n_samples)\n",
    "        var_q = var_q + dist.std()**2\n",
    "        mean_q = mean_q + dist.mean()\n",
    "\n",
    "    std_q = np.sqrt( var_q )\n",
    "\n",
    "\n",
    "    counts, bins, patches = plt.hist(q,bins=50, normed=True, alpha=.2)\n",
    "    plt.plot(bins, norm.pdf(bins,loc=mean_q, scale=std_q), lw=2, c='r')"
   ]
  },
  {
   "cell_type": "code",
   "execution_count": null,
   "metadata": {
    "collapsed": false
   },
   "outputs": [],
   "source": [
    "do_random_convolution(ok_distributions_list,2)"
   ]
  },
  {
   "cell_type": "code",
   "execution_count": null,
   "metadata": {
    "collapsed": false
   },
   "outputs": [],
   "source": [
    "do_random_convolution(ok_distributions_list,4)"
   ]
  },
  {
   "cell_type": "code",
   "execution_count": null,
   "metadata": {
    "collapsed": false
   },
   "outputs": [],
   "source": [
    "do_random_convolution(ok_distributions_list,4)"
   ]
  },
  {
   "cell_type": "code",
   "execution_count": null,
   "metadata": {
    "collapsed": false
   },
   "outputs": [],
   "source": [
    "do_random_convolution(ok_distributions_list,32)"
   ]
  },
  {
   "cell_type": "code",
   "execution_count": null,
   "metadata": {
    "collapsed": true
   },
   "outputs": [],
   "source": []
  },
  {
   "cell_type": "markdown",
   "metadata": {
    "collapsed": true
   },
   "source": [
    "# Part 2 of project\n",
    "\n",
    "## a) preliminaries\n",
    "From either master or the branch you used to submit your distribution, update so that you have the current version of `cranmer/intro-exp-phys-II`.\n",
    "\n",
    "You can either do this in GitHub desktop by finding the button near the top left or by typing this:\n",
    "```\n",
    "git fetch cranmer master\n",
    "git merge cranmer/master\n",
    "```\n",
    "\n",
    "Now Create a new branch called \"part2\"\n",
    "\n",
    "\n",
    "## b) execute the notebook above"
   ]
  },
  {
   "cell_type": "markdown",
   "metadata": {},
   "source": [
    "## c) Make a $\\chi^2$ function\n",
    "\n",
    "Below is a copy of the `do_random_convolution` function with a new name. Modify it so taht it returns the chi-square quantity that says how closely the observed distribution matches the prediction from the Central Limit theorem.\n",
    "\n",
    "YOu might want to check out the [chi-square-of-distribution](chi-square-of-distribution.ipynb) notebook"
   ]
  },
  {
   "cell_type": "code",
<<<<<<< HEAD
   "execution_count": 17,
   "metadata": {
    "collapsed": true
   },
   "outputs": [],
   "source": [
    "import numpy as np\n",
    "import scipy\n",
    "from scipy.stats import chi2\n",
    "from scipy.stats import chisquare\n",
    "from scipy.stats import norm"
   ]
  },
  {
   "cell_type": "code",
   "execution_count": 18,
=======
   "execution_count": null,
>>>>>>> cranmer/master
   "metadata": {
    "collapsed": true
   },
   "outputs": [],
   "source": [
    "def do_random_convolution_with_chi2(list_of_distributions, N):\n",
    "    n_samples = 100000\n",
    "    q = np.zeros(n_samples)\n",
    "    var_q = 0.\n",
    "    mean_q = 0.\n",
    "\n",
    "    for dist_class in np.random.choice(list_of_distributions,N):\n",
    "        dist = dist_class()\n",
    "        q = q+dist.rvs(n_samples)\n",
    "        var_q = var_q + dist.std()**2\n",
    "        mean_q = mean_q + dist.mean()\n",
<<<<<<< HEAD
    "    \n",
    "    \n",
    "    std_q = np.sqrt( var_q )\n",
    "\n",
    "    counts, bins, patches = plt.hist(q,bins=50, normed=False, alpha=.2)\n",
    "    bin2 = (bins[1:]+bins[:-1])/2\n",
    "\n",
    "    normalization = q.size * (bins[1]-bins[0])\n",
    "    prediction = normalization * norm.pdf(bin2, loc=mean_q, scale=std_q)\n",
    "    \n",
    "    plt.plot(bin2, prediction, lw = 2, c='r')\n",
    "    chisq = np.sum(((counts-prediction)**2)/prediction)\n",
    "\n",
    "    return chisq"
=======
    "\n",
    "    std_q = np.sqrt( var_q )\n",
    "\n",
    "\n",
    "    counts, bins, patches = plt.hist(q,bins=50, normed=True, alpha=.2)\n",
    "    plt.plot(bins, norm.pdf(bins,loc=mean_q, scale=std_q), lw=2, c='r')"
>>>>>>> cranmer/master
   ]
  },
  {
   "cell_type": "markdown",
   "metadata": {},
   "source": [
    "## d) Make a plot\n",
    "\n",
    "Plot the $\\chi^2$ quantity vs. N for N=2,4,8,16,32"
   ]
  },
  {
<<<<<<< HEAD
   "cell_type": "code",
   "execution_count": 23,
   "metadata": {
    "collapsed": false
   },
   "outputs": [
    {
     "data": {
      "text/plain": [
       "[<matplotlib.lines.Line2D at 0x10ca6a050>]"
      ]
     },
     "execution_count": 23,
     "metadata": {},
     "output_type": "execute_result"
    },
    {
     "data": {
      "image/png": "iVBORw0KGgoAAAANSUhEUgAAAX0AAAEACAYAAABfxaZOAAAABHNCSVQICAgIfAhkiAAAAAlwSFlz\nAAALEgAACxIB0t1+/AAAIABJREFUeJzsvXl4Y2d59/95JHmRZNmWbXlfx559C5MwAbJNmh1oQl/K\n0gUIL6SloX2hdAF+/bUklOsHbelC37cFSksbCpSkLC8pTZx9kkw8k1kzM5mxx8t43zd5kRdZ0vP7\n4zlHlm3JOlqc2c7nuuayfHTOo2PPzFe37ue+v7eQUmJiYmJicm1gudQ3YGJiYmLy1mGKvomJick1\nhCn6JiYmJtcQpuibmJiYXEOYom9iYmJyDWGKvomJick1hCHRF0LkCSH+UwjRLIQ4J4S4UQjhFkI8\nK4S4IIR4RgiRF3H+F4UQbdr5d0cc3yeEOCOEaBVC/N1G/EAmJiYmJrExGul/A3hKSrkd2Au0AF8A\nnpdSbgVeBL4IIITYAXwQ2A7cB/yjEEJo63wT+ISUcguwRQhxT9p+EhMTExOTuMQVfSFELnCLlPJf\nAaSUASnlFPAA8Jh22mPA+7TH9wM/0s7rAtqA/UKIUsAlpTymnfe9iGtMTExMTN4CjET6dcCYEOJf\nhRAnhRD/JIRwACVSymEAKeUQUKydXwH0Rlzfrx2rAPoijvdpx0xMTExM3iKMiL4N2Af8g5RyH+BD\npXZW+zeYfg4mJiYmlzk2A+f0Ab1SyuPa9z9Bif6wEKJESjmspW5GtOf7gaqI6yu1Y7GOr0EIYb6B\nmJiYmCSBlFKs93zcSF9L4fQKIbZoh+4AzgFPAg9qxz4G/Fx7/CTwYSFEphCiDmgAjmopoCkhxH5t\nY/ejEddEe93L6s+XvvSlS34P5j1dxvf1la8gAenxIB99lKNf+QqnXnyRsz/+MYvFxUhgcssW5Ph4\nYvfU3o685Ra1NiA/+lHkE08gb799+RjQ8/t/w/HjkqefPn55/57Me9rQezKC0eqd/wX8QAjxBqp6\n5/8D/gK4SwhxQXsj+Jom1ueBJ4DzwFPAw1JKPXL/NPAvQCvQJqVsNPj6JiaXL01NSO0/3LHPfIbG\n/fs55HAQzM1lsbaWC9/5DosVFeS3tsKBAzA8bGzdV16BPXvg1VehpAR+/nN47DH4wAfgxRc59M0f\nMforvwVAxf/+PPa2Mxv0A5pcTRhJ7yClPA28PcpTd8Y4/6vAV6McPwHsTuQGTUwYHwe7HRyOS30n\na5mchF/7NUQwyNBHPoLl3nvxAMePHw+f4q+o4MJ3vsOm3/5tcs6ehfe8B44eXX/dpSX4rd+CuTl4\n//vh29/mSNsA3sYT4VOa563Y/+TbSKuV4h9/k9pHHqT369/coB/U5GrB7Mg1yIEDBy71Lazhmrin\nn/0MKiuhuBgefBBeeAGCwUt/XwBSwkMPQU8P3i1bGHj44ZinLhUXc/Qv/xIqKuDECXjyyfXv6R/+\nAS5cgM2b4Yc/hMJCvF4/Hs/14T8+XwCA/v/1lyyW1+K4cIpNT/xbSj/SNfFvKg1cyfckljMvlw9C\nCHk53pfJW8x3v6tENRRaeby6Wr0Z7NuX/NozM/CLX4DLBVu3Qm0tZGQktsY//RP89m+Dy8XL3/gG\nOXv2hJ96+umnue+++1ac/sorr3BPays7vvUtphoaaP7e93jHO9+5dt3RUSX2U1PwX/8F730vAI2N\nJ/B4ro94jR9x330fBiDn+Ets/dQvEbLZsJw4odJCJtccQghkqhu5JiaXhL/6K/jEJ5TgP/IItLbC\nn/2ZEueeHvjYx1QKJBmmpuCXfgl+/dfhl38ZtmxRqaPrr4c33zS2xvQ0/OEfqsff/jbzZWVxL/H5\nfCz85m+yVFhIXns7tuefj37in/6pusd77lGpIAPM3nA7Ix94GEsgoD4RJfu7MbnqMUXf5PLjq1+F\nP/5j9fjv/x6+9CUV+T76KJw/D5s2KXH+xjcSX3tmBu69F44fV58Y7rqLxbJSZDAIJ08y/+57Of3q\nC/HX+f731Vq33Qa/9muGX15mZzP8m78JQP1//IdKEUXyxhvqE4TVCn/7tyDWDdpW0P97f8FcaQWc\nOqV+hyYmUTBF3+TyYmQEvvxl9fj734ff+70VT5863ULzx38XgOCf/Rn09q5eITY+H7z73XDkCNTU\nqOqYZ5/l5E/+ldm+gwR3bcbe20/FI4+uFeNIpIRvahum6+TxYzH6/vcTyMvD3dwML764ct3PflZ9\n/d3fhe3bE1o35Mjhzd//U/XNn/+5+kRkYrIKU/RN0sOrr6rc+PveB88/v75orsf//t+wsKDSLr/x\nG2ueXvAuUHnfJ1m6431Y5+fhM58xtu78vFrz0CG1Mfzii0r4dVxO5h/7GtLlpOjFV+H//J/Yax06\npD5plJSonzdBQg4Hw7/+6+qbr3xl+Ymf/ARefhkKCzn27g/Q2HhixZ/m5s64a0/suQE+/GEIBOA7\n30n43kyufkzRN0mdX/wC7r5b5d1//nO46y7YsUNttibC7KyqWoHl9E4MFv/gawTtDvUa//3f8df+\n67+Gl16CsjIl+Js2rTlFbq5h4f9okfIf/EHssko9yv/kJyEzM/5rR2HkQx9iKScHDh5UbyKBAPzR\nH6knv/IVxkPZKyp1Iqt14vI7v6O+/su/mLl9kzWYom+SGt//vop2FxaUCP75n6uyxJYW+NCHoK3N\n+Fr//M+q7v1d74Kbb173VFlczqm7HgBg4ZO/xZFfvMqpI6einzw3t5z///d/V/sDMQj8yp0M/ur9\nSiw/8AG1oRrJyAj8+Mdgsag6+iQJ5eTQff/96puvfAWeew66uqChQVUspcItt6jU0OCgqv4xMYnA\nFH2T5PnJT+AjH4FgkP6Pf5zGj3+cxjvu4PWf/hR+8zeVcP7BHxhba2kJ/uZv1OPPf97QJWf33U6o\nuoHsoQH2tA+y4F2IfuJ3vwtjY7B/v6raicOL993M7LbN0NND1//7h5w6dWT5ST16fs971EZwCnS/\n732QkwPPPLP8pvTxj6tN3FQQAj71KfX4W99KbS2Tqw5T9E2SIxRSpYUAX/4yZx96CM/u3Xh27WIy\nGFQlly6XijSfey7+ev/xH2pTdseOcF16PKTVytL9qhIm46nHo5+0tARf/7p6/IUvhKthTp06wuHD\njRw+3EhHR/OKSxZZxPKIEs3q/25kYW5CPREMwre/rR7rKZQUWHK5lit/nn9e3dtHPpLyuoBaJztb\n/e7b29OzpslVgSn6Jsnx9NPQ3Kw2Rb/whbXPl5bCn/yJevz7v69y1rEIheAv/xKA7v/xQQ4/+zqH\nGw9zuPEwj3/n8fDjw42H6WjuWHHp0j2/CoDtlaew+nxr1378cejuVpvMDzwQPryw4GXXLg+7dnnw\n+9deF7znZkLVZVg6+8h/XbM+aGxUa9XVqRr6dPCBD2gvGIQ774SqqvXPN4rbrTZ0wdzQNVmBKfom\nyaFHz5/5TOxO1s9+Vm2Ynjunas9j8cwz6pzKSgb3384uz67wH9+wb8X3fp9/xaWyrJrAvpsQiwsU\nNL28ct1QCL72NfX4859XeXijWK0s/c/3A1D6k1+oY/oG7qc+xZGjR2lsbAz/aW5ujrFQHA4cWE7n\n3HFHcmtE0NzcEa72ObznNnXwu9+FxcWU1za5OjBF3yRxTpxQVScuV9RNx+b2dhoPH6bx5ElO6s//\n6Z+qLtZoPK6lZj71KWSiVghA4N4PAlD00jMrn3jqKfVmUlERtfwzHksffQCZmUH+4WOqwuapp1S1\nzsc/jtfrxePxhP/4on3KiENzczOv/uu/hr2EXn/+tYTKM6Ph84XC1T6Zt3yM6U1b1H7GT3+a1Hom\nVx+m6Jskzl//tfr60EOQl7fmad/SEp5du/Ds2oV8+GG8O3fCxIQq51xNIKBKPgH+x/9I6naW7nwf\nMiOTvNMnYGBg+Qk9yv/c55IqrZRFbgK/cidCStUVLKVKEXk8Sd3nanw+H5ubmsLfN5x7M/HyzPUQ\ngmP7bgVg4qtfD7+hHDlyNvW1Ta5YTNE3SYyeHnjiCZWSMNIYJQT9996rHj/xxNrnm5qUdXJDA2zb\nltw95boJ3HQ3IhSCH/1IHTt6FF57TeW2H3poxcZttM3bWPgfUp8iePVV9TViXyBVRChEwVNPAbCY\nlU3hYCfZnUmmiWJwYus7CdqdFJw9SdWsA4/nerxef/wLTa5aTNE3SYxvfEOlIz70IcMli8O3367y\n6c88o+rwI3nySfX1gQcS8plZTeC+D6kHP/iB+qqnjB58EFyuFRu3sTZvoxF6+y5mG+pUFZAQyrcn\nTdR1dJA5OspCVRUde/cDkP/Cj9O2PoA/28HEvSq1VfQzc0PXxBR9k0SQUpVWgnH7A8BfUKA2LJeW\nVqZ4pFz+PsUIOnDzPfizHXDyJG98+4cs/EC7z1/91ZTWRQhmdmseOE4nFBamtl4Ee0+pZrLx976X\n9re9AwD38/+ZtvV1xu//OAD5L/00eXsMk6sGU/SvNYLB5FvzT51SXZ4VFfD2aIPUotPc3s6bN9wA\ngDeyfLC5WdWQFxZCNF/5RMjKpnOn8prf8d+NZA8P4ncXwjvekdq6gG12Tj2YnYWz6cmHW2dm2Nrc\njBSC8fe8h96tu1m05+BoP0tW14W0vIaOb+d+lgpLyRrsxt5u5vOvdUzRv5YYHYXdu1XEev31aiP2\n/Hnj1+sbru99b0KpGN/SEoHf+R2k1Uru66+rHD4sp3be+16wGZrcuS4Xd6sUie3Q0wBMvOvWxMo0\noxEMkn/05PL3abI1cD/7LLZAgJm3v52l0lJCNhsXdyvrCXeaUzxYLHhv/WUA8l5+Mr1rm1xxmKJ/\nrTA3p8S1uVlF+idPKq+bu+5am2ePRaToJ0iwsJDp227DEgwuG7GlKbWjM1yzGZllxzI5BsDETQdS\nXtN67CwZU9P4C9wAzPzw31faMiRJ/suqp2AiYo+g/TplEZF20QemblGin/+KKfrXOqboXwsEg6rd\n/+hRNXmqtVV5yd94oypx/Nzn4q8xNATHjqnWfgP+NdGY1Esyn3hCrff665CVpRw600DIlkFwmxoT\nKO1Opne/LeU1rU9rVTvvvxOZmUHO+QsEBrpSWtMyP49LG5w+FWEs17P17QSduTha38A9PpTSa6xm\nev8dhLLsOM8fI2t8NK1rm1xZmKJ/LfClL6lUitut7BM2b1ZOjI89pkT33/5NHV8PrbSQO+5QowWB\nI6dOqSasw4dp7uhY52KF973vJWS1KmvjH/5QbSreeadKN6ULew4AoaJSZBpSRjZN9AP3/xLBW9+O\nkBL34WMprek6fhyL309/RQWBgoLw8VBGJt5blfPmtvMxbJ2TRGY7mL7xLgA8r7+a1rVNrixM0b/a\nmZ1VIwdBuWJG1sJv3aqskEHZBK+2EY4kSmrHu7AQbsLy+ePXfgcLChjfv1998njsMXXwgQc4deRU\nTG+dRBFDapKWmJlKuVJFdPZhbbmI355F8J3XEbhXy7m/9npK6+a+9hoA7Vu2rHlu6mY1E7euw+Cs\n3gTQ31CKX38l7WubXDmYon+1o89yvekmuP32tc9/7nMqzdPXp6ZWRWNxEZ59Vj02OKg7Fm/W1wMg\n9QHkv/zLLHgXYnrrJELO5BjWrlYkYPGO0Xf4Fwk3Y0ViazwEQN+uzZCZQeDeWwDIPXKcC2eOcOZM\nE2fONNHSkkBFjJTkHVLrrhb9zs5OXsQFQEVXC0dePsjZNFULAUzd8l6kEBSeOqpGR5pck5iifzUj\nJfzjP6rHn/509HOsVjVwHOB734seHb/8shKJvXtTdoFs1QaYiFCI6YYG5caZJmqaVZWNLK4AYJ+3\nL+FmrEhsjSoi7t27laNHz/DshU68NeVkLCxS0nya+no39fVu/P4Zw2tmX7xI1tAQc65cXvE5aGpq\no6mpjYsXB5ifnye7ehOTVVvICi6xZbybmRnja8cjUFiCb9eNWJf8xuyuTa5KTNG/mjl0SNWVl5TA\n+98f+7w77lDi29YWfURgClU7qxktLydotwMwvc4Eq2SoPacskAPvuhOAvFMpWBpMz2I9dBJpsdC3\newtTU7MUFbmZvlX1G9S+mZxHfZ6W2hnc+0s4cnbgdu/F7d7LwsLym+3QTtWzUPrm4eTvPwZTWoon\nXC5rcs1hiv7VjB7lP/TQGsOxs0eOcKKxkRONjZw9fhz0Qd3//u8r15Byhegnunm7BouFkLZxG8zO\nTvz6GIixYYp7O5CZWfg/pMYY5p1uVvbKSWB78QhiKUDwxj0s5jjCx8ffpSqCtrZ1JbVnoKd2+q+7\nJeY5QztVQ1np+dRLQ1ej5/X5xS/C7p4m1xam6F+tDA2pjdsYs1z9Xi/Xezxc7/Hg93rhox9VT/zH\nf0DkpmxPD3R2Qn4+vP3tCW/ersYSCGDVNowzjfYHGMB67CBCSoI33IJs2MV8kYeMGR+WM63JrfeC\nEtzgPStn9c5s28Ss0457ahbHxb6E1sxaWCDn9GlCFguDu26Ked7w1hsIWiwUXnyTzPnZxG9+HRY2\n7WCutEI16r2e2oa0yZWJIdEXQnQJIU4LIU4JIY5qx9xCiGeFEBeEEM8IIfIizv+iEKJNCNEshLg7\n4vg+IcQZIUSrEOLv0v/jmIT54Q9VE9b99xvLw+/dq7p1JyZWlm9q6Qhuuin12a1AaU8PFs0GIv/8\n+bR5wViPa6WVN9wGQjCxQ9Xr2w4mJ2y2V7VU0W2r7CYsFloblNFcYVOMQewxqGtvRwSDDNZtYcmZ\nG/O8gN1JZ3E1llCQivbEXiMuQtCyZS8AF//un0yr5WsQo5F+CDggpXyblHK/duwLwPNSyq3Ai8AX\nAYQQO4APAtuB+4B/FCLcs/9N4BNSyi3AFiFEmmbOmaxBF+4PftD4Nfp81sgUT6Top4HqVhV5BzIy\nsI+McPJff5xymSaA7bjadA2+XfnHT+7YDYD1pcTr3R2T01gu9iJdTkJ7t655/sKWWiBx0d+s/exd\nO+I3jV2oUPsdla0nEnoNI5yr3wdA2fGjptXyNYhR0RdRzn0A0IqteQx4n/b4fuBHUsqAlLILaAP2\nCyFKAZeUUu9s+V7ENSbpxOdTHbdCKJuFCPRcfmfEeL+O5mZONDZypqwMKYTyl/F61ZMbJPoLm3YA\nsKNzJKUyTQAx0I2lv4vFbAehLSrC10VfNJ3i7METDPYOrLfECkovqKlVwXfsjeoJ1LGpkoDVgqu5\nA9u0wfRLKER9WxsA3Tuvi3t6S0UDAFWtxw3etXF6a7YScOVj72wmq9ccmn6tYVT0JfCcEOKYEOKT\n2rESKeUwgJRyCCjWjlcAvRHX9mvHKoDIJGifdswk3bz0ksrL798PRUUrntJz+YGIOu2Qz8f1Hg97\ntm9ndudOde2LL6rxhmfPqhm4CbhqxiQUokoTPu87VYWN9UTq3aF6ameodks4BeXPy2eyrBjrop9t\nvXMEFow7i5a2dgEQvHlf1Of9mRn0VpQgpCTvjDFHTEdLCzmzs/hLShgvi59u6yypIZBpp3CwE9vY\noOF7N0LIagt357qOvpDWtU0uf4yK/k1Syn3Au4FPCyFuQb0RRGIadV8uNDaqr0kM/Jh+m5Z6eOEF\nOHJEVb/s2wdamWUq2M+fxz43x2xRMZO3qiYv68lDKef19dTO4KbtK44P19cAkHH2XELrlbWoSD9w\n0/Uxz+mqLgcg740WQ2vqpZpTN91kyKE0aLUxvE29/tAPvkVTUxOtra1pa9aauUH5J7mOv5SW9Uyu\nHAyZk0gpB7Wvo0KI/wvsB4aFECVSymEtdTOind4PRIYyldqxWMej8sgjj4QfHzhwgAMHDhi5VRNY\nI/pnjxxRFTpAZ3Mz168z43XmuutUTv/FF5c/JaQptZOjCd/wjj3M123Fn5NH5nA/rskUDMCkxKqL\nft02dkY8NVZbCYeOkfHmObh5Z/TrVyGGxsgbHkc67YTetj3meV01ZXAI8k63wH3vjrtubqToG2Ro\nxzuoOHOI+u6zjN79YZxOZ9qatWZuUN3ZruMvgvzDtKxp8tZz8OBBDh48mNA1cUVfCOEALFLKWSGE\nE7gbeBR4EngQ+AvgY4A+EulJ4AdCiL9FpW8agKNSSimEmBJC7AeOAR8F/j7W60aKvkkCtLdDR4cy\nV9NSMnpKB6Dt+Po5Yt+WLZCTAy0tSvghfaJ/WDUbjWzfhdViYXLrdZSceJnSzuSHhoiediwjA4Tc\nRUwWl694brRGZQ8z3zwPN+0wtJ71NdXVO9JQw2sH1Sbw2bOtFBcXUlS0HPn3VpYQslrJae8mY25+\n/TW9XpznzhGwWpnZvx9OGSv1HNqlmrTKzh1O+8SrxZot+D3lZI4OkNPdAdyQ1vVN3hpWB8SP6t31\n62AkvVMCHBJCnAKOAP8lpXwWJfZ3CSEuAHcAXwOQUp4HngDOA08BD0sZ/hf7aeBfgFagTUrZaOgn\nMzGOXrVz993JlVjabHCrqoDhmLbnng7RlxJXRKQPMLFFbWiWpSD6Ni2fH7z+ljUDU3wF+QTdbize\nKdzeaUPrWQ+papm5/bspKnJTVOTG5XIyN7ew4ryljAxmttUhQpKStovrruk6eRIhJX3V1YQSSJNN\nVm1lJjsH5/gQruFuw9cZQohwiqfgdPo3i00uX+JG+lLKTmBNuYGUcgK4M8Y1XwW+GuX4CWB34rdp\nYhgttdO7eTMj2uN4KZ1IOpqbKa6oUHm4xUWor1c2DimS1dFBxvAwPpeL6YoqygFvwy4Aivq7kl5X\nT+0Eb7h17ZNCsLR7J9ZXDlHZP7L2+WjrHVKR/tR12+Kcqc7JO9dOaWs7FFXGPM91Qr2RdNfWkmPo\nLjQsFlrLt3L9xROUnjsC2bFr+5Nh5obbKXz6+xSaon9NYXbkXk0sLKjKHWBi+/Zwx20gAUfFkM9H\nVaQbZ7pSO01NAPRs2RLeyDxLFiGrjdyxQc6fTKIePSKfH4gm+sDSLpXWqRyIv28gRsaxXujEb7My\ns3VT3POn9qqcf8mF9cseba+ptNahjKKwuZpRWirV/ZeeS78lw8zbtUj/7AnTkuEawhT9q4ljx2B+\nHnbvXjGcI2EaGlSZJtDrdIa9dpL22yFC9CNM1nwI5hp2YgEsbYlXpeSP9GOZHCPkKUPWNEQ9Jyz6\n/cNx17O+ppqtOss9yIz4NQ7TuzcjrRaKunrJWFyMvqbXS0FfD8GMTIaqb19jrhaP1nJlv1zceiLt\neX1/eS2LFXVkzM7AG2+kdW2TyxdT9K8mtI1S3vWu1NYRIpwfX1xcDHvtJOu3A+DUNpD7GlaKs2+b\nyhzmdiXuiFl+UZVLBm+4lTPtx+gdOcvRc89x9NxzdA2ofYKl7VuRFgulIxOwKi+/GqtmvdBRYSyd\nFXTYmdlciyUUoqq3N+o5rlPqjWS04ToCtgxD60YyklfCgqsA+9Q4RdPjCV8fDz2vr39CNLn6MUX/\ncuX559V0qeYEnCJ10X/nO1N77aEhlc8HnJ2dqa0FZM7Pk93WRigjg5HKlblvXfTzLiYu+mWdSvQD\nN9zKgn+K+joXO7cVsXNbEf7AHADS4SDQsAmLlFjfWP81rK8p0W+vNO7xr+f+q2P8nnK0fP7wtiSb\n24RgdLP6HdUPdSW3xjropZvhSi2Tqx5T9C9HvvUtZZ/w4IOwYwdcdx3Ec6SUUjVTQeqif265mang\njTdSTiuUdXcjpGR+1y6CGSujXd921QyWl2ikHwyGSz11v51Y6Ckey7HYKSQxNom1+SIyO4uekkLD\ntzG1V4l+yYXmqJO09E3c4e37o15vhNEt6ne0abgr6TViERb9V15RBn0mVz2m6F9ufOtb8Du/ox7f\neSd4PMoK4VOfWl98u7tVhF5YqAafp0KLiqBDmZlkTU6SGSN1YZTyi6qk0Xf92g7X+eoG/BlZ2MeH\nERPGm7TaX/pPshbmmC8s4vXJ1nA6Jxr+Xaoxy3o0tujr9fnBG/cQtBkvdZ3avYUQUDc6zuYKx4pJ\nWlavF0dbGwFbBmP1ewyvuZrRzUr0NyLSX/KUM1tVq/ya4vRwmFwdmKJ/OdHcDA8/rB7/7d+qkXaH\nD6tmqSeeWDvgJBIttTO9dSsnnnlmhaFaUvcBzGuWzI4TqTk9lnd1ATAXRfSxWhnUvGgu/PdPaOvu\n5WxL/Lp9e4t2T/v2rEjnREOP9K1Hz8R849Tz+cGbovvtxCLocjJcUogtFCL3/MoqHj2fP1S7mVBm\nVkLrRjJeu5OgLYOyiWEy59I3PlFnYo/WmGWmeK4JTNG/nPj615UoffKT8NnPqmP19fD3WuPy7/6u\nGn4RDU30ZxoaEi7TXIGU4Ui/v1x1uC41ptZDV67lu337ogvqQLnyyCmdGsZZWsyMP3olTCS57dpG\n7e749grB6irms7OwDI8j+qJX8Vg1m+RYJmvr0VUT3YdHz+f3N8S2czBCKDOL8bpdWJCUdb2Z0lrR\nOFOk3nTH//PnNDaeMD32r3JM0b9c6O9XkbzFAp///MrnHnxQddjOzKjh5dHQRN+3PTWBcUxNwdQU\n5OUxWKPE2P1m8kJjGxkhb2KCpWw7J7u9jJztZeBC14pzBsvU6zhbjJcN5rUri2a/AdFHCPrKVXOa\nNUpe3za/iOVcO9JmJXi9MY+eSMKif3rlJxTXSZUy6t9szAJiPfQUT2ln+sX4Qpnal3C3nKU4d6fp\nsX+VY4r+5cI3vqE20t7/flUnH4kQ8OlPq8f//M9rUxTz86rO2mJR3jkpUNCveeBt386EVmlT2NoK\ngUBS6zm1aHe8fjNbS/ZQ56onMLdSUAbKa9W5LcY2jYV3HOfQAIEMG4EtxvYv+sqV83c00fd09iGk\nJLR7K9gTn9vbXa2qfVzn2xHa7yl7bg57WxuhzEyGaqP3ECSCvplbdjH9oj/vzGVu8x4siws4z6a/\nCczk8sIU/cuB6Wm1gQvwR3+04qkjJ47Q+EojR0oKoKxMpV70wSY6J04oUd61i5DDQSq4BzXv9u3b\nWXQ6mfN4sC0ukn0hOX8chxbtjtevnUCl480vZN6eQ4Z3nLypibhrWs4qI7TxqvKoQ06i0VehiX6U\nzVzbMfVJprOsiOeea2LAQPduJHMOO2MFeVj9Szg71KZ3dVcXQkp8u3YRzMiMs0J8RhtU2WZp93kI\npL/KZtlmEEdiAAAgAElEQVRq2czrX+2Yon858ItfqNTNTTetGVbi9XnxNHjwLs6qNA+oaD+SdNXn\nA+4BzSJgqxLpqU3KjmD68cdpbmpiKMFKHqcm+mMNsUUfIRgqV69TPhDfWMx6RhnBjdUYn8HTX6ZE\n33K6BfwrRbOiR73RLV2/i6IiN/4kGtB6tYYul7aZW6NtXs9E27xOgsW8QobzisjwL+BoPZ2WNSPR\nLRlMf/2rH1P0Lwd+rrlSf+AD65/3iU+or088ofLuOukSfSkp0EVf2xvQRb+hq4vtbjfBhfW7Wlev\nF4701xN9YFgT/bLBrrjLWrVIf7Q2tsnZagamfcxXlCD8S3Q8/szy+EQpqRlSkf30zuTTML2VSvRz\nzymbihpt8zpdog/QUVoLgPNMU9rW1JndqzyWnOePIQxspJtcuZiif6lZXFy2Q37ggfXPra+H225T\nOXz9GoCj2vDvd7wjtXsZGSHb5yPgdNI4OckbIyOczlXOjs7z5xNeLrOnh4zxcXw5OcwWr9/lajTS\nF8Eg1nNqn2AsAdEPLQVhh9qkrRtYHp8o2rtxLvhZLMhjsbRovSXWRd8zyD3fTuasj5LhYUKZmfh2\np89U9mJpHQA5p1+Lc2biBPMKmN+0E4t/EUdz+oexm1w+mKJ/qXnpJZXa2bMHamvDh/VcfnPbynr7\n7uuUiIz+QKvZHx1VlT85Oak3ZWn1+d6aGjzbt5NbV0dXcTEhiwV7RwcikSif5U3cwbq6uCMCh8uV\noJUO9a27mese6UfM+5j3FLPgSsiomKWtapPb1tIaPqbn+Gd2bjY0xjAWw8UFBLMysfcPU3X6XDif\nL7OSr89fTUeJqnLKOf1a2s3XAGavu3l5fZOrFlP0LzV6amdVlK/n8n0LK+vte69T0aqrSZumpDUA\nsXfvmiEiCaNt1k5HvPksZWYyWlqKCAZxJLiZq6d2BiLWi8VcTj5L7iKyF+fJHh+KeV5xr0qfeBvi\n+92vJrBdpZgyVoj+GSC11A5AyGpldqt646o5oUpP05naARh2F7PgcJE50k/mUE9a14blFE/OG4fS\nvrbJ5YMp+peSUAiefFI9jpfa0Zitq8FfWkz2xCScObMs+vpA81TQIv3pVSI9UF0NJJ7i0TdxB+rq\nDJ0/16De0HJ72mKeU9yjNkqnGxIvTV3Syjsz2tsRmomdHumnKvoA0zvqAfB0KkGeTcffSQRSWBis\nU5/0nKc3IK8fGelvwCcJk8sDU/QvJSdPwsAAVFZCjG5VnebWZpXuaW9h+rYbAbjwzb9n7IXn1Qkb\nKPqDuh1DItYOwSAOzaN90ECkD+DTJmm5emMPJSnuVT4+U3E2hqMhc10EKsoRi348Y16YnsVyvoOg\nRYSj9FTQ3zjsU9OELBZ8u3alvOZqdNHfiBSMv7wWv6cc29Q4zr40j2c0uWwwRf9Sok+xv/feuPlk\n36IvnO6ZPqD88svOnsHeoglxqqI/Ngbj4/izs5krLl7x1HCFKo10tMWOwFeT3dqKdXaWxaoqfHl5\nhq6Zr1edq64Ykb6YGCV3YgSZ7WC2qsbwvUQS2Kqi/bLhMawnz6vZtZ4CQlmp19LP7FCiL4DhkpKU\neyaiccquNptF07O0trZy9mwam7WECKd43OfMoSpXK6boX0peUaP+woPIib2BG8n0LfsJCUHO0VM4\n+gbUlKudidsHrECL4ifLyta8AY2WliItFrK7u7EZ7Mx1aGmnuQTejHybtf2KGJG+5ayqzw/u2IdM\nZug7sLRNfUIoGxoL5/O7y4zND46Hv8jNklMNPh8zOJM4US7klhGy2igc6KAgw8rMTHoN2PQUjyn6\nVy+m6F8qQiE4pG2Y3XJLWOwPv3E46gZuJEF3HgM1FVgCQYSUSvAzU4xUtU3aybKyNU8FMjNZqK5G\nBIOUj40ZWs7/rOrs7HIWRvXbicZCZT0Bqw3H2CDMeNc8r9fnB/ck702/tE3tBSjRV1FyV1nypZpr\n1reoN6PReWhqakt4Jm7c9TOymKzeikWGqB7tS9u6Orro559PfwOYyeWBKfqXivPn1WCUykqoqYlZ\nrROL7s0ROeh05PNbVUWLN4roA8xr5aAVw/FnzQLkXVCOk47r7ojqtxMVm42RYmVeZm07t+Zp6xld\n9G80dA/R0EW/dHg87MPTlaZIn1CIjHlV1uqU2bjdexOeiWuEsU3Km79uJP0VPPMNewjanTgHetV8\nBpOrDlP0LxWvvqq+3nJLUvXh/XVVy99cd13q99OuUiqTpdGbqOY0I7eqkZH4a4VCFHSq9eY2J7aZ\nOVyifq7ulxppOnNm2V8/EMB6XlUDhXYnOXoQkHl5BMtKyQwEEZPThEqLmHQ5k14vEkdnPxla+qti\nMn3R/WrGGpTo126A6GOz4dutdXav9ngyuSowRf9SESWfnwh9kaK/J/mpTABWvx96e8FqZaYoeqoj\nHOkbEH332BiZc3P4C4pZKjQ2ZFxnuERtGhdNjeCurw/761s6WxALc8y4i5Du1NIxS1uXm9iC+3en\n1JQVSd6b6tNSCEH5RD+2+SRnGsRhXJvCVTe8AaLPcr2+KfpXJ8YsCk3Si5QrI/0kWLBnI1GVIh0t\nLXi1btnO5mauT3ATMW94WN1TXR2hGK6VcxHpnZ+99poySYthvlbS06Ndk3jJ4nCJslZwtK/08Lee\nU1H+aEUdqSZjlrZtJfug+v0H9++BsfjOnkbIPauqjiZz8iic9TL/6s/pqtvJ2Fh60yTTJTUsOnLJ\nn5vGOWngk1eC6Hn98J6TyVWFGelfCrq6lHVCQUHY2CxRioZG0ePTjLNnud7jSXpiVr6Wp+8vLuaN\nkRGaB9amJgKFhSy53Tj9fvYuLKxrvlaakuirSN/eeQERYSHsPay8htrzsjl67rl1Z+LGIzLSD+1P\nnzdOrhbpd3jUp7Cds71UVuYSCKR5IInFwni9uu/SnsQ9keLh23UjIYuF0ImTPPd/D5nTtK4yTNG/\nFOgR1M03J22dUNo3GH7sTGUeLpCvbdjJffvIravDF60sU4hwiscep15fF33f5sQF1Z9lx+suxrLk\nJ7unI3zc0a6J2966uDNx4xHUOowlcNrnZ2I09Ug/Z8aHfXAUf2YmZ6tUWWhJR2p/L+sxvkn9bku6\n0i/6IaeL4dIaLKEg1cNLeDzXm9O0riJM0b8UHD+uvt6YfBVKSd9yysB2+g3ONicfhemiPxfHsE3f\nzI3XpFXa3a2tl1xH6miJEmU9xWNZWiSnrwdpsTBRFb26KBGs2s8rgIZALkF/clPBIqnWZu8O1FSH\njdE8XW0bZmcwpuX1S7rTL/oAvdXqjcv04bn6MEX/UqC5T3LDDUkvUTygRGbJZiNvYpKF4SSrRaQM\np3fm44i+kUjfNjREzvQ0foeTxfLkumaXRV+Vbbp62rAEgwRqawikoXM24/zyAPOM5uTTRJFUa2/C\n/TW1jOYW4MvMxjE9idM7npb1V6OLfnFPCwSDaV+/t8YU/asVw6IvhLAIIU4KIZ7UvncLIZ4VQlwQ\nQjwjhMiLOPeLQog2IUSzEOLuiOP7hBBnhBCtQoi/S++PcoUQCCybpKXgwqiL/lCVKrHMudiZ3EJD\nQ2QuLLDochEoKFj3VP2TgKO1NeY5jtOqqWeirj7pqphRLVLWUzp5nUqkl7Yn7rcTDV/T8hzYwZde\nZnR8bSNYolT3aqJfWwNC0F2kNqQ9XbF/V6mwmFvAmKuATP889otrexpSpbdafarLOXt4Q95UTC4d\niUT6nwEiP0t+AXheSrkVeBH4IoAQYgfwQWA7cB/wj0KE//d/E/iElHILsEUIcU+K939pCQTgRz+C\nhx6CY8eMXdPSAnNzyju/sDCpl7WNjuOc9RF0Oelp0AZrdCc2xjCMFrXPVFfHFemFmhr8FgtZAwNY\nZmejnuM4o6wNJuqSd60cLY1I70hJbqfKjS/tSNxOORq5F7vCj4uHR/D7U5s5m7G0RPnQGNIiGKhW\nb1idHq30tMu4X1GidGqfiJxvvp72tWdzC1isqMPqm8Hebm7gXk0YEn0hRCXwbiByOOsDwGPa48eA\n92mP7wd+JKUMSCm7gDZgvxCiFHBJKXV1/F7ENVce8/PwrnfBr/2amll7443wpS/Fvy4NqR17i9rg\nnN9az1CV6mBNWvS1qH2mqirOiYDNRl9+PhA7r58O0Z/JLSTgyidjaoKc2Sny0ij6lpFRHFNTzNmU\nXYKrpzflvHvFwCjWUAjfpmqWstXQlK5wpL9xot9VrER/9oUnaWpqoqmpiZ6e9NXuz+7R/PU3YDyj\nyaXDaKT/t8AfoQoedEqklMMAUsohQLdmrAAiFahfO1YBRJqF9GnHrkweeURF9xUV8D//p6rC+fKX\n4ze06Ju4WmrHiMHaauwtqts1UvSdvUn6sGiduIZEH+hyuwHIvngx6vPL6Z0U/OmFYG6TEviKvk5y\nhnoI2WwEGuqTX1Mjo1mlitrzXPhznGTO+ihKMdLXUztTu5f3RLqKtEi/e+M2c3XRL++7gNvtxu12\ns5DgdLP18O1RnbkbMZPX5NIRtzlLCPEeYFhK+YYQ4sA6p6b1X/YjjzwSfnzgwAEOHFjvpd9iTpyA\nr39dCf1Pfwr79yvx//M/h4cfVs/HaHIKi74W6eueO8fPHjf88mHR397AZG4Ofns2mVPTyh45USIi\n/WwDp/dqkb69o2PNeEar10tWVxcBm42pimrWn4q7PvObtpN7+gibLjZr91ebuqkckPGmWq89P5eK\nLAeF51to8M2ntKYu+tO7lge7TDrzmMvNxzHtpXRuKtalKdFbVEHQYiW/vx3bvI+APT12Ejqze5SF\nd86Zw2ld1yR9HDx4kIO6RbtBjHTk3gTcL4R4N2AHXEKIfweGhBAlUsphLXWjtwb2A5FhY6V2LNbx\nqESK/mXHX/2Vcsn87GeV4AN88Yvw/e+raVaPPw6/8RtrrwsEQBsscswSZFyL8D0NifWY2i9o6Z1t\nDTA0gremguKWjrBTpmEWFqC3l5DFwmx5uSHR79FF/+LFNaJv17zdh6uqkLHe9AyiR/rlg10AzGxq\nSEv7eMb5ZdF/m6dMif5s8jX/hEJU9emivxm6tVp2IRir2Uz12WM0bEDXLMCSLYO+wkpqRrsp7DrH\n8Pbk3UejMV+/i6DdSVb/RWzjxoz2TN5aVgfEjz76aNxr4qZ3pJT/j5SyWkq5Cfgw8KKU8iPAfwEP\naqd9DNCGvfIk8GEhRKYQog5oAI5qKaApIcR+bWP3oxHXXDmMjcHPfqai/M99bvm43Q5//Mfq8b/9\nW/Rrz59XQrtpE+M2mZCrZphQiOwLKrUyv1WlOyZrdZOy52jtbDVes9/eDlIyXVSEzMgwdElfZKS/\nKm2hp3aGteanVJjfpDqV3ZOq5HG6LvXUDqFQuFyzPc/FTLX6vW1OIdJ39AxiX/Az5XKyWLJyY360\nVkX+DZMbJ5hdxWojv7DjTPoXt9nw7VK9JM6zZrR/tZBKnf7XgLuEEBeAO7TvkVKeB55AVfo8BTws\nZVgdPg38C9AKtEkpG1N4/UvD974Hfj/cey9H+r0r29M//GHIyoIXXoBoG2pp2MR1j3uxzs0zk+si\nWKAEeLJGbRq6R4dxFjqZmTc4WEPL53tjOGtGY8JuJ+ByYZueJneV5YO+iTuUBtGfq1ORftaiEuTp\nVPYINKzdPVjm5vDl5+PNzgqLfr0v+Ug/9021UdtbWbJ2+Eyt+iTU4N040e/URL9oI0Qfwo6bORsw\nk9fk0pCQ6EspX5ZS3q89npBS3iml3CqlvFtK6Y0476tSygYp5XYp5bMRx09IKXdLKTdLKT+Tvh/j\nLeS73wXgwq13c/jwBTye6zl8uJnvfOdnNB7pYOzW21UE/Nhja6/VUjupWCF7BpWAjJQvu1dO1irR\nz+5IcK6pVoGTiOgjBPObNgGQ09ZGc1MT7VpaJ52iH3K6WPSUI4BgZha+8tT3/DPPqdTOeI0Se19p\nCUGbjYoFP9YkUzy559TvsKdy7e9wtEaJ/ibvKCK0MbXuXSXq72KjRF/P65uR/tWD2ZGbCB0dcO4c\n5OXRtfMd+Hyqfd/nCzE8vIjHcz1dt71Hnfv442uv10SRvXuTvgW9KavHaaftpSYmz7XSMjdHwGYl\nc2iErIVFw2tNa/dzMisrqslaLBbqVaqlcnyc7W43SzMzWJeWyL5wAWmxMFKRnqIs3ZZ5vrAMLMmN\nR4xEz+ePaxG+tNmYrVT36uxIruTVdU59WuqtXGshvZCbz0yBB3twidyB6NVOqTKSV4zf4cIxOYJj\nIv1DT3y73wGA8/wxxFJqVU4mlwem6CfC08rpkXvuiblROb7nBnA61ZtDX0QZpZRpEX2PJvrDuS72\nFrrZ7nISWvAzUaS6aT0jBit4pCRbN0Z729uim6zFQI/0q73Lnaye/n5EMMjC5s0EsrIMr7XuLWr7\nDAF7egaMZ5xT+Xw90gfCKZ75V47TdqaNtjNtzHiNpcds07M4uwfwWyy8Ouvk9dcH6O5ead6m5/WX\njjzN0FAPbW2n02q1LIWFMc18bSPy+sG8AuZrt2HxL5J7MT2WFSaXFlP0E+Gpp9TXd7875ikyIwPu\nuEN988wzy08MDMDEhLJTLi9P+hb0SH+wMH/F8fESVQFUbFD0s2dmyPT5CLhczOTlxb8ggnkt0q+K\nEP1SzVt/fnf6rIot2hASkQYbgIxAEFtbu2baVhk+Pq2JftXwDJWuSipdlQQDxl7PdV5VUXV7qsjO\n3UF+/i7mV+0Jj9WovYitU30UFto3xGpZH6pSePHNOGcmh57Xzz+/MSkkk7cWU/SNMjcHL72kHt97\n7/rn3qO5SzRG7FNrlS3s2ZO0J41Y9FM4Mo4UguH8lUI9UawqRzwGbYLDJmv1iXvk6JF+lderSleJ\nGJyS4hSvMFKSNawqei2TYzR3dnKmrY3hZHoRgMrJKUQwSKCuZsUnkRkt6s9NopNVz+dfLI69h6FH\n+hvlwQOEI/2ijo2xS5jdq/L6+S2mHcPVgCn6Rnn5ZVhYYHb7ThpP9dHcvI7Bmf6m8PzzqjYfllM7\nKYhidnsXllCIxdoqljJWppcmPCq9U2RQ9PMiRT9Bgvn5LBUWYg8EyNRsiku0SH8uTZF+5nAfthkv\nEnBNj5Pvzie3shK/wSh8NTVjkwAs7Vg5tGamUkX9Of2DiARSXAC5Wj6/oyS26OuRfkFfJ9Zg6hbO\n0RjfpCysCzrfRGhvwunEjPSvLkzRN8rLLwMwsusGPJ7rw5u4Udm0CRoawOtd7sBNg+gvN2WtFepJ\nLadfOD4Rjr7XI1+bdTvfkFwppP5mYb94EUIhirtVpPzGRICRs70MXOhKal2d6Zd/BsCiltdfSrEr\nNCz6O1eKftCeTW9mBpZAAOeg8Vy7CIXC6Z2OdSJ9vyOHXrsLW2CJig2q11/I9zBbWEbmgo+y6eQ+\nCa27ft12Ajl52MeG1SxlkysaU/SNonnqnMkzOMTjttvU1yatvjkdkX6rqgBZ2LJpzXP+7CyWigrI\nCATJHo3/Hz+VSB+WUzzZHR3kDA2R7V/EX1BMbcPN1LnqCcyllrfO1/LTswUqjeUZTE1sasejiz5A\nq131Iuf2GH+NktEJbPMLeN1uph2udc9tcak35NqxJP2RDKBP0to0HrPJPXkslnAVD4fN0s0rHVP0\njbC4GLZObvcYFMmblEMhr72mrm9pUV28O3cmfRv2Vr0Td63oAyxq9fqOvjjll8EguVqkv7Ap+lrx\niIz03Zr52lxD8j/baoq6VfpspEKVQhrdoI6GmJrCM+NDZmUR2FS35vlWu8rxuxIQ/arwpKz4g2Iu\naKJfN7oBgqyhz8ytH9uY19BTPKboX/mYom+EEydgcZGZmk0sOHLWPbW5uUN16L5LbX7R1KTKN4NB\n5VXjSL78MGy/sCX6G8+CZsfg7I8j+r292AIB5gsKCLrWj1JjoUf6K0R/c5pEX0oKu9Wa3Q21ABSP\njCa9nG69sLR1S1QjPD3ST0T0q5MQ/ZoNEmSAsU3qE+SmDXoNvUnL+/Rz5qD0KxxT9I2gDTKf3Bm/\nk9bnC3H4cDNHJhbVkJShIXjxRfVkCqkdm3+JrO4+QhYLi5ui55AX65ToOwYGoz4fJkE75Wgs1KmI\nOburiwJtvbmG5GbiriZvcoSsuTn8bjd92s9aPDqatEVxhtaJu7Qzuh+/HunnJuCtr5usDdTE7z5u\ny3ETEhbKJ4ex+o03zyXCRN0OQsJC1eQQYjF99so6vl03IoUgt6OVYtcOc1D6FYwp+kbQRN+7w1hT\nlc8Xwju1tBzt66KfQmVL4fAoQkomPAXIGHNiw+md/jii36E2IGcrK9c/bx1CTicjTicWvz9C9NMT\n6ZcMqtSOb+tmZvNzWbDbccwvkDFurDJpNcuivyPq82M2G4suFxm+ObINvIbDN0/h5DTB7ExGy+Lv\n8SxYbXjLqrDJEAV9SY61jEMg28lURT02GcLR+kba1w/l5DJSXIklsISj5UTa1zd56zBFPx5SwtGj\nAHi3G4/Um5s7uFCkffR/U2ua2bUrqaEpAJ4hld4YcDhoe6mJ6eG16Q5/ZTkhIcgeGcW6Xsu8Humn\nIPoAfVpTl2NigkVbBgsVa/PlyRAp+gjBRKmaz+NIZg6wlGSe10V/7SYuAEIwU61+F0ZSPHo+f2bb\nJkJWY/YQuvnaRk7S0jdzHeeObsj6/VXa3FzTX/+KxhT9eAwMwPAw5OczV2ZcJH2+ENz4fvWNVsvO\nzp3hoSmJWip7BtXGa6DUw95CN5bFtR+tZWYGkwX5CCnDG7VR0SL9lEU/f7kreKCoBAwKYDxKBpS4\nz25VIjNRpjZzHRGzbY1y/qVXsHinmMqw8VxXNy8efp22rrXGdLodg5EKHl30p3caL3cd08zXPN0b\nKPraZq5zg0S/r1r9DOYkrSsbU/Tjodsh79uXcOfq3La3qQdLS8pyOcnySIAiTfS9Re51zxvT6vUX\nzp2J6qtv9fvDg1N8BlIT69EbYd/Q71lrOJYUMkRxONJXojpeqol+Z1fCy2Xp4xHzcyl0uynMz2du\ntVcCy6JvJNKv1oem7Nwc58xlRrUmraLudsPXJIrembthoh+O9Js2bASkycZjin48Vo03TIRQTh7z\nRdro4NralCJhPdLXm7BiMap15lbMz0b11c/VNkRnCgsND06JRWSk3+9JZTjiMgUTo2T5F/Dlu1kq\nVNYSE7roJ5HeKdQGxrfn56573rRB0ReBAOUDKrU2k0CkP1FZR0BYyB/sJTvN3js63srNLFqsZPe0\nceK5RpqammhtbeXs2fRU2UwUlhLIKyRjYoTM/o3ZmzDZeEzRj4ce6WuDzBNl0a2Ea9IqksrlA4j5\nBdzjk4QsFqbc65ujjYc7cyejPq977nhLUo/M+yIi/YHC4pTXAygfUKmX8Zrl/oHJErW2vasnYZuB\ngh5d9NcvTZ0rLSGYkYFjbBznOnYMzo5eMgMBxt25LMV5I4kkmJnFgLsEiwxRN5X+rlkAacugzVUE\nQP1kH263G6fTycyMwaE68RAiYm6umeK5UjFFfz2kTFn0Q5mqHDAj25bceEQgu6MLISUzpR5CtvU/\nLYwXqvRP4Vh00dc7cafSIPoBiwX9Q/5iRupDywHKBpWdw1jN8qaw356NNzcXy9IS7slpw2uJYJCC\nPlW33p63vkBLqzXsrb/eoHR9Ula0oSnx6CpS69dv4PjEllzltlq4weZrZl7/ysUU/fWI2MQlyc5V\nq1YzbZ1KPtqya01Z0xXxhcabn0vAaiV3ZhZrlNx1OiP9yqkp9F2OomnvuucapWxwbaQPMFKsIthi\ng4ZyAPmDI9iWlvCVFOPLjJ/K0lM8DbPriP46Q1Pi0eVRG+cN3o0ZlA7Q4lKfiooubozo+/aqTnMz\n0r9yMUV/PU6dUl+T2MTVyRpX+d+s3sFlx80E0T13pirjb7xKi4UpbXaufXBtRBmO9BMZkRiD2oll\nAS4dT4OQBYOUDql0TGSkDzBSrCJYz5hx0S/qUZ3JU3W1hs43MjN3vfGI8QhH+hsp+rlK9AsvntmQ\nzVbf9huQVhv29rNYfbNpX99k4zFFfz00k7TB4goaG0+sb6ccBev0JNmT40jA4veTfTFxz3ZYdtec\nMhDpA0xqFT6+N9+k6WQTPf3a63q92GdnweHAl+DglGjUTS6nkEonkrdJ0LH3tJO55Gcqr4hF18p0\nTFj0E4j0C3XRj+K3Ew1d9GOldzJHJ8geGmMhK5MRz/pVVNHod6uZvJWzk2TMb4xgDtpdLObkYZ8a\nxzEep0kvCWS2nblt+xChEPmt59K+vsnGY4r+emiiP1a+Kb6dchSyL6r/FIvZytvF3pxcuV52m3qz\nMZLeAfBqeX3n8DDuKjcLfq0tX2vKor5emb+lSGSk7xkaoPPMGXrbky9JdF5Qg2ZGytaKdDKiX9Sj\n8vmGRb+yAikEtXMLiKW1f9d6Pr+vohiZxO8vaLUxXqnSVgVd5xO+3hBCLA9V2aAUj76Za/rrX5mY\nor8emujP1Bmvx47E3qFEf8qtRNjekrgg2vx+srr7CVoszJQZq5DRyzrdqywFujSb596CAt4YGUlo\nGPoaQiFqIyL9ihkvdQ4HgbnYqZF4OFuUfcBQ+dr9k7HCAkJWK/neac6dfZOeoaF1p2hlLC6SNzxK\nyGIJR/DxCNqzmSv2kCElju61xmXhTdyq5FNj4aEqGzTaEJY7c4s2YGYuREzSajZF/0rEFP1YLCzA\nhQtgsTBbnZy9QHaniuZGStVM3GREv2h4THnuFBcSijGMfTV6pJ+/qoLH2tUFgLzhBnLr6hIahr6a\nzIEBHEtLzOXmMZHjwhYKkT2awpsIkZF+7ZrnQlYrC1WVWIDiQAC7u2DdKVqegUGEhMmKMkIGNnF1\n9DeInPa1qbhUKnd0RrXO3Kwzh8KD0ru60tuwNabPzN2gCp7wJK3mM4YG9phcXpiiH4vz59U/6K1b\nw2WXiWK/qES/t06zIU4ivaM3ZY0ajPIBpt25BKwWXNOzWOaW89OuPjXEI9lpWZE4WtXMV3/tDqaL\nlN4MP6UAACAASURBVFDa+y8mvZ4lGMDRrj4ZDZdHf5Od21SrXtuAHUNxr3oDGjfgghmJXsGzdPg0\nbWfaaDvTxtjwGBlLSzhbuwgJwSuLubS3z/P66wN0dydmAjemefBUj3SFB6UvLSVexrse4UHpnW9i\nCaU+VH41SyWVLJZWkzHnU/9PTK4oTNGPRRomXVnbVLqiKd9BKCuTrN4BMucTs73V7RfGSo2LvrRY\nmHSrCp7MXm0zLxQiRxf9FOwgdHTRn6vewnih9kkmhS5N0foaFv8iI3l5dM600z+41qNmTsvNGxH9\nEm2mwLjB1I6OPii9fGiSSlclla5Kgv4AFQOjWEMhJirrsObvwuncSn7+LqJUxa7LZFk1CxYruWND\nOBeTT4Wtx6LLzXRJNTb/AuUTxkdAJoJvT8S8CJMrClP0Y5Gi6GfN+3BOjuHPyKDXmcXCZiVYxYOJ\nlevpkX5XIMBAm/FIWu/MzerRRvT192Pz+5nJzSWYhsodx4ULAPiqNzNRqEpJ7QPJi37FcBcA43UV\n1G/KJRhYK4h6pG834MFTrDVlJSr6y3YMfStKHqt7lXgO18dw6jSItFppy1Hpt40cqqJH+3XDa83l\n0sGsKfpXLKbox0L3K0nSA79IG403VFSEtFiY36ZSKsUDiXVjeoaU6DuqypBzxj8l6J25WVoFi165\nM5KiyZqOvU1F4nM1Wxgv0EQ/hUi/alQT1arY9zdfVwvEj/Qto2PkTM/gz85iWqv6MYo/L48Jm5WM\nuTmyx8bDx3WTteH66J78ifBWTNIabVCzH+qGkysTjodvryn6Vyqm6MfinFaDnORMW130Bz3FjI6O\n02xX3i+eBERfzC+QP+4lZLUwHcdzZzVjWq1+VvdK0Tcy9CMetokJMkdHmbPaWPRUhCP97MFuRDC5\nHHLViBLVoXUa0BZLilnIsJE5OYljnQaqDM0/f7yqPPHSVCFozV45KF1IGbZTTjXSB7jgUn83daMb\nNyh9rF6Jfu3Ixoj+3OY9BLKyoa0NRlPv0TB564j7P0IIkSWEeF0IcUoIcVYI8SXtuFsI8awQ4oIQ\n4hkhRF7ENV8UQrQJIZqFEHdHHN8nhDgjhGgVQvzdxvxIaWByEgYHweHgyNBMwk1ZEBHpezz4/RL/\ndlXxoEfuRshu1zx3SjyGh3XoTGiRfqa2oZnOSF/P53fm5IHFwlJmNmNZTiyBJXLGEq/gyfAvUjI5\njrRYGC1fx97AYmHIrZq2Ys3MPXH2HAPPvgDAeac9qnd+PFYPSi+ZmsWxsMhMbi6zaTCWa3EpE77a\nDRR9b/UWghmZlHlHyJoz7ldkGFsGU1u1gMgcln5FEVf0pZSLwO1SyrcB1wH3CSH2A18AnpdSbgVe\nBL4IIITYAXwQ2A7cB/yjEGEPg28Cn5BSbgG2CCHuSfcPlBb0ioTt2/FOBxJuygLwjCxH+gDeGrV5\nWpRATj/ciWvAfmE13vxcQhYLGcNj2AKBZdEvL094rTX3pYl+hyvCTz9HPc4dTFxkS4d6sUjJXF0t\ngTjllYMF6nWKY0SXU7OzlGrjIseryqN658ejbdWg9PoRleYZqKlJ2o4jkj67C3+2g4K5aRze8fgX\nJEHIlsl4rRLl4u7EnV2NEJ4kZ6Z4rigMffaVUuqfpbMAGyCBB4DHtOOPAe/THt8P/EhKGZBSdgFt\nwH4hRCngklIe0877XsQ1lxd6amdH8vnbIi2KGypWoj9XXII/O5ucGR/WCWPmZPZW40ZrqwlZrUy5\n8xBSUjIxGR6cMp4GozV9E/diToSfvlM9zhtKXPR1k7XZbVvinjug+QqVRBkXCSBCIfI61SezvgTK\nXCNZMSgdqB9RZZn9tTVJrbcaKUTE+MTWtKwZDX0zt7RrY+wSwjOjTdG/ojAk+kIIixDiFDAEPKcJ\nd4mUchhASjkE6P/DKoDISRT92rEKIPLzbJ927PIjxXx+hn+BfO8YQauNUbc29EQIhjzKKdLeZixd\nlH3BuNFaNPQmrbqBQQiFmCstJWiwwWs99PTOxYhIv08X/SQifd1D32dE9AvXj/TzBoewLSwy4crB\n53QkfC8APVmZBDIzsY9PkDE7uyz6NbVJrReNkbqtAHg6N070Rxs00e/emFr6o5YcAIKvH+WZ/zpC\nY+MJjhzZmIYwk/RhSAGklCHgbUKIXOBnQoidwGoLv7Ra+j3yyCPhxwcOHODAgQPpXH59UhT9Qq0z\n1VtSsSIX31dUTHVvH9kXOsDljLuOXSvRnKoohYno/vjrMVnopg6oGFV2BanOxAXIXloiq7eXkM1G\nj3PZFK3fmXx6Rxf92W1bYGL9PHc4vTMyFnWgSlGX2rjsKUk+9x4SgpnqKtztHbibL1A6PYvfZmOk\nohzjY1PWZ7RWvcF5ulrh7WladBV6pF/SdY5xKdOSmlqxPk7ma7dh72qhesLC3K7rGR09kdbXMFmf\ngwcPcvDgwYSuSSjsk1JOCyEOAvcCw0KIEinlsJa60ZPV/UBkcXSldizW8ahEiv5bTmR6pzVxsfVo\nm7gT5Su7QYe0/L69rRP27Vp3DZvfT2bPAEGLhdlST1Ki7y1U0XeRdwpIj+hXT04ipGR+0yYCEZUx\nAw4lxq7hXsa7u5jBR297O1Vxun+t05MUTI6yZLWpksw4oj+flclisYeskdGoA1WKtI3bVEQfYLqm\nGnd7B57Tql+jvzzxzfT1WE7vtCHkxlgZ+ArLmXK4yJubJqu3ncXq5Dyk1n2NPe/C3tVCzhuHmNu1\nP+3rm6zP6oD40UcfjXuNkeqdIr0yRwhhB+4CmoEngQe10z4G/Fx7/CTwYSFEphCiDmgAjmopoCkh\nxH5tY/ejEddcPkxMwNAQOBxqrm0SZHaqj7gdTvuK4wNafl9P26xH0dBowp47q9GHqOdoJmgd9uTs\nJCLR7ZTnNq8UkEVbBotFZVhDQTYvzuKx2w2Zr+l+O/1FxUiDP+dcvbK1iDZQRRf93lRFv1a9Yed3\nqFRcKn470ZhzFzHpyCVr3kfBxAZN0hKCzmL1cwz87Ps0NTXR1NRET0/6yjhnr7sZgJw3Xk3bmiYb\ni5GcfhnwkhDiDeB14Bkp5VPAXwB3CSEuAHcAXwOQUp4HngDOA08BD0sZbm38NPAvQCvQJqVsTOcP\nkxaatUqHbduSth8u1lrf+9z5K47rlTzWc6309K7fHp+M585qptz5SCHIDKpI8nWRegZOt1Oe27p1\nzXPzFarruDCB1n/dWbM3gcHqc/Vad/PoysqXTN8cuaNjBDMyGCxcf4B8PGY0zx671qCVirNmLDq1\nSVoV/ek1XFvxGv8/e28e3Vaannf+LnYQJAEQG0lwAUlJ1C6VVKWq6uqqruqlutvtXuLOdBzHsZNJ\nMpmxJ8vJmWTsnJwTe844dk4m42RmYk86thM7Y6ft7rbjXmrp7qquRaVSlUorRUncQZDEDgLcsAN3\n/vguKIriAlzwtjslPOf0aery3vtdoKTnvt/7Pu/z+kTxeTAyjdPpxOl0ks83ZgWyF9bOPQdA+42L\nmgxtaeHgsW9oJcvyGHBuh+PLwCd3uebXgV/f4fhVQF2L648KNdI/dozLl8dUafT9aZFDj7gf7AZN\n2+3k9HpsmRV0mb2jYHdUFCob8dzZjorRwJrTTudyhrLZTNjWTkD13QSGFNLPHTkCNx78brL+YRw3\nL+FKR4H6xku2K6S/6O2mXi/TmgePN/4g6buVRrTVoUEqTaZi1nt7qOr16EslABb8Pur36qwPc54+\nzs3fwR+egW514zj3XUOJ9LWyWS76hym6ezAlI1iC96Bdk2VaOEC0OnK3YwvpZzLFhjX6+lIR72qG\nqiQR73I/8DtZp2OhQ3Tm9qb3ztEfRKQPkOsU6+XcXchNFvKmr99lIC3kptcyVQorD2rg1UX6Ir2z\n4K0/kt5Q0jvbB6p45kU9IKNynvFW3AkmSXWK3ULMYmUsLDfsqLkfgu5apD9zoPfdipC3n6ok4Qzd\nQ188uAh/E5LE+mPPAtB+vZXi+W8BLdLfji2krwauVASdLJPoclHeIUcdqpH+Plp9rzLfNt7bHOnX\nnqG0rb6gBtbZEEa5St7rZ6T7MSg/+BLJ+ZWpUOn6ctS21WVMySh5s4Wkvf7xg3l/LyWDAcfqOtL6\n/bGD7qCI9DOHmif9jaxEpU2k5zIWBzbbaMOOmvuhNjO3JxpEX1E/22AvFIxmwl1+dJUyzqA2TVrr\nZ1uk/98SWqS/HU2SvluRa0Y8Oxt9hTqF6K93DzWObn1DeO6YjKQ9LlXPUYO+5oVzAOlW10IQgI3A\n0R1/n+8JICPhXEmgq8ODpzssCtqRnsHGdiEGPQnlezFMiShZqlZx1cYjjhxMqsRQKgBQrFZJRZMs\nx1JEFpobFLMVObOVjK8PQ6WMXyMLZIA5r9iBeWZuanL/zUi/Vcz9bwIt0t+KbBbm58FgAJWDRtxx\npRPXs3OEfj/S3530LZMiV54fCTQtE7SuiUjYuNb8oI79SL9qtrBid6GvVuha3d9ewKdYMYd7G+90\njSlKKOO0eHE440lMhSIbTgeFbQV0NZCqVTozIsVmL+bpNNvpNHVSyh9sRJ4YEnp95/QNotHQgU/R\nApjziZege1ob0s+NnKTcbsccmceS0O7l1cLBoEX6WzE5KRQIhw6BUV3ZbtNd07sL6SuRfk969/SO\ndULxyXF2kh6fbMhHfyt05QodShqpLZlC1+Rou/1IH9h03PQs7++82B0WUboq0veJndTK1Wvcmpqi\n7e49AJIHZJXgScUwFfPIgD+/iqlcPJD7bkdNr38ym8Tlsh74FC2AoBLpuzWK9NHr2TjzDADO2ze0\nWaOFA0OL9LeiydQObLVU3jm9s9TeTlWnx7O6hpQv7HiO9Z4gw7YjwxzrsDXko78VjlQaXbVKWZLQ\nl8u4V9dU3QeAchlnWLhrZAcflmvWUJui5dlPe16p0K0UMJf8jc8gjis++Y5onM6+PnrCIsI8KNIf\nWBR6/4LFhh6Z/lVttPRxpTN3KBHR5P4AUWcPhbZObKkobSlt1llTUjzO29c1uX8LB4cW6W9Fs6Rf\nLuFS/lHF3DuTflmnY73Xj06WWXj14o7n1Nw1C4PNddC64or9gkU0ZfXsoxjaC9bZWQylEvE2OxVb\nx67npdwK6af3dhO1zk9hLuYp+PysdzSejqmld9rm5qBaZSAmSDkZaGwm7m4YWAwCkFa09INpbchy\nuX+Ysk5PTyaFubhzENAsZElHUhmq4pnUhpRrxVzneIv0f9zRIv2tuCdSBBzdPX2xF8yLM+grFRId\ndoom067nrQyIyHblnRtMTi0xNvZgHneT9IcaG/W3HV2Kjj3aIcTTzkiEUDjE9FzjeeM25bsJ2fd2\n6axF+t7lvUl/480/BSDc3088OU5mtbECaa7NSsZmRZ8v0DY5jTe9QsWgJ+1v3joaWaZ/KQjA4pBo\nKwlktCH9itHEYlc3OiCQ0m6SVnxUtNp4J69pcv/s8cepmsx0zM9CShu76BYOBi3S34oa6auM9K1z\nYqew5NxbcVMj/a5wDJvNz9p66f491jcwxlPkjQZKTSp3XErH6qzSnepfyWC1W9koNJ43vk/6e0tI\nl7u6qeh0dK0s76kL75oSzULSk2cYGuqgKjce5YYV8zXnO2KIR6qvR7VlxVYMFIq0ZzfYsDmYHzkL\nwKBGpA/3O3OH4gv7nKkeicOC9D1T2pC+bDKzcfJJ8Yd33tFkjRYOBi3Sr6FSEYVcgB0sBuqBZVZY\n2Ib3If3VgQAAvmTyod/VmrJiTodqGwgAZHkz0r/VI6Lz/iZy+rY6I/2q3kDa7kVCpjO6u8eLZ1bs\nNtaPq9tVwX3HTfut2wAkA80bygE8tiEE+eHB46S6h6gCfatxDBpp6ee8Ykc3otFoQ4DU8EkqegOO\n0CQWLZq0uJ/imfuDb/DKK1dbVss/pmiRfg3z81AogN/P5fEgr7xytWELBstcjfTde5630h8AoHsH\nT3hPWJB+tKs52WHH2gaWfIF8m5U7ipVD3+o6UrVxwb6uUtkchB7q3L9ZLNUlumul8evM3bpFYmGB\nVPR+IdScz+KMLFHR69k4PNLw89SwpLiIWucFWSYHD2Y8w2PK/N3w4HFKZiuLVgcGuYJ/TZu0xYxi\nlTASD2nmX1MxW1kOHEcnVzmU1GZMY02v75mYxOM5j8dznkxGG9VTC+rRIv0atuTzM5kiHs/5hi0Y\nrLVI37FPpN8vFCa+VPIhW12vMjg90iTpe5TUTqqvhw2LmVyXE3OlgnNlpeF7uaNRdMUiqx4feeP+\nTp3JLiHbdEXnGeroxGOxUN1SpPQr+fKEvwd5j9rHfggrpG9YERbLiSYL3zWcXVdIXxk3OGUTL/FA\nnZ3GjSLe6WLNYqUzv4FznwJ4M0gceQyAwwltdhTrp56mKknY7l5Flzt46WkLB4MW6dfQZBFXqlYx\nKZH+TWnv6KbU3kHKYsFUKuFcfdATvma/EHU1SfqKcifVK6Lu1QERBXfHH04p7YeeBZFrTvUF6jo/\nqWj1XbsMSa+RfnyguUJ13N5B2WBAkmUSFguXI3FVg9C3wpJM0VMqkzNbSXnE8021C9IfymhngTzj\nEf99+hc1nKR15DwARzRKI1XbO4n1BJAqZWxjlzVZo4Xm0SL9GpokfUc6hqFUZLnTTka/fxNUzXjN\nl9qS4pHlzZx+s+kdT/x+pA+wOiCiYF9CBekvinRAqr8+DXwt0ncnd1aj+JdE2iw22BzpyzqJDUWZ\nFOvsoLPdpmoQ+lY4JwTpLvQNbtZU7nWIlNZwWrtu02lvjfSnNFsjcVgUpUeSS1DWpj4RUno4Wj48\nP75okX4NTZK+J753J+521OwYurcUc42ROJZcnrLTzprVouo5Np+nlt5RhqqvKflun4pIv7sW6ffX\n10S12uGkaDBhy65iWNvWeSxX75P+QPPpGFkSf4VzKjuot6NrQqld+AObx2ZsLqpI9K0mMZa0yVHP\neIXUVMtIP293s9o9iKVcpG1Km+7chUHx76flw/Pjixbp19A06YtoOLKL58521CL97i2Rfk2fnzs6\n0tQ8U0OxhDO9QkWnI6PYFdQi/UbTO7pyGW9YpGmW++psfJJ0xLuU0ZCLD1pIOFMxrPksWbuDdYd9\np6vrhyxj3RC5Y2MdBm/1oBbph/ru72ryeiOLdi96WaYnpo2sMujpoSLp8MVCGPLa5cMTh0Vev/3G\nzo2BzSJUI/1b7yJp1GzWQnNokT6IEYmJBLS3g1+dAmST9BuM9H2p+ySc/YGIjiLtNlZj+3vX7Ibc\n9DwSEHV0Mp0SkXYtp+9LpBpSiHjicQyVCvmBAUrWtrqvSyik37b4oFd8jzIlKj58uOlB3Z6VdcwF\nQSzeLRbLanB3Osq9S9PYYnE2JB1Xyg/utGad4vvzR4NNrbMbigYjIVcPOlnGNaOdzDFxROj1bTe1\n0dJn2+3kRk6iK+Sw3X5PkzVaaA4t0ocHo3yVRORWSfrdqQRzc4uEFqLYFXfNjqOH0BXUpxHcisla\nfKCPrDIqsWjvJG0xYykWsaXqHwbSq0T52QZ3QPcj/W2kvyhIPzGkzsV0K4aj4oUpA93rGxiLpb0v\n2AMbWYnRZbFbuGF1ky096G5aI/2+SFD1GvthVpFueqa1My2LK6Sv5XjD1Sc+DkDHldc0uX8LzaFF\n+vAA6asZkShVq7iTNR/9+kg/0dZG0WjEvrEOyxvk8xUcih98frg5/5j+pCD1sP/BaVQLyhQteWyM\nUDhENLG/GqVbIf2NBruUE12iiWt7pN+tRPqJ4eZJfyQidkNZhx0dyi6mCfTOC/XVVevDfRazTpEe\n05L0p2ukP6Ud6a/2DLFmbsOUjGAKBzVZY+2JTwDQceV1Te7fQnNokT48MAxdzYhERzqGoVxizekm\nb6mvACtLEjGXIJfuZAJDuUJnJIYMFJrsLN0k/d6eB46H7IL0nZEIVruVwj4513gwincmCMCdioVw\nsH5vmLhC+tal2c2Icm78Iu74AhWdjjFT8zn4WqSfGhBk2d0k6fuDorP3gx1If6nTQ0FvoGsliS2/\n93xjtZjZnGd786H+jQODJDGlSFG1yuuvn3sOWaejfewy+pw231UL6tEifWi+iBsTqZ3lBn3ho4r9\nsi+ZxL+cRlepsuK0I9f54tgJ+nKZ7vQKVUkism2+bsguvPy9ddYLDGsFejMpqpKE6+SLlHP1E3XW\naiPb1oE+n6VzTbh72qevo5Nlkj1eCrrmJIMdq2u41jYomM2Ejwp7YkdoiWhqmemFEKnM3uMot6N9\nfQ1XYoGS0cwtS9dDv6/q9AQd4kUWSGjT0brc7mC1w4l5fQVvpnGVVb243iaaB9e/900uXbpEKHSw\nuv1Kh4PssceRKuWW1fKPIVqkD02TvmlWyN9mO9sbui7mViL9RALHnGgqWvY2Z7LmSaTQyzJxt4vS\ntm7XkJLe8dap4OlPxtBXq6TcfqqW+ou4NSSUwd/ulEgReWZEaic82LwT5kBIqGjCgUGWB0WEPLCy\nhrmzE5vXR6lBNU8gpHj7D56gLO38z2LWKdJlQwmNjNEkiYU+MVRlOBbUZg3gRof4e9c3fwen00k+\nf/BePKsXRIrHdfODA793C82hRfqFAszOikYclSMSfQqpLTrrH+4N9/P/vmSCwaSIhpslfV9URPEL\n2/L5AAtKpO9JJJHqmKIViInPFe1ufMgJQEJxj/QqlsG+mQkAIgdglzAYEtH20tAgy31+qkD3cgaD\nSulmICSkpQsjZ3Y9Z84pIv0hjSJ9gIU+sWsZjjbXWbwXpjo8VIwmnItTmDYat+WoB2uPi2Ju1433\nNbl/C+rRIv3paahWYXgYzPv7yuwEf1pEzvUWcWuoDVrpSSQYUTxxUp69zdr2gy8mnmWh92HS3zAZ\nyXR2YCqVce0xrrGGQFzYCUd61JF+0ivI3ZNcQqpW8U4L0l86ADfMgYUa6QcoW8ws2drQV2V66/hc\nD0GWGZ4Xu5DF4dO7nlaL9AOJRc2ULz+KSL+k05MaOgmAd+KqJmusn3mGqtFE5+xky1//xwwt0ldS\nO2lfrypnTcoletKicBrZZVrWboi7RKenezm1SfoHFekvbivi1hD1Kiml/VI8skwgriiSVJJ+QikY\nelJh/Ok4pnyelS4n645OVferwbCyijeRpKjXEesTUspZRQI70IActYZAoUjHxhpZm52Ud3flVKLN\nzobVRmd+A9e6ipdLHbipt1DWG+hOx1gYu0QyqY31Q/S48L733dFGSy9brGyc/giSLMMbb2iyRgvq\n0CJ9RbmT8Q2octa0hKYwViskHU7y5sYKsCWjkWWHA70s01kskrVY2OiwNXSPrZAKRVypNFVJYqln\n511HRJktux/pG+Nx7NkN8mYrGWdjO5ga0k4vVaMJ+9oyR8MifRIZDqi611Z0jI0DEPK6qChDU2Y7\na6TfeFT5xJrogF0YPr13n4YkEewSLxn31B1CUyFWltWPoNwJBSqkBg+hA84WwpQ1GsgePf4UAN13\ntEu/rCrSTV5vSTd/nNAifYX015XBJo3COi26J8O+vYeL7Iao6346J+bzNNWlap4Loa9WiTk6dx3X\nuBnp76PgaR8TnyviHYRdCpv7QdbpyfaLOsmRoLA3mG0yfQXQcUs820zP/XvViuhqIv0LipXyXqmd\nGuacogh9cj2Nz+ajUjp4aWX00HEAuqfGD/zeNSQPnaFsNONcmKBDI9uHNaVJi9daTVo/TmiRvkL6\nG3WaiW1HjfSXVJP+/ZRQ1NtYeujhZwkCsODevaAc9dUX6dtu31bOb0yGuh3ZAZGjHlwV64W61e0a\ntqJTmZQ1233/+6qld/qW00gNFHOlSoXzCukvDO9exK0h6BL1iOFl7ebZRo+Iubw9E9rZMVSNpk1L\nhqMa1Q82TjxB2doGExOwpN331UJj2Jf0JUnqkyTpdUmSxiVJGpMk6e8rx52SJH1PkqQJSZJelSTJ\nvuWaX5YkaUqSpLuSJL245fg5SZJuSZI0KUnSv9HmIzWAanUzp7/eJOmHfQ8XTutBdEsdYMJiJRRK\nMD2tThJomRL1iEXXwzrzzfWUSNuXTKKv7B6l1kg/7AuoepYasgNCjWKplMl2dJJu0mTNVCpjm5ym\nKkkEfffrH+smI8nODkyVCs5w/fNs7bNBbNUqSaebdfv+u5B5l0jvBDLhhl4ujSB66DhVScITnMRU\nVm8tse86xy8AcDw6u8+ZKmEwsnxKvFhaKZ4fH9QT6ZeBfyTL8gngaeAXJUk6CvwS8ANZlkeB14Ff\nBpAk6TjwFeAY8FngtyRpM2fx28DfkmX5CHBEkqRPH+inaRShEORy4PNR7lBXXLQq5lhhr7pIP7Il\n0p9rd2K1etjIqmtcsmxG+ruTftFsItXlwFCp4lvZuRipL5c3B6HH9ihs1oNapA8QGxxu2mRtKCrk\nppEeH0Xjg0PQQ92CtN1z9csdXXfETi84UN/YxnWLjXibE3OlhCuujayy2NZOqMuHvlJmNK2dPDSm\n5PWPRxsULzSA5TOPix9apP9jg31JX5blqCzLN5Sf14G7QB/wReD3ldN+H/iS8vMXgK/JslyWZTkI\nTAEXJEnqBjpkWb6inPcHW675i4GS2lnxDzSu2gFMhRzmpTnKOh1Rt7pc9XxWpBZkYKak3opWXypj\nDi6KIq5r736BWG1m7i75b18kgq5UIuroomC2qn4mgGzfCDVxY1yZDdwMRpeEX9Bc4OG007ySunIH\ng3Xfr2tc/B2YGxyu+5opt3gR9obu1n1No5joFsqnk4mgZmukhk5QtNjoWU1hjGnzckmdFbsJXntN\nM5lrC42hoZy+JEkB4CxwGfDJshwD8WIAaslaP7A1P7GkHPMDW/9mLSrH/uJQI/2ewYZVO3DfTjns\ncFHV6/c5e2d4VwTxSoBzQ71PSVcihVStsuxyPBQBb0fUtzfp+5VJWUFv852zVbOVqlIIzqrcTW3F\nsOL/87bZTDAUITh/30Ig5BMvXk+dkb4+n8cxM0MFmO9vgPRd4oXToyXp94gXy4mUNqMNAWS9+fQE\nhAAAIABJREFUgfhREYl3fPBDTdZYCxwCtxsWFmBmZv8LWtAce7PDFkiS1A58A/gHsiyvS5K0/bV9\noK/xX/mVX9n8+fnnn+f5558/yNsL1JQ7KiNQjzJQY7FLfQE2sHyfeP0bG6q/RLeixon59n+WWqTv\ni8W4ce8m0UQUb1vH5u/7lElZQV/zpG9KRtEr5mHGYgHo2PuCPWBcTjO4ukHZaGRpsB/rSozcFguB\nJU8XZZ0ORySKpbR/Ltw5MYWuUmWszULBbKFewW0t0u8J3YPBxtxH68Wkrw9ZkjiSXuJWIUelyR3X\nbogdf5K+G2/S8cHrLH/urx/8AjodvPACfP3r8IMfqO56b2FnvPHGG7zRYB9EXaQvSZIBQfj/WZbl\nP1cOxyRJ8smyHFNSN3Hl+BKwdfhpn3Jst+M7Yivpa4aacmdgCFTU5Lw10nc1Qfrp+7ry3uwGS0A4\nHCez0thQEHe0ftKPKqqXgUyGWV8nxbEHteD+Gul7e1DXo3wfHZP3Dbe6omEYVi/Z7Lwq7hU7fIjy\nDjurssHAYpeTQDJFIJ2hOLRzg1oNrnFhpXylvbHeiHCHhzVTGx1ry3hz62jhh5kzW0j1DeNemME9\nfZPYiac0WOV+k5bp4stceuedzZrLQZmw3b07g98/yikg/p/+iGuBJ3A4TDz11KkDuf+jju0B8a/+\n6q/ue0296Z3fA+7Isvxvtxz7FvA3lJ9/HvjzLcd/WpIkkyRJQ8Ah4H0lBbQiSdIFpbD7c1uu+dFD\nlrdE+uqUO96Y+IexcGCRvkjvFApVKuXGqMSn5LojvftLItNOJwWjEXcuj2l17YHf2VZXcWQyVNra\niDqa6w4G6Ji47w3fFQ03dS/HB9cACB8f3fWcOaW2MlxH01StiPt+ow1xksSUS8Qvx5a1G5YeOSKs\nEoyXvsPU1E2i0dCBd+im+0dZNZjpTMfoL63jdDoP1IRtY6NK9TO/AID7xgd4O46TyWjTcNZCfahH\nsvkM8NeAj0uSdF2SpGuSJH0G+JfApyRJmgA+AfwGgCzLd4A/Ae4ALwG/IMubFZxfBH4XmASmZFl+\n5aA/UN2IxcSYRLudgppIXZabTu8YSyX8q5nNSNGfVTfyz5LL41jOUDYaeNtgJLK6d7ONrJOIKDsC\n+9yDEV37FeEYGvcPkkmsqnqerejcSvqRJfXFPFnGrkT64WO7u6HOKZLU4dTepG8vFOhYDFM2mRhr\nazx1MukSKZ5j6f0H0ahFZFREw6ORSfr6Ounqsh58h65Oxw2l4axbI0uGsruHjaPn0BVydFx9Q5M1\nWqgf9ah33pFlWS/L8llZlh+TZfmcLMuvyLK8LMvyJ2VZHpVl+UVZljNbrvl1WZYPybJ8TJbl7205\nflWW5VOyLB+WZfkfaPWh6sIdsbXn+HFVMsKOtTS27Br5tnbuldSRY180gl6WWXY4xJ83NlSRYk9E\nEE/m8AjWkREKdXyeiJLX3076w8q2vnr0SeRic4mLto0VLLEFigYTyyYrpkKeLjWGaIA7mcKUTJE2\nGUn7d681zHn3j/SXohsEZsRzBHsHSa5bCYUb6+SdVIq5Wkb60cMnqQKeuQn0Je2i4xrp++5qZ8mw\n8tHPAWC/+F3N1mihPjy6HbnjosV9we5TJdf0RYIAZI4cpVhVJ7UcUEYRhr0+NgwG2stlbMqkoY2N\nLDdvzRGN7e8l0xMWpJ86dnifM+8jvEukPxIRyp21o4/Vfa/d4Ffm4Ua6A8w5xHq90fhel+yK4bkg\nALdcjj1f0vHOTgptVpz5PIXQItHUMouRB5u1CkUDz66J9MXS8ecxGobJFxp78c87eigbTAysZzSb\npFWwdTBrc2Eol/DO3tNkDYDrm5H+Zc1klZuk/853W9LNv2A8uqRfi/SPPadKrtkdCQKQHjmi+hEG\nwqKOHfV6idhEXtmTERFqpQKdHUMUC/tH271KPj91vP5nCe8Q6evW1+lLxano9Kwfar7Q1h8SRLXQ\ne4hZu2IjHVWXDhmeDQJw0+3Y8zxZkkgOiij8UDaPubOT/LauVkOlwuNK09PckcdVPU9ZbyDmF0qU\nkZh23vc3HaIY3TN5W7M1Qm0OcnY31pUU9rA2ssrs8ScoOT2Yw0FsIe2awVrYH48u6SuRfm7khKrL\nfRFl0tVBkL7bQ1ghfXe6sTSDVK3SExHRc+pY/c9Sy+l3zi9sDlRpv3EDnSwT8/RTbVYiKMsMhsSL\ndb5/lDnF4qAn1nikryuXCcyL+slN196kD5AcEqQ/ENvZX+jEcoy2aomEL8C6Q30RPjIg5JqHNST9\nGw4RhfdM3NJsDSRpU8XTfftdbdbQ6Vj9yGcB8FzRZjZvC/Xh0SR9Wd4k/fzQcVW38CmTjdKH1I1Y\nNJfL9MbjVCSJmMtFpF24RLozjVn1OpPLmEolUu02Cl37E2INOauVeJsVQ6GINTTP/FKIyg9Fq/xC\nb/NaaufqMp2ry+TbbNw0rnG7TeSkvfEkugY9a3yhRUylEtnAAMuW/UWkiaEAAAO7OIk+rjTVzY0+\n0dBzbEdYIf1D0WBT99kLt+zC08k7ew9Dubm5wnshcuoZAHpvva3ZGrUUj/f9Fun/ReLRJP14HJaX\nKbXZKHkbbwrWra/QtRyjqNezotKSeTAUQifLLNpslI3GzUjfk2ks0vcqqZ2gr3H9+6xTmJ8NxONY\nHVZc4yKFsNhbnw/NXhheEPn89dMnGB7qwD3UQcreibFSwRWtbzB7DX1TIuWwcv5cXecnFYuG/njq\n4bGQsszjcbHDCo6qS+3UEO0bpQoMJhZZW4po4q+/arKS8gcwlEuMJJqTvO6FpdPPIksS3XffR69R\njWL1qReR9QYc4zchfbDfUwv149EkfSXKXx8cUaXcaZsSW+2lLg+yoe6m5gdwIiPUI3M2EeHXcvru\nTLqhQpdXKeIGvWpIX+wMhlPLWAoFXMEQFUlHpDvQ8L22Y3hRIerT99NnYcU6unN8gnQsykqd3veb\npP94fcXlfGcHMasFc6lMb+bBGbAdoUXc+SwpYxvxnuZebkWrjbk2O0a5ypnsumb++uFjZwE4saRd\nLrxgd5EcPoW+VKTnzmVN1qh0OFg/+1F01Qp873v7X9CCJng0SV+xDV7sVNcdmn7rzwCYaLCTcyuO\nrAtN/qziR7NqMrFuMGApFmnfqH+ohU8h/TkVkf6MEukPp9IML0bQyTIhj4+Ssbk+XF2lQiAsCGrl\n1BbSV+oIQ8k0TrOZah1WCeZsHs/CEhWdjtUz+w85qeGeYuF8KPZg4dh7Q/QhvNs1ICwCmsRYh/je\nDye188hZOCl2JKcWNbJAVhA++zEA/Nff1GyNWoqH77akm39ReDRJX5kKFXb173PizuicFS+NSbt6\nH5nDCunPtSv3kCQWlKjfs6WYm86s7Crb1K+sYU+vUDIYCDeQz6+hFukPpdIcCok893SPuu9kK3ri\n85hLRWJ2J0XX/a7eWqTvi9Sf3umfnRdpsL5eqg00Ud1WPtuRbWohz3VB+pe7mhsOU8NYh/hMo0nt\nirnRwycomcwMLMdx5tb2v0AlFhXS7735lubSTV5+WUjUWviR45Em/bhPHcG5F0TENe1onGgBjOvr\nDGazVHQ65pUCLsCC8rNny5zXUkmmuEuTlPXuFCC8dKoqota01ULO6cBWKnFMkW4eBOkPLEwAMNX7\noBd/1OOiKkm4E8sYSvUVJQMT4rueHQo09Azjm6Qf3yQwczqNPThPQafnuv1gDF5vdCqkn5pHp9HA\nk4rRRGRU7HIei2vnVJkePEbW6cWWjjGQ1qbpLB84SrbbD8kkXLmy/wUtHDgePdKvVjfTO2pIX1cu\n4wrPU5UkZu3qpkC5791GB0Q9Hkq6+8ZhISXS9y7Xl+teuyxsCW53Ofa1XtgNmUPCd6gnkaKq0zHn\na54MBxcF6U/6H/x+S0YjcUcnOlmmO1nHAPNKheE74sU2caQxRdGSrY01qwV7LoddKa56bohazC13\nD0W9ulrMdqRNVhY6fZgrJXoWtGugWjhxHtCW9JEkls6IaP/s4qRma0wcEp5C0//X7/DKK1e5fFm7\nsZAtPIxHj/SDQdjYIO90kbM17u/ujYXQl8vEXS5yRqOqR/CMixTD4rYRi6EdIv294JgRKYWlkyfq\nsl7YCZlDAQB0skxyaJDCLgPV64U5v0F3fIGKTs/sDi+QRbdI9/TG90/xxF56Fdt6lmR7O++srvHu\nex+wnKnT8kKSmPGLaWa9ir9+jfQ/UKHY2gvjPlEQ7p+5eaD33YpaXv9sfBapop10c+nsc2KdJY1I\nH7g7LArTvVev4vGcbxmw/YjxyJH+xDe+A0DMo+4ffu+SiLTm/X2qn8F9R1H/bCP9RSXSd6eX0e2T\nUzVUKniVhqXggHoSSx+67zAaHVXfaFZDf+geEjIL3QOUdngp1ki/rw47Br/iqnnv0DC2dhtOh51i\nnWkhgNle8f32BkOYyxVcypSsawdN+l6F9Ge1I/01bw/RTiftpTyuGe0i4+iJp6gYTQwnlzCkG5PW\n1ov5wHEqbe20Td7ApHFxuoWH8ciRvqT8w4+41ZH2fdJXRxw6WcZ9V6SXlrofJP2cwUCmvQNDtUpf\nce/oZziziqFUJtrtZcPWpupZAMa3jA4ZMztZiakzRKthcF58v7N9O8sh5xWVUX9kn5yxLDNyW9xr\nfCSg6llme5VIfz7E6eQy+nKZzPAQmQMeSDLpHqSk0+MNz9JRPBhL4p1wu09M9/Jr2EBVttiIHb2A\nDpnOd17WZI2K0UTmuS8A0PX9P9ZkjRZ2xyNH+h1BQdpxn7qB371KZBLsVffSCKysYMpuEDWbWbc9\nLPmMO0UkPLSPn/loUuSpZ4ebU6FsyKbNaV2d3aeac9aUZQb2If2Ew07ebMK+vkHn6u5KFHcyhTOV\nYt1iJtTTvet5eyHicrBhMtGZWeEZxaoicbZ+2We9KBpMTLkGkJA5ldKugWrML3Zlvbe07WhdfEzk\n9e0Xv6PZGukXfxoAZ4v0f+R49Eh/TnSKqiniGot53IlFKno9iz17T2XaDceVIu2dzp3rCQlnFwBD\nhb2dO4+mDob0A7PT1KoB9sSug8zqgiUaonNtmazFRtS9M1HLkkS4T/yubymy4zkARydEAXd8qF+V\nMglA1umYVuYBn42J7/2Htj6S6YOPxse9Igo/0+R3uBcmewYo6vS45m5jXqmv7qMGtWKu7eJLXH77\nLS5dusTY2MGmlFafepFyu522yZvYFoIHeu8W9sajRfrZLLaleWS9gYS38Ui9OxxEJ8uk/IEd89X1\n4IRSpL3TsbPGP94lSH94j0hfyuUZyqxSlSSCgeYklkMTE5s/u5eay6+W3/wGAPd83cRXZ0iv7ZzC\nqZF+f3h30h+dFKR/e1jdjqyGyW6R4mmrVkh5+ikOf5xy+eD/2t9W8vpnk00MitkHRYOR2+4AAL23\n39FkDYANbx9BmxNzfoMj8VmcTidrawfbHyCbzGRe+CkAut9qdef+KPFokf7YGFK1Sm7oGBVj4yqV\ntruiPX3ao96Z8bhC+uO7RPrxLpHzHtmD9NvGJ9HLMsn+XgqWesd57wBZZnjyPunbg/fIrK2SatD/\np4a+8Q8ASJ47ylDAhizt/BmWapH+4s6pEFtmBX84SsloZHKgueHsUwrpA1wZeoxYncqoRjHv6CFv\nbcebW8e7ql0U/q5d7DA7Ln5bk/GJNbynNC76b2jXnbv8aZHi6Xnzey2P/R8hHi3Svy507blRdQNC\n+hUL3Vmfb58zd4Y0OUHf+jpFo4nJXboRlzvtFIxGPOUypjUhT1xeXiEUSmx25tpuCu+g8JFhVc9R\nQyCzSsfaKitmUQj2xhexGnWUVExpsheyeBeClPV6QsOBPc+N9Xgo63R4U8vEb9wiE42S3bg/KjJw\nR7yIgkcOU1LpbbS5VmfHZs0idPwCRY2cKmVJx8KQqBccX5rWZA2A95xCQHBkbgyXw3zw4xMVvKtM\nBuv/4AeaEfLa4x+n5HDTvhDcbJhsQXs8WqR/Q8xrzR45q+ryoYSIqoI96pQ7owtCYrk6NIJ+txZ0\nSSKuWBd0LoqXTLkEVqtnszO37aYoli4dbo70zytjFsd8AZKdXRgrZQY21Kl3zieUecGHhijvo/Wv\nGAybPjxHlsI4zOYHWvIDisJq5sQxVc+yFWcWFjdrFs6Muqld9WJh5AygLekvWO2sun1YNlY1dd0c\nd/jIOjx0JBZxzWjk5W8wkPnEXxY/f+1r2qzRwkN4pEh//W2RB82ONk76+kwK32qGotFIxONVtf7h\nhCCdzNDeYw3jLpHi6Vx42M/FlC9gmQlSliRiTRZxa6R/2xtg0S1eZIdVFghrpD93bLSu82uKnI6J\nB5uAzLk8vTNzVCWJuaP13WsvXJi570w5HNRu+hTAwrAg/dHwjHCS1AKSRPCxjwDw+Jx2HcBVScf8\nk2LoSeDyS5qts/ypvyJ++NrXWimeHxEeHdIvl7FOi+JgTkWk337rEgDzvX6qW6wTGsHRqNgpLB/e\nm8yiboX0Fx8k/cj6BsW700hVmbv2Dibr7U7dAdZcjtHUMhWdjruefhaVZrXDKvLR5vwGxzJRqjod\noTrtEhZ6a6Q/9cDxwL0Z9NUq8wP95JvoPwBoz+Y4Ho5QUbqVD8/c0JRY1pxewrZO2koFAhqqeGbP\nfxSA88EJJA0/T/AjwhwtcPllJI1eYuuPPUu+yw1zc/DBB5qs0cKDeHRIf3ISfbFAxuGm0uls+PL2\nm2KXMDOgLro2ra0SWE5RlqR95+rG3Irv/LZIv6DTc2I9B8CdwADZinpN/dGpOfQyLA4GyBvNTZH+\n0OwYBlkmGhihUKcT5oJSYG2fmUOv5NnHxu/iVfyELrqcBOebsyt+bGoOnSxz3esnabTSubZM97J2\nKRGA9zrF5zpy9xqRBW3WSgyNstbloSu7zpHlRU3WAEgNnWTN2491JYl/6ro2i+j1RJ/9lPi5leL5\nkeDRIf2rVwGI9gRUXd5+QzTETA+qI33fzavogDm7nYp5b8VNsquLMmCLRzFvKzwOz4oXwViPumJy\nDccmRZPa3KgY9xhzdlPWG/Bn17A22FU6Mi1qJaFj9Q9Tz1vMRB12dOUy3YrVcjGR4vSikHHeOTxC\nbp8Gtf1wTnHofLtvmPccQqI7Ghpv6p774aIy0/aZ2AylnDaum0gSc0q0/5HwXW3WUNYJPi2i/SNX\nv6/ZMpcHxcjS3B/8Ia+8dKVlwqYxHhnSj3z7FfH//sanJelLRdruCBvYuX51uvHu6+8DcM+5/y6j\notcTtFiQZJn+LfpoZz6PL5agYjIyqWJSVg2p+SRH74li45UO7+aaUY8grIFU/akJXSFHICgGoIeO\nnWzoOYLdYu3+ebHekbHbmMoVZvp6SW+xnFaDno0sg7EkeYOBq75+3nOInczograkf7PTw7rJSs96\nCk9KGzkl8CDpbx8JeYAIPv0TAIzcfBO9RtbR0+4RCj2DWJMxApFCy4RNYzwypG9R7JTD/sYVLz3h\nOXSlIgtdbrJWdb4tvusiX3lPab7aDxOK/n5wC+k/HhOF4Nhjpyjr1dUVAAaWEnQU8iQt7UQt9+2h\nF3tEm39feIbJ4CRrdUzwso+9h6FSYrrTTbazsfkCU36R1x+cEymK41eFwdq1OovBe+E5pUh9LTBA\n0WDgit1PVZIIRGdoq2gUgSMKoNd7xO7puFYpESA+NErK1oE7t4pbK3UNsOI/RLp/FEtujeEpjQzl\nJIm0UtB1fef3tVmjhU08GqRfKtE5I7Tfkd7GSb9/XvGH7268i3dtIYRnfh5HaI68Xk9wl6as7ZhQ\nXi6BlfszXs8rzUyRp843/BxbcXJR5MrH3AMPzAhe6BWkP5IOY3PZqOxTvMtX0uje+joAl1x2lpLB\nhp5jrttHVa+nOxwnsLKKPxiiYDRwe6Q5KSqyzMcUQ7f3lXutGcws+o+gr1Y5v6qtdPOqX6Qrjk3d\n0G4RSeJqQLwcB997Rbt1gDmloHtSETNogeQX/nsAul75I3TrK/uc3UIzeDRIf3wcfbHAcpePfFvj\naYP+kDIJSgXpG3J5XlQi5nt2B5U6fWQ2SV+J9I2lEufSwm8ncuFcw8+xFWdDQQDG3A9aOCx1D1BF\nIrCaQF/YP59u0RUZnBY55YUTfVSquYaeo2Aysn54BJ0s84Vp8Uw3RwYpmtRZXNTgDs7jz+ZYbbNw\nb4tZ29SIUG09tbK7/cNBYNw7TM5gwh9boD0Z2/8ClbgyJHYUA1e+p2mKZ/4pId08MnEVXXZ9n7PV\noRAYZfWJj6PPZ3F95w80WaMFgQ896V++PMbt//RNACIqUjtUq/QGBbG926auO/SoQta3nfWldgDm\nzWYqRhOeXI72UpFAeBFztcqsz0ve1bj6qIbuWIK+zDI5s5W7rgebzIomC7MdTvSyTNfc/kM0Lqyt\nYsjmWPZ6SHaqGxJfG5x+NiFUQ1eONTYhazti8Syeb70GwBvdg8yHy6SWswBMK6T/5EpUU+lmWW/k\nlk/0YgSuaxcdz3p6SVg7sS1HNU3xbLj9hIdOYSwVsb/1Lc3WSXz5fwLA883fbmn2NcS+pC9J0u9K\nkhSTJOnWlmNOSZK+J0nShCRJr0qSZN/yu1+WJGlKkqS7kiS9uOX4OUmSbkmSNClJ0r85+I+yMzKZ\nIr6Q2M6HVRRx3Ykl2gs5NtxeFs0q8uiyzFHFWXO8jiJuDVVJYmUgAMDI6iqHFfnmzaHmGrIeGxNF\n1ztDJ6js0G9w1yHkou7p/Quen00lAZg801gBdysyp8S11kqFFaeDWb86G+UaLOsVzk+MUwXeOPoi\nFssRimXxOaO+QdasnfhKOQLZdFPr7IcPlBTP0PV3tVtEkni3V3QtD77/qnbrAFPnPwlA16v/RbM1\nMs9/kaK7B+vcXZxj1zRb51FHPZH+fwQ+ve3YLwE/kGV5FHgd+GUASZKOA18BjgGfBX5LkjaTxr8N\n/C1Zlo8ARyRJ2n5PzWC7LYzSwrt4vO+FwJwgv/ipxx7If9cL7/oaXYUCRVs78+07O2vuhpVBsTMZ\nWVnhUI30A4GGn2ETsrxJ+rcPn9nxlDsOoahxz+wtBTRmUjy9mkHW6Zg6fUL1I20MBzZTXncG+lhb\nbS6f+5nFGQyVEpcdA8Q6HtxZyZKOsW6xkzgTnyGWTDa11l645TtMWW/AN3MHp4aDVb6vSFF7Ln2H\n6cnrrK01NwRnN0yd/ThVScJ+6RUMKY1SVgYjyS/9bQAGvvsNbdZoYX/Sl2X5IrA9LPoiUCuz/z7w\nJeXnLwBfk2W5LMtyEJgCLkiS1A10yLJ8RTnvD7ZcoykMG+tYp8eo6PWqirjD00IvHDn/pKr1Ty8J\nOWJq9Dhygy+N9JAgqLPpFLZ8jojZwpKr/hTRdhxazuBZzrBitRLsGdrxnHsON1XAGZzCuEch1/Xu\nK+iB9GOnyXWol1fqCoXNrlK5ox25CUM0XaXKTy6IDt9vdu+8+7jZIxrjnltb0sx8DSBvNHO3ZwRJ\nlnl8YYbQVIhM6uAJebzdxZrLi2M1xYW1OSq7eTo1iTupFa77R5EqZXL/9p8duL9+Dckv/R1knQ7f\nO69DVDvJ66MMtTl9ryzLMQBZlqNAzYzGDyxsOW9JOeYHtrYOLirHNIf93m0kWSbSO0y5QTtlXaXM\noJLPj567oGr9xxbF1xE71bizZ3pEyQsrxdxLLpeq3UYNz4bEC+jq4AjyLgXldaOZpfYu9OUSo2u7\ndOfKMp63xVSlxMeeVf08AK73PticB+yJNxd5n5oN4SnkSLh6+cC+c9H9Vs8oeUnH6bU49nV1FtL1\n4rpfpF4+uRrHZ/NRaWC+b72QJYmJZ0QW9ehb2ow3BMjlclxUhqaffvdbbGS0SY+VuvvJPPcFdJUK\n/O7varLGo46DKuT+2FZdnHeFtnixf2+Ts52gv/Um5kKOhY5Ost7Gc83WfI7RWJSKJJE42bjfT8HR\nRcpiwaiQ4qUuV8P32ESlykcXBOl/MLR3mutel2jSOpvZeRtvm72DNRxk2WAg08T4wcV4EvPL93PR\nfXPz6JtQoTx7U6Su3nv8M7u+HPNGMxcVT/rTM9rp6AFu+UepSjrOr8WxrmuTdgGY+OiLVHU6Ajcu\n4yppl0q65z9MpneYtnSc4Zva+ewn/rIo6PLVrz7gvtrCwUAt6cckSfIBKKmbmvB5CdiqA+xTju12\nfFf8yq/8yub/3njjDZWPCY47CukP7O13sxMOh0SUf9WrbmjKyZlJDLLMtN1OyaYuBTLdJkzHijo9\nb7WpNyDz3L6LK5cn5XQw597bJXRckXKeTUWIJqKk0g9G/J63vw3A95wu5Cb87l3pDH0LSxQMeubN\nJqylEkdi6lw+R1ZWGY7EWTcYuXXquT3P/b5DfL4z09oafG1YbASPnMcgyxy9+YZm62QdLkKnn0RX\nrfCFVFCzdZAkJj/11wA4/fY3NVtm7cIn2ejpg1AIXtLO4fPDgDfeeOMBrqwH9ZK+pPyvhm8Bf0P5\n+eeBP99y/KclSTJJkjQEHALeV1JAK5IkXVAKuz+35ZodsfWDPP/883U+5jZUKjjuiU5cNaR/QnG5\nvKpyaMrpSWF9e7OJSVu1LdRau428UT3B9r0pVCTXTh3bN0U06eimbDRxOLeKS1+mtKX93lgp4bos\nfFhecam3ggD43LxIfV0b7ufNLiEAO7+gTkP/uZDIHr7qH6Zo2tvb6KK9m6zOQH9ins5lbfPGdx77\nBADHr72mqQzx7nOfAeAvJec01ezPPvMFihYb/pmbeCMPW38fCHQ6rj7+PACJ/+03Wl48e+D5558/\neNKXJOmPgEsIxU1IkqS/CfwG8ClJkiaATyh/RpblO8CfAHeAl4BfkOXNv+m/CPwuMAlMybKsbRsh\ncOv/+waGXJaCf4j1jsa07bqNNUbiYSo6nSrSzgXnODElmrpUk74sM6Q0dhmayAfno6v0vCH04m91\n9rIS39uSuaw3kDwsFDkj4ZnN44mVBY4uvos+nyXeN8iUSf3Wu30jy3PhGLIEb5w4zFtCGg30AAAg\nAElEQVQO0an82GIUqQHSisWzzL4f5NlIjCrwR/b9vZEKOgNvdwnp6+HbF1U9f72YP3yepNGCM7XE\nsbR2Dp+Lx8+x5vLhL2bp0XB+btlqY/a5vwTAE+9pJxO9cvI5qiYzng8u0b9iannxHCDqUe/8jCzL\nvbIsm2VZHpBl+T/KspyWZfmTsiyPyrL8oizLmS3n/7osy4dkWT4my/L3thy/KsvyKVmWD8uy/A+0\n+kBbYXpbRLdr519o+NqOD36IoVplvtfPhooh6CeDQazlEiFbOymVfj2O4Ay+QoEqYM9l6VHpOvlk\nOEFbNkvY5kDvPwd1WM/EjokaxOGl+6Qvk+fTKRFRr3/mBXR69S+iCzdvY5Rl5o8dI2HvYMZqIdZu\nozNfJBCuP/ouFg08P7WASZa53jvKvN6+/0XAay6hXjqsIUECyHo9L7sCAHxyQcNoVafj3rNCBX34\n9T/Rbh1g4pM/A8DJmxfRr2hTDM+1dZD80t8BoPerv6rJGo8qPpQduZcvj/HKK1cxXXoLgLXHGyd9\nx5si+3T7iDrzr5pq54pbfWrHf/ltACKK4+STK+o07J9fEBbD7/SO1q3+iR8XaqOR8Mxm5N29kmE4\nGqdiMpF6Sp2aCcBYKPL4bVEvGX9WTIFCkrjmFwXkkzOzdd/LXCnzxFURW7x6pP5net/uJ2uy4o7P\nM1xQP4ymHnzXLV4wH4lMYszub2KnFhPPfIoyEn3X38Ca1s5faK0nwPzRJzGWS7j/XDuFTfRv/jJV\nkxnn69+kQ/HOaqF5fChJP5Mp4nGexq80GDVK+lK1il0pVt48drzh9SVZ3iT9qypTO8Zqld4PRFPZ\nRcXO+cJK4woQX3KZc6kEZZOZd/z1v8DWPT1ETFZshRx9yuCRT9wV6pjExz5Kpc5hKTvh1M17WIpF\n7jrsJPrvSytrpH9ieq7uiVBfnJ+kYyPDPZuHce/OvQc7oazTMz4sdjOfXdduEAnAkqWdxcBJLJUy\nI1fe0mydnL2L1zq86KoVnH/675iaukkyqU3N4tbHxGxbzzd+SzOFTcnTu2nNcOgPv6rJGo8iPpSk\nD2C7exVzMU/K1UPJ21hLQN/CJMZ0gling7C38Xm4pxMJurJZVmztzDXYhQsQymQ4ns1izGWZtNl4\nbUg0lT2ZWWm4GPjcNaFeWnjiObJGc/0XShLvd4oX1rGFCUzJCI/Pz1GRJCKf+0xDz7AVumqVc1eE\no8e3Aw8avs07HSStZuwbG3inZ1hf2TsCtxVL/HdKH8W/H7jQcA/DzZHHAfiJtQVNxw4C3DknCrpH\nL2prl/AnytyACzd/yEC3lXJZm1z4/LEnSTu9mMNBHD/8M03WAIj+/P9K1WzF9+6bm4OQWmgOH1rS\n77jyOgDB4cYtAno++AEAF7t7VDVDfXpeqBpuHzqi6vq8JPHFnHCs/I7Xy7zdzmqbDW+pSHem/mjf\nnM9zYUwoiGae+2zDz/G2Q6iWToXu0PPyH6GXZcaGBiiolLACnJ6dp2Ntg4TTwXX3tu5iSeL9bqEI\n+mg0jrzP0I4vTgRpL5eYGTrFtV2asfbClXYfKzYHg6UN+oJ3NLVlmDn2FBsGM575KUbWtfP9ebet\ni+XeQdrTSY5c+oFm68zOh/jzw08A4PzN/4XbN7TpeSi7u4l/5RfFH/75P9dkjUcNH1rS73xXiIPm\nhhs0A5NlzswKv523exqL8tcWF6iOj/PcgkjtjB1SVw/ozOV4KpmkqtPxiscj9NHKbN7jofpTEeeu\n3cJcKnGjy81ab+MTv8bau1i3tOFeW8aj1DjePN14ugsgklhmai7EheuimPlnA30kdojk3+8RpP/E\nwiK6PVQ8zvUNXpwV3/MPXvgZVc9UlHR88Lgofn4hMqWpLUPFaOZNv7BC/mJ4WrN1ZEni+k/+VQDO\nvvTHGDQaaJ7L5fjgzLOsefvpis3jf+3rmqwDEPu5f0LZYoXvfhfee0+zdR4VfOhI//LlMWavjtF+\n6xIVnZ65Q/XPbQVwxxfxrWbI2x2MuxrrgDUUcnw+HsVarXLP7iDdWZ+SZDueDgYxyDLBU2dJm4R1\nxN2AyFcfnZ1jcirM2vre3vVSVebJy2I7/O0BdUNJqpLE3QFhJaArl7ju8xF3NjYdq4Z8scxTKysM\nrm+w0mbh1qEhSjvIUKecncQ7O3Hk8jwWS+x6v5+8fhNTtcqb3QNEuuvP5W/HtbMfp4iOx2OzOFe1\ni/QBXh48iyxJfCY6R1tau7Vmzz1DumeAjuUEL4S0m6Fb0Ru4+eW/B8CTL/8uUh0zGNSg7PQQ+oKY\nrNWK9pvHh470M5kivlvXkSoVFgZHKVga62I9rjhyLj71LNU6B55sxakJkU55q7un4WsBdNUKn1Sa\nusaf+/jm8fGhEarAyUgUh76Lann3KDibzNL/xg1cyxkSbTbeNKojaoDJLc6k3xpST66GapUv3xSN\ncm+cOLz7uEdJ4soRsebH50M7nmIPR3h6aoayJPH7Db7Ut2PDZufldj864Klx7YqsAHerZsYPP4ZJ\nrjLyp/9Zu4V0Oq4p0f5fnriCvqLdDib41E+Q7h+lIxPH8/Xf0myduS//LLS3w6uvwjvaymw/7PjQ\nkT7A4UmRX5w+0qDfTbXK6RtCJhn8ROM5cPfGOoPhMEWdjstedV28x+ZmcGezBG02Zs/cn5C13mZj\nrKMDY7VK/93be95DX9Lz+Smhr792/Gmksrr/zPlKhrb4fanccjWr6j4AP7EQo3ttnaitjYtH9/b+\nuXZoiJJOx9lYHMfawxLHc3/+HXSyzA8DfiJtjRfKt+M/28VO6MK9SxiKhabvtxvkisztF4SNwbmr\nb9KR02YKFcDceRHte3NrPDWh3SAXdDquf+UfAtDzH38Nc17935G9cGspxfTnRbS/8jf+Nq9+971W\nl65KfPhIv1JhRBngPH24MdJvv3ERRyZBqr2D6NnHG176I0GhL7/h8ZBT40kjyzw5Jp79DwMB2LbT\neEsZwhK4ufeAieMraQ4tTlE0mLh2uHF3zxo6pTwvzt6foPVcXJ3227qxwVdmRS3iayeOUtHv/dcu\na7Fww9+DDrhwZ2rz+PRsnKFomcEbt8jr9Px21zCZTPMphVuWLqYcPtoKWQ7ffrvp++2FZM8QF+09\nmMolXhzTrhtY1uk3o/3PXnsJnUYqHoDwmedYGjmDYWWZpy5+R5M1NjaqrP2Pv0mhewD79D1OvPpm\nq0tXJT40pF9ryFp96WVsG6sU/EMkvfUrOhaiU5T/4NcA+H7/wEOEux/05TIvzAiCfLdHXWrn9PIy\nvnSKjMXCK729D/3+TWXc4vDNa5t2xA9BlvlbcyI6v3Lmo+TM6vX0Px8JY8vmiCoWCR8Pp/Ysru6G\nC29ewlapcLvbxy1ffcqfi8MBAJ64fY/1RJL11VVKq2V+LSG8eb596CNkO05QKqn3I9qK7wbEUJnT\n77+s+ai+3+8VxfAX7l7GvK5dY9jc+WdY6HDiWk8xfFG7MYdIEpc+L/T0T156SbMhK1VbB6F/+u8B\n6P3qP6dtaef0Xwt740ND+plMEY/nPENXxVY2/cmvNCSXrOQzHL4mcoWv9Ddu9f/E2C2cuRzxri7u\ndqkbdPJ5ZWD590ePUtrhpTNhsxFtb8e2kuFUcmc3ylN3Jzm+mmHDYuPKWfVe9x2RBb4cjyMDX//Y\nk6z1eHEWS4wuNOYfY5sNcvTmbcqSxNfP1q+kmvS6iVgsuLJ5zscTVEslPnfpdYaKa8TdfXzzSHM+\n/tvxTu9h1i3teKJzfDSr3TBzgHu2LqYCx7GUi5x8bU/fwaYg6/T8yagY/nP6T/8fjBqmk6LDp8g8\n9wVMpQL+f/dPNVtn9SOfIfUTfx1dIc/Jf/u/a2ou92HFh4b0AahUODYuJF3Ln/pKQ5een5vElN1g\nzt/HQmdnQ9dKssyLF0UR8L0zZ1Vp823JJCczaXIGA1/fIcoXC0m8Myikmy8sPuxMLVUqfO77bwDw\n5uMfp2hqoBlrK2SZM1//HfTAzdNHWfK4mP+o0GQ/MTmz97UKgktRFiIxXL/9VSTgm14nsc768++y\nJPFKr5hh8LHbdzgeT/DczfcoIfFnn/8FSvqDifBrKOsNvHn2UwD8w+S45s1abzwtakYnXv82bYW9\nlVjN4JL/ELM+4YF/9o9/U7N15ubm+M5H/wolnR73t36P8H/4PzSbrrXwj36TktND19g1+J3f0WSN\nDzM+VKTffv1t2tdXWO7ykRttIJcty7w4JuSNl86db3jdpyIRehIJUm1t3DnU+LAWgJ9Sxiq+c/b8\npkxzJ9RI/9ml8EOplsCrP8SXXCZsaePqsSdUPQfA47FZPFPjrOj1vP2MqG0sPn2ekiRxeCmCKbW/\n530uX+TTmRV6lyKsWSz8B2/jA2Be6e0mazIyFEvwP1+9AcBX3ceI9KiToO6HSyc/xlqni6PFFZ5a\nvKfJGjWE+g5xt2cYc26Dn7qiXZduVdLxh8/9dap6A0de/xruSW2aqHK5HBx7jG9dEC+zT37tX1KK\namNvUXG4WPjH/7f4wz/+x7C052iOFrbhQ0X6rpeEDO7uyacairb7QpOMJCIUOuwiUm8A4Tu3+Cu3\nhZrmO/4BqrtJEffA4NIizyST5PV6fnhub7KedzhY7unFUSxyZP7+ZMpqbI3R3/tjAP6DL0BFRSQc\ny4SQC4t8eUKkuX6710PeKrzpix023vM60Mky3tfe2Pdero0sf2dC7ApePX+GDRXfS3gD/qsiGXUU\nisw4vfyO62jD96kX8Y0cr5wTpPWl8Yvo9ukIbhb/5enPU9Xp+di99xmJaUOQKyvLXCtVefvpn0SS\nZc7/v7+05+zjZvHa6eeIjZ7HupLkY1//15qtk/7UV4g/+SysrsIv/ILmdZgPEz40pK/fWMf5va8B\ncOPcx+q+7ta9y5x87Y8AmPz8lyntEWXvBP/4LU6trpIzmXnD07hPj75a5VMXhYrjaydOstKxTwpE\nkpi88BHuOB+cD/BXZ4K0r6+x5Onj7fbGRzsCyFKev7u8iKtYIB3o4yWP7YHf/1efqFV4X/0ByYXd\nB2joymX+7rs3aC9XCB0b5eohdZF5qWwmZd/SJzB4lrKk3V/Zsixz96nPMm3soDu3xsmr39v/oiYQ\ndvq4+ekvA/Bzl15FrwEZV6tlXC4rM3/158n4/HgSC/z0/I0DX6cGWafj3f/hX1AyWzly7TWO39JI\nLipJjP/iL0FnJ3zrW/Cv/pU263wI8aEg/cuXx+CP/wv6fJb5wDHSrvrVM7rQHc4FpyjqdEx8qbE6\ngCTLPP/SfwXg2smT5FXIND8VWcKTXiZisfCNOh093/v8T/H3XniOe0Mi1TMYWuQrC7PIksSrH/ms\n6uHpo+ElPnE3SBUY+5kvIW+7z3inlRmvC1MuT/+bu8sNn379bQLpFWIWMxd/6ouqn6e/kOXnx1/f\n/PMLi9p1l9ZQ1en51y7x3+HxN7+OUaN8+3JimVQ0ybdGnyHSZqcvneTFMe3kohWjibd/VnTP/kzw\nOp1L9dVm1GDd28+1n/knAHz2O7+HMaHN8JgbyXWu//1/BoD8S7/ExG/8G03W+bDhQ0H6mXSBE5fE\nCL/rDQ5MOf/K19HJMq/395Pvamz83ydDIfwLQVZMJi6fbUwPn6lWicRifFnR9v+fgQClelMgW5Q9\npkKBn/3Gt9EDUx//AqEedV2z9vUMP3vpLXTAD84cJfP/t3fm4VGWVx++n1kyk2SykZ3s7IRA2EPY\nBEQQFdCKLNZqcal+SrVaabXaar9aq19LrUtbwKKACCiLG/sa9k0SEkJYQsi+7+vs83x/zKBRlixm\nSKhzX9dcmYR35jkzzJz3vOc553diIq563K44+9jJvvuP4NZsT6G4oprMnHzUu5IYePIUZiH468B+\nmNo5QMZbb+Af2afxNuk54x9No0LN4Ip8EhudO94QYLdHKBk+QXg01ZG4yzmdszaTFW+ND/6+Eawa\nejcA01P2EFjXvhnBraGk70BODpmIm7Qx9t+/QemkRiqAzImzye0/Cnd9I9GvPAROSJU1Ntqw3b2Q\nggV/QUhJz1dfhOTr97C4+C9x+n7pKXQvvITFx59zAxJa/biAsgJiD+zAqlCwtm/bxNG0BgOPOaoT\nNvbqhamNaSGzWs3crIvorFbO9OhBUht1fi5zx+ZdBFTXkOXpxdk757brOVRWC3P3rsfTZCQ9NIA9\nA6/9XpwPDaImKgxtQyPTK76tMTeazMRYLcw7Zt8QXxoTQVYbqnWaozGZWXDgCGFmA1k+wbw7YhZr\no+17Hb8vSUFtdl7XLABCsLhPIlaFikEntjG8Or/lx/wAMoJ7khTWCzerhQcPbEQ4SZ8eYMfk+yl0\n96Zb7llGL/2d80oehWD3/S/Q6OGF9/FdRL32mNPy7qUP/ZaKux5CZTTA9Omujd0W+K9w+jHrVwJQ\nNnsBFnXrne+kHWtQSBuHhg1vc5nmtH1J+BsMFEZEczyk7Tn0ybW1jE5LxaxQsGHybW1OgRgrm+i1\nL5VhyWmYlEpeC++HrR1jHQFmp+8nrLKISk8dy0cPvCKt8x2E4MJddm34+SVVqOrttd9eJjOPHzqG\n1mwmLTqSTaHtk19W2mw8sHc/kTW15Lu587eRP8GocmNNQCyXPP2IMDeSsOvjdj13Wzit9GDHiDsB\n+HVmEp5G50XFAMv7J1Cn9aRfcTaj1r3vtHVy6+p4OjoBg8adqBM7iFz+mtPWavQJ5JMHfoNV60HA\nphWEvfeicxYSgrzfLaEqbggUFcGMGdDovAllNzs3v9M/fZqg4wcxq90ov6y73Qq0J3fQ53wyRrUb\nmybe2qYlu6WmMOmIvcLlsxGjru8kr4JnaTGvFNirNZYNGkxZO6L8yDoDjyQfB2DXqGnkq9t20gKo\nNZQyID2JW3LTMSsUvDs8niZNyyeOkvhYCmIi8LHa8F+5Cm1jE/+beoGwunrKfH3YODqhXXl8ISVP\nnDpPr+JSarUanokZSJ3GvplslTaW9B+HDZh4aheRdc5toLIgOT5xDnnhfQkw6/n5qa+cWiFSaLDy\nlyF3YRYK4vZ8xYhk52yAWq1GKoP82fv4C9iEgvF713JLqXPy+9nZ2STpbWz6+Z+wKpSErHiToI+d\n0ysg3TSkvPxX6NHDnuKZMQPaOV70v52b2ukfPXqaskefBOy5fItf66JLYdAzb5+9LX3HqLHUO2bQ\ntgatwcDT+3aistnYFxZGgXfbFCzdrFaGLn0bnc3Gyf79+awdM3h1VZUsyjiBp1FPVmQfTsSNavNz\nAEwou8T8ZHslx55Jo8n1a2X+XQj2TR6LBYg+dIyZ/1lJdKOeYi8dH9w1FaNb2684DHU25u7/mtFF\n5TQpVbzUP4Hzlu9etV3wCeJTn2iU0sZTKV+hdqJ6JNgrUTbOeIpGhYqRhRmMz72+0N0PwWqxURQa\ny8qhMwB4NPUgIeedJyhWEDecY/c9AsBvzyYRcDG1w9fQ6/V4enpSP2YaRx+zS5xEvPUccanO0Rwy\n+/jaNfeDg2HPHhg3DgqcOwrzZuSmdvqKpEMEHT+IUePOwVvuafXjwv71EmHVlRQHBLJz1NjWLygl\nP/t8I8EN9ZT4B7Cud9sasSoMeu7OyMCruJAsjYbV0+5oc0TsbTBwz6I/E2o0kB8QxpdT5iHbUcY4\nLOMY/3M+HQHsGBZH2qC21b8nG02s93JHAD7VNeRo3Pj7xLHUe7RNyhrAp1HP0rwcJpYXoleoeG/E\nbIr9h2O1XnnyeLtbLFWefvSqKeKXmfudXp9d4xvE38PsDWo/P7WLgU5u2joYPZSUxOmopOS2xa8T\n1uS8aDX91pmcHDIRjc3KrW88TGia8wTgssfO4ODdCwCYvnExAev/3eH/d2fPZrEtp5F9byylITwK\nTp/GOGw4pDvvZH0zcvM6fZOJ/kvszR+Hx82gSde6gSXuJ3cQvPotrEKw4t5ZmNuQB5+ZmsrQjDM0\nKZV8PmXqtTXhr4aUPJ6bw6SyMkwaDU9GR2PUtE0mQWex8PLevXQrLiLLQ8eq2+7H3Ja5tw5uzzvP\n9P12zZed4wazZ0gbp4sBXuWVJBq+VTlMd3ejXqtt8/MEFBTyq017GWhsolTrzXPxMzgbEH3N4xuU\nat6/7VGMShVTSs5zf3nmNY/tKLb49+TLvuNQSsljBz+lb3m2U9c7fNuDJAeGo22s492UzwnIcdJr\nFIJNdzzMzuBeqI16Jv79SWKcKMyWMmkeRY/+HqXNStQbTxL5+uMIc8cpZTY22ggMHIZu4AwuLj9J\nQ/wYNGWlMHYs7N3bYevc7Ny0Tr/g8V/ilXMRQ0QvjiW2Tvvet7qMR7fbu1ZX9etHbljrVThjdmxi\nwUX7mLslffpT7dP6qVhCSuJWf8CsokLMCgXbHn+ai210kMrMHP6TepqeVVVU+PrzVPdYSvRtq/Jo\naComcd8aHsy0t+Iv7hHNkeH92/QcSEnkgeO8uOMAUWYrVb4+WITgrpoGhuW3oWpCSqZWVTPtPx/i\nozdwQqtj4YifkuPZslhdoX847w6xlzk+U5hG74vOL9PbEHsre6IHobZZeObwaqKrnVN7DnahtL8O\nnURB7FD8zAbuWvQC4WecMxTcplTxZuxEztz5CAqrhTFLXiB20zKnXUEVP/G/fH7vk9jcNAR+9j59\nnpiEZ0Pr5z63FquvPxf+uZOSMZPsuf0pU+Dll8HgnOleNxM3p9M/cIDuK5chhSDnlQ+xtEJYTNvU\nwNyVb+Kjb6JoWAIf92+ds6vPz2NKaiqj//pHFEDSyASOt6HztsqgZ9aZM0QeSsIgFLxxyy1kD26b\nvs/Q4iJe27aRAYZGyt292fHga1RJLWZL652+rqyIP6XtZ+rZ09gEbJ82ga3d27aBrDNbeOjACQav\n3IDGamWTlzsfzruHLaNHAjA7JQ1VK+bMBtXU8cz+w/wurxClxcrhPjE8HtaHerfW7Sk01tWyS9ed\nlWHxKIG56xcxscJ5c2cNZjOVdXX8I2YoR7r3w91i5IUDH9Lj7FHnralyY/uCP7AjuDdqo4Gp7/6R\nMZkdn+MvLS2iuraKT4dNZuvUB5FCMPSTRfz+zG60tR070jE7O5vDhw+z0SOYdU//k0a/YHSph3jk\n3y/hdbTju5+l1p1TL/4Fnn8eLBb4858hPh72O3dCWlfn5nP6ubmYZ8xEYbNyZMxdNA5uOSevqi7n\n3mWvElBRRLaPLwf+8CbW1ujlS8ntKSkszMxESMkHgYEcaYMgm29dLYvST3Nraak9pRMby6lrKWhe\nDZuN+fn5/HnvHrxMRk54hfCXxLk0+LahHFJKplXkM/HNhfSsr6PWx4t3Jo/g9OABrX4KISWhJ0/z\nr5SLxOcVYdZqWJ4wmJdCu2HSuHEsth8fB/jyzvjRWK7Tlaw1m7kv4zwLv9hN/9JyahVKPkmczF8j\nB1FnbP1HUVqseKpULO8ez6rA3ihtVv5wcTeTM0+0+jnagk1K1J46lDof3om/naPhA3G3mLjjk//j\nkbw0hOz4WveG2gZysot5KWQ4hxKnorBZefjAFl45sxP3uuoOW8dqNeLlpSY83JuCe+ew7ie/xKxx\nZ0LZJaa/MJ2YQ192WNSv1+vx8/PD09MTc/xo1v76fRrix+BdV0WfBVPp+dxM3Ao6uJJIqbRLNBw8\nCP37w4ULcMst8MQTUN1x7+PNxM3l9PPzYfJk1DXVZPUaxN7Jc1p8iF9VKX0fHk1MWSEVvn68MGY0\nZs+Wq3Xc6ut49cgRHvj6OArg/Iz7WBvYSmcrJROKC3n4i/XE1ddR6e7OZ79+iRO+ra/0GV5ZyX0v\nPc+TuXaNmzVRcbwaM44mt1amhaQkOj+TxzZ/wHP5Z1CZjBwMCmXFw3O4FOTX8uMdz9EzK5fH121m\nxOJVBJosnPfW8c+50/lS10yXRwjeCw2g0PfqKS+t0cScsipe3bqbaVk5CCnZEhLJPTF3cXbwLDy0\nva+6aduieULwj7BB7JowDwUwP3kLr+SeQGtwXo22VaFkychZrBk4BZtQ8NOiczx/YAWh9dce4t6u\ndSw2gj2D0ap1bBt7NwceWIBBpWZC+SVm/eEJeh/e5ZQUzJkBiWz6y5d87ReGpqGWMYtfYOKi/yGs\nsuOrYJq8/bmweA+7p8zD6qHDd/+XDLgvlu7vvYhbB3ULnz2bxbZtJ9lWr2X7G8soeOQJUKthyRKI\njITnnoPca+tI/TfSsaLkziQtDWbOhJwcanv2ZePsp5HX20iVkvjkJG7b+hFaQxPZAcEsnj+fiuwW\n0gBSMr6ggDsevx9dWQlNajWr+vYl/PYZ8N6ZFs2MKCrkrpMnGeioEd7ezZ/VkyYytFcf2NfyJWxo\nRTkPHD3CqFJ7HXqF2p0Vg6ZwSOOObGxFRCklQxqqePiLpUSW2D/M1SoVh6fdyeKqUm7RtpwKU1mt\nhJ5MY8m5AmKT7ZFXg5cni73dSYuLZXB4KKZL9qlFdQ311DfoMV8lrRNd30Di518xLyUVjaPL9Kyn\nD8sGxHPI6IFR3069/+YIwcHRMzmZV8SzuYeYXpXL+PcXUh42ipKo9gnPtWbNbb3HoB0yhomrXye2\nPJvXdv2LM3XZ7LQ65yt1bvw0vjJZmLVzEyOrC5iw/C0iA0JZERSHsFmRirarmF6N0tIiTgGvRSfw\n6oRwpmxfTljqfl5O3U96RD+KugVS1q/to0SvRna2fUP8RHA/cl6cS+KmJcQe20Lo8jd4xk1L3dnj\nlN/7BPq+bZx13YzLm7uXSZ/lRvizC+BXv4Jdu+Ctt+Cdd2D2bHj2WRg+vN1aUTcLN9zpCyFuB/6B\n/SpjmZTyzes+wGqFxYvtutl6PYwcyYnn38B4/trNOaGFWYTMH8WwdHvzUtaQRBbGRBJ8HQVLISWh\nxw/z26X/JtrRxn1Op+O9ocOwqFVcb8tXYbPRIy+XGanJDKi1b0rVq93YOHkqf6utok8LVTpuJhPT\nS0v5yfnzxJXbI8ZGpZL9CZP5sMET98AIaKEZKcLYSP/Naxl7cAeBjhF8DRoNX07G0jsAAA6PSURB\nVEVHsruHHzNmjEax4tNrv36bjdiySsaUlDI4rxQPx35BrcaNVcEBWOfNZOP2HcR8Ly1mtVpQadXY\npERISffyCnrn5PFQZhb9Gr6NuI96BLKv1ygOe0eg8/XAkv3DSx/NJhNGQyNVpaWc8ImmfEocD+1b\nw8D6Khad28IrYSGkebZ+s741NOj16I0SKSG5ez9WDZrKL6sKGZ+TTPyxzaxSqjlcU0ZS9FBqtMEd\nsmZVeRUAmY0Wnowcx0vj3bl993p6VBTzx4pi6l4+TfqtM7k04odPE7NajYSHe+Pl7cbXAxMxTbqX\nAV8upcfedcTlnyPu9YeojIlDG9KflJj2zY64TPN0jya6N8kL/kb62HuYlvQxXieTCNy4hMCNS2iI\nS6C0RxzqIaMxh0T+oDXPns0CesKv38Br5jliNn5M6P4diDVrYM0aiImBu++238aMsaeH/su4oU5f\nCKEA3gNuBYqAE0KIL6SUV3oAmw0++wxeew1O2RuIyu6cyanHFnLmUvEVhystZnx3rWfuyjfo5RiM\n3qTV8vbAgUS8/g61S97kiq+glISUlzHs4hmGHztKyIYNAFSq1RTNeoB/l+RQjRIfJGkXvqvwqDKb\n6VtVRWLBfvpnXcDHEek2qt1YHRLM1oREukf1hKNXUU6UkiijkTEpycxOP8PIslK0Jnvpml6lZpt/\nKEuCIomMiMN0Pp+rbW/6WM1oLxxjYr6KiIIsQiqLwVHZV6NRczphKBkjBrHvXCZKxZVaNQqrld71\njYw6eZaw3HJiSivwMHx7XEloECutRsonjuNoZg73qK/8qLjZJOHlVQRX1nBrUQW3ZG8j2WhkguPf\nGxRKUvoMZJnSl5PmbvQJikYaO043R2JDo1DSzU0DUlLsHcCjfSbwZ18NyrRjXPQPB0exRm3tlZ+Z\n9mCzSdy9dNgkmCwWqt20rBg2k109R/L4pUNEZKcx9eIRpl48wsXASDIt105BlpRnAwNbXtNkJdgz\nmDw3b9zVguQ+Q6mefCduqxczMeUYYRUljP5kCYmfLiVW6415+wbyBwyjpvvVRfOuR1HRJcA+L7i0\ntIg0IC3xLrJVIdyZe4SZeRn4Z6czKzudWUeg8vDnFA6ZQKVJg7qx5dfSEqVRsVxYspcTK/7GPeX5\n+G9eydfpx7gj/Rh8uQxDVF9qE6dSn3Aburoqe4qrDZH5dyL/wGEUJ/6UC2c2MyFtL3z0EWRn26P/\nt96CgACYOBFGjrTfhg4FRyNnUlISEyZM+MGvtyNJSkpq1XE3OtIfCWRKKXMBhBBrgZnAlU7/qafs\nET5AeDjnn3qOLW7hjA8fQ+PptbgZ9QSX5BK05m3u2/wR0dkZaBwyuEaVmoMJY9k2NpHkrAvMFwKk\nxKuhgcFlZfTbsJoXjh9nxPbt+NbXf7NklbcPu3v05AOLiV+Om4Rtw3KwSjxNJjKPHeT26mrGHj7E\nrOxsehxMQtlMrKrE35+t3cPJmHwrSSeO083NDSEl/iYTPSsr6Xv0IM/k5DA4J5u+W7byTHUVnPv2\nZae6e7ElMApz4r1klhTjaTQg9Gb8TU1E1pTgU5lLSG0tfUtOEnNiPb+oLOJV4PLIlQaFguy4gWzy\n1JDhYyN+yHA8bFb89Qb8TQ10P5HKnLwihnyxA11xCSH1e1B/LyVTqHFjf0g3tup0DL5nGmvWbWSy\nhHCDkchLeUyvrKN//SX65hXxk+x8wpv0qC5+t3Rxi1JFg193DupiSO0WSULCGLKObAPnziPBbDTR\nVFtDk0HP5n6TSdZ7ES4EYM9719Z1jNNvTlVtLY2GJipqayjHnaV3LqBs3zrmNNSQmJ9Gr/I8agsz\ngavvV5SU57RvXUfkn94tinf6+vN8b19GnfuasHOnGKqvhQ0fkLDhA8waLcO1XpRWFmDTWSgY0HIR\nQnHxpW/uX476AQoL/VmrGY7tuXcJT0nCfdsa4nLT8M/JwD8ng0EAm99ivF8QhrQk6oKjMNUZKfPx\nQN1Yh9mzdTIh36R8apowj56D74SfcnLN64SUFdI77zzaXPsteO07/Aowv/8K+j7x6HvHM6y2Gm8v\nL0whkZhCorDpWrdmSmUjhsnzYOJsfM+dJujoPkKP7sO9IA/WrbPfwK5u268f9O5NUmkpEx58EHr2\nhIgICAoCP7/vKODeaLqq0w8DmksWFmA/EVyB/NnPYOtWWLgQ8fDDZO/LIPLDlfRd8RZ9s86ga6y7\n4jH1vv5kuGupj45CZWhizuavmF9YQOT+g8yuKPtWCrhZyVaTUkWtnx85KiXWboH00TfxUlEhsYv+\nRGJ+DjqzGbWUvAo8B1Bsdx42oMLNjXIvb7IUAq+ICCIrqxj5xec8VFaGf8opAgx61NdQTNQLQbm7\nFzXuvlh8A6iqrmJcdRk9ty9BoW/E02LEw2q65k67BWhUqrjorQN/X8ob6ughjdx7PoefmYwE7ElF\na2rmaQ+m8/1MbK1CQa2nOxUCVN7eNOr1DGhoYlhpNaFvf8BTDY1ozjtq7zOubBCyAjlaHQX+kexr\nsJEbE8fh+iKOeAVhRYdG2T4BuHYhbXio1GgUSqxm8w3Jy1qkRKHR4ub5beSf6enHR33GsXbgbYwr\nPYMcNgUOd2xjUPPIv0ItOB0TT+2U6agNTaS88ScWRHQj5OJZvCpLGWw0QG05F7w0rXL616O2topz\neRc459+dtIHT8Bg0hseiexOccRzNqYNEVeYTWl0GhzcBl68XwPb5P1mzrHW9FM1TPn5+fiQnJ3Pe\n3Z/Xhw8l4ReLiCm7xJCyLHQp+1FnfI22pgL18d14H9/NNIBNH37zXOZuQWz9Vcsa+9+J/kNGUj3h\nEb7Y9wnDvVT4nk3D5/wZumVloMvKhIwM+w3g6PdKdlUqCAy0y0D85jcwb16rXvONpstu5GaHhJGz\n9BNKKyvw25fB2bPZBFUUoks7AoBFpabEN5Dwim8jTa+aShJqgOLWNwl5WC14VJQTClDSTKu92RXA\n1VAAASYTAZUV9Acov3r1RrVCgVIIvL/n/N2lJLKpjsimOqjMa7W9l1EBnlYLvaproLqGXgAlVVem\nsK6Dj82GT30jkQB136t4caR6jAoFFQoVDX7dyNAbKNP44B07kqTSBg43WfANcCc8vB9fn0qlt28Q\nsq7ztU4a62oxGfQ0NdSDsvW6Sj+U5pG/CiWHew5jQDcnbSY3X9cR+QNslB54j58D48GzsY6SHRuY\n5KXDbVgb5Eaugc1maRb5u3PpUjZ7vUZBwjTS3KMYGT8YRVoS47sF4VWaiykjmaDaYjw8vZGq9gUA\ner0ed3ctnp6e+AQEsisvn6z4aRA/jRPHdzI9fhRDFEbcL56m7PhueqjVuJXkoSnOxerh1e6Tf2OT\nxOOWezENvZdyYMP+TxnQIwxdXjYexQVUbtlIWWQ4QXVV9kCwtNTeBFZcbL81OVeV9Ycg5A2cLSmE\nGAW8KqW83fH7C4D8/mauEMI18NKFCxcu2oGU8rpnuhvt9JXAeewbucXAcWCelNL5c/BcuHDhwsWN\nTe9IKa1CiAXADr4t2XQ5fBcuXLi4QdzQSN+FCxcuXHQuXUqGQQhxuxDinBDighDit51tD4AQYpkQ\nolQIkdbZtlxGCBEuhNgjhDgjhDgthHi6C9ikEUIcE0KkOGx6pbNtuowQQiGESBZCOE83uA0IIXKE\nEKmO9+p4Z9sDIITwEUKsE0KcdXyuWj9s2nk29XG8R8mOn7Vd5LP+rBAiXQiRJoT4WAjRtgHZzrHp\nGcf3rmV/IKXsEjfsJ6CLQBT2wuZTQL8uYNdYYDCQ1tm2NLMpBBjsuK/Dvk/SFd4rD8dPJXAUGNnZ\nNjnseRZYBXzZ2bY47LkE+HW2Hd+zaTkw33FfBXh3tk3fs0+BvaEzopPt6O74/3Nz/P4J8GAn2zQA\nSAM0ju/eDqDHtY7vSpH+N41bUkozcLlxq1ORUh4EupQcn5SyREp5ynG/ATiLvQeiU5FSXq5T02B3\nHJ2eOxRChAN3AP/pbFuaIehCV9lCCG9gnJTyQwAppUVKeWUjTOcyGciSUua3eKTzUQKeQggV4IH9\nZNSZ9AeOSSmNUkorsB/4ybUO7jIfPK7euNXpjqyrI4SIxn4lcqxzLfkmjZIClAA7pZTO0TpuG28B\nC+kCJ6BmSGCnEOKEEOKxzjYGiAEqhBAfOlIpS4UQrRyYfMOYA6zpbCOklEXAIiAPKARqpJS7Otcq\n0oFxQgg/IYQH9iDnmhocXcnpu2gjQggdsB54xhHxdypSSpuUcggQDiQIIWI70x4hxJ1AqeOqSDhu\nXYExUsqh2L+cTwkhfnjn1A9DBQwF/umwqwl4oXNN+hYhhBqYAazrArb4Ys9ARGFP9eiEEPd3pk3S\nrl32JrAT2AKkYG+YvypdyekXAs0l9MIdf3NxFRyXluuBj6SUX3S2Pc1xpAb2Ard3siljgBlCiEvY\no8SJQoiVnWwTUspix89y4DOuIUVyAykA8qWUXzt+X4/9JNBVmAacdLxfnc1k4JKUssqRStkIjO5k\nm5BSfiilHC6lnADUABeudWxXcvongF5CiCjHbvhcoEtUW9C1osTLfABkSCnf7mxDAIQQAUIIH8d9\nd+A2riakdwORUv5OShkppeyB/fO0R0r5YGfaJITwcFyhIYTwBKZgvzzvNKSUpUC+EKKP40+3Ahmd\naNL3mUcXSO04yANGCSG0QgiB/b3q9F4jIUSg42ckcA+w+lrHdhntHdlFG7eEEKuBCYC/ECIPeOXy\nhlcn2jQG+Clw2pFDl8DvpJTbOtGsUGCFQz5bAXwipdzSifZ0VYKBzxxSIyrgYyllxw+IbTtPAx87\nUimXgPmdbA9gP0lij65/0dm2AEgpjwsh1mNPoZgdP5d2rlUAbBBCdMNu05PX24h3NWe5cOHCxY+I\nrpTeceHChQsXTsbl9F24cOHiR4TL6btw4cLFjwiX03fhwoWLHxEup+/ChQsXPyJcTt+FCxcufkS4\nnL4LFy5c/IhwOX0XLly4+BHx/3axdV+Esp1RAAAAAElFTkSuQmCC\n",
      "text/plain": [
       "<matplotlib.figure.Figure at 0x111056f50>"
      ]
     },
     "metadata": {},
     "output_type": "display_data"
    },
    {
     "data": {
      "image/png": "iVBORw0KGgoAAAANSUhEUgAAAX0AAAEACAYAAABfxaZOAAAABHNCSVQICAgIfAhkiAAAAAlwSFlz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\nAElFTkSuQmCC\n",
      "text/plain": [
       "<matplotlib.figure.Figure at 0x111048f90>"
      ]
     },
     "metadata": {},
     "output_type": "display_data"
    },
    {
     "data": {
      "image/png": "iVBORw0KGgoAAAANSUhEUgAAAYcAAAEACAYAAABYq7oeAAAABHNCSVQICAgIfAhkiAAAAAlwSFlz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\nmZmVcTiYmVmZ/w+PAzQeEOAU3AAAAABJRU5ErkJggg==\n",
      "text/plain": [
       "<matplotlib.figure.Figure at 0x11336b4d0>"
      ]
     },
     "metadata": {},
     "output_type": "display_data"
    },
    {
     "data": {
      "image/png": "iVBORw0KGgoAAAANSUhEUgAAAYQAAAEACAYAAACznAEdAAAABHNCSVQICAgIfAhkiAAAAAlwSFlz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\nUrE41GASQ+cAAAAASUVORK5CYII=\n",
      "text/plain": [
       "<matplotlib.figure.Figure at 0x10dbab950>"
      ]
     },
     "metadata": {},
     "output_type": "display_data"
    }
   ],
   "source": [
    "# N = np.array([2,4,6,8,12,16])\n",
    "maxc = 10\n",
    "N = np.arange(2,maxc)\n",
    "chis = np.zeros(N.size)\n",
    "for i in range(N.size):\n",
    "    chis[i] = do_random_convolution_with_chi2(my_dist,N[i])\n",
    "plt.figure()\n",
    "plt.plot(N, chis)\n",
    "\n",
    "\n",
    "plt.figure()\n",
    "for i in range(N.size):\n",
    "    chis[i] = do_random_convolution_with_chi2(ok_distributions_list,N[i])\n",
    "plt.figure()\n",
    "plt.plot(N, chis)"
   ]
  },
  {
=======
>>>>>>> cranmer/master
   "cell_type": "markdown",
   "metadata": {},
   "source": [
    "## e) push a new version of this notebook to GitHub\n",
    "\n",
    "Execute the notebook, get your plots, save it, commit the changes to the `part2` branch, and then push (sync) to GitHub.com.  When you are done, make a new pull request.\n",
    "\n"
   ]
  },
  {
   "cell_type": "code",
   "execution_count": null,
   "metadata": {
    "collapsed": true
   },
   "outputs": [],
   "source": []
<<<<<<< HEAD
=======
  },
  {
   "cell_type": "code",
   "execution_count": null,
   "metadata": {
    "collapsed": true
   },
   "outputs": [],
   "source": []
  },
  {
   "cell_type": "code",
   "execution_count": null,
   "metadata": {
    "collapsed": true
   },
   "outputs": [],
   "source": []
>>>>>>> cranmer/master
  }
 ],
 "metadata": {
  "kernelspec": {
<<<<<<< HEAD
   "display_name": "Python 2",
   "language": "python",
   "name": "python2"
=======
   "display_name": "Python 3",
   "language": "python",
   "name": "python3"
>>>>>>> cranmer/master
  },
  "language_info": {
   "codemirror_mode": {
    "name": "ipython",
<<<<<<< HEAD
    "version": 2
=======
    "version": 3
>>>>>>> cranmer/master
   },
   "file_extension": ".py",
   "mimetype": "text/x-python",
   "name": "python",
   "nbconvert_exporter": "python",
<<<<<<< HEAD
   "pygments_lexer": "ipython2",
   "version": "2.7.11"
=======
   "pygments_lexer": "ipython3",
   "version": "3.5.1"
>>>>>>> cranmer/master
  }
 },
 "nbformat": 4,
 "nbformat_minor": 0
}
