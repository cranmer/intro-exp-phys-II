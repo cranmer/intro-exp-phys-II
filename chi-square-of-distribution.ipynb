{
 "cells": [
  {
   "cell_type": "markdown",
   "metadata": {},
   "source": [
    "## Calculating the chi-square for a distribution and a histogram.\n",
    "\n",
    "We will do it two ways. With and without normalized histograms"
   ]
  },
  {
   "cell_type": "code",
   "execution_count": 1,
   "metadata": {},
   "outputs": [
    {
     "name": "stdout",
     "output_type": "stream",
     "text": [
      "Populating the interactive namespace from numpy and matplotlib\n"
     ]
    }
   ],
   "source": [
    "%pylab inline --no-import-all\n",
    "from scipy.stats import norm #will use this for plotting"
   ]
  },
  {
   "cell_type": "markdown",
   "metadata": {},
   "source": [
    "### make some data from a N(0,1) distribution"
   ]
  },
  {
   "cell_type": "code",
   "execution_count": 2,
   "metadata": {
    "collapsed": true
   },
   "outputs": [],
   "source": [
    "n_bins = 50\n",
    "x = norm.rvs(size=10000)"
   ]
  },
  {
   "cell_type": "code",
   "execution_count": 4,
   "metadata": {},
   "outputs": [
    {
     "data": {
      "image/png": "[encoded data removed]",
      "text/plain": [
       "<matplotlib.figure.Figure at 0x10dc5ea10>"
      ]
     },
     "metadata": {},
     "output_type": "display_data"
    }
   ],
   "source": [
    "counts, bins, patches = plt.hist(x, bins=n_bins,normed=False)"
   ]
  },
  {
   "cell_type": "markdown",
   "metadata": {},
   "source": [
    "## Get Bin centers\n",
    "\n",
    "Get the location for the bin centers. Here I do it step by step so you can see what is going on."
   ]
  },
  {
   "cell_type": "code",
   "execution_count": 5,
   "metadata": {},
   "outputs": [
    {
     "data": {
      "text/plain": [
       "array([-3.75518813, -3.60372897, -3.45226981, -3.30081065, -3.1493515 ,\n",
       "       -2.99789234, -2.84643318, -2.69497402, -2.54351486, -2.3920557 ,\n",
       "       -2.24059654, -2.08913738, -1.93767822, -1.78621906, -1.6347599 ,\n",
       "       -1.48330074, -1.33184158, -1.18038242, -1.02892326, -0.87746411,\n",
       "       -0.72600495, -0.57454579, -0.42308663, -0.27162747, -0.12016831,\n",
       "        0.03129085,  0.18275001,  0.33420917,  0.48566833,  0.63712749,\n",
       "        0.78858665,  0.94004581,  1.09150497,  1.24296413,  1.39442328,\n",
       "        1.54588244,  1.6973416 ,  1.84880076,  2.00025992,  2.15171908,\n",
       "        2.30317824,  2.4546374 ,  2.60609656,  2.75755572,  2.90901488,\n",
       "        3.06047404,  3.2119332 ,  3.36339236,  3.51485152,  3.66631068,\n",
       "        3.81776983])"
      ]
     },
     "execution_count": 5,
     "metadata": {},
     "output_type": "execute_result"
    }
   ],
   "source": [
    "# all bins edges\n",
    "bins"
   ]
  },
  {
   "cell_type": "code",
   "execution_count": 6,
   "metadata": {},
   "outputs": [
    {
     "data": {
      "text/plain": [
       "array([-3.60372897, -3.45226981, -3.30081065, -3.1493515 , -2.99789234,\n",
       "       -2.84643318, -2.69497402, -2.54351486, -2.3920557 , -2.24059654,\n",
       "       -2.08913738, -1.93767822, -1.78621906, -1.6347599 , -1.48330074,\n",
       "       -1.33184158, -1.18038242, -1.02892326, -0.87746411, -0.72600495,\n",
       "       -0.57454579, -0.42308663, -0.27162747, -0.12016831,  0.03129085,\n",
       "        0.18275001,  0.33420917,  0.48566833,  0.63712749,  0.78858665,\n",
       "        0.94004581,  1.09150497,  1.24296413,  1.39442328,  1.54588244,\n",
       "        1.6973416 ,  1.84880076,  2.00025992,  2.15171908,  2.30317824,\n",
       "        2.4546374 ,  2.60609656,  2.75755572,  2.90901488,  3.06047404,\n",
       "        3.2119332 ,  3.36339236,  3.51485152,  3.66631068,  3.81776983])"
      ]
     },
     "execution_count": 6,
     "metadata": {},
     "output_type": "execute_result"
    }
   ],
   "source": [
    "right_edges = bins[1:]\n",
    "right_edges"
   ]
  },
  {
   "cell_type": "code",
   "execution_count": 7,
   "metadata": {},
   "outputs": [
    {
     "data": {
      "text/plain": [
       "array([-3.75518813, -3.60372897, -3.45226981, -3.30081065, -3.1493515 ,\n",
       "       -2.99789234, -2.84643318, -2.69497402, -2.54351486, -2.3920557 ,\n",
       "       -2.24059654, -2.08913738, -1.93767822, -1.78621906, -1.6347599 ,\n",
       "       -1.48330074, -1.33184158, -1.18038242, -1.02892326, -0.87746411,\n",
       "       -0.72600495, -0.57454579, -0.42308663, -0.27162747, -0.12016831,\n",
       "        0.03129085,  0.18275001,  0.33420917,  0.48566833,  0.63712749,\n",
       "        0.78858665,  0.94004581,  1.09150497,  1.24296413,  1.39442328,\n",
       "        1.54588244,  1.6973416 ,  1.84880076,  2.00025992,  2.15171908,\n",
       "        2.30317824,  2.4546374 ,  2.60609656,  2.75755572,  2.90901488,\n",
       "        3.06047404,  3.2119332 ,  3.36339236,  3.51485152,  3.66631068])"
      ]
     },
     "execution_count": 7,
     "metadata": {},
     "output_type": "execute_result"
    }
   ],
   "source": [
    "left_edges = bins[:-1]\n",
    "left_edges"
   ]
  },
  {
   "cell_type": "code",
   "execution_count": 8,
   "metadata": {},
   "outputs": [
    {
     "data": {
      "text/plain": [
       "array([-3.67945855, -3.52799939, -3.37654023, -3.22508108, -3.07362192,\n",
       "       -2.92216276, -2.7707036 , -2.61924444, -2.46778528, -2.31632612,\n",
       "       -2.16486696, -2.0134078 , -1.86194864, -1.71048948, -1.55903032,\n",
       "       -1.40757116, -1.256112  , -1.10465284, -0.95319368, -0.80173453,\n",
       "       -0.65027537, -0.49881621, -0.34735705, -0.19589789, -0.04443873,\n",
       "        0.10702043,  0.25847959,  0.40993875,  0.56139791,  0.71285707,\n",
       "        0.86431623,  1.01577539,  1.16723455,  1.31869371,  1.47015286,\n",
       "        1.62161202,  1.77307118,  1.92453034,  2.0759895 ,  2.22744866,\n",
       "        2.37890782,  2.53036698,  2.68182614,  2.8332853 ,  2.98474446,\n",
       "        3.13620362,  3.28766278,  3.43912194,  3.5905811 ,  3.74204025])"
      ]
     },
     "execution_count": 8,
     "metadata": {},
     "output_type": "execute_result"
    }
   ],
   "source": [
    "bin_centers = (right_edges+left_edges)/2\n",
    "bin_centers"
   ]
  },
  {
   "cell_type": "code",
   "execution_count": 9,
   "metadata": {
    "collapsed": true
   },
   "outputs": [],
   "source": [
    "bin_width = bins[1]-bins[0]"
   ]
  },
  {
   "cell_type": "markdown",
   "metadata": {},
   "source": [
    "## Raw histogram counts\n",
    "\n",
    "To go from the pdf to the expected counts in a bin, you need to include a normalization constant."
   ]
  },
  {
   "cell_type": "code",
   "execution_count": 10,
   "metadata": {
    "collapsed": true
   },
   "outputs": [],
   "source": [
    "normalization = x.size*(bins[1]-bins[0])"
   ]
  },
  {
   "cell_type": "code",
   "execution_count": 11,
   "metadata": {},
   "outputs": [],
   "source": [
    "prediction = normalization*norm.pdf(bin_centers)"
   ]
  },
  {
   "cell_type": "code",
   "execution_count": 12,
   "metadata": {},
   "outputs": [
    {
     "data": {
      "text/plain": [
       "[<matplotlib.lines.Line2D at 0x1101f51d0>]"
      ]
     },
     "execution_count": 12,
     "metadata": {},
     "output_type": "execute_result"
    },
    {
     "data": {
      "image/png": "[encoded data removed]",
      "text/plain": [
       "<matplotlib.figure.Figure at 0x110423410>"
      ]
     },
     "metadata": {},
     "output_type": "display_data"
    }
   ],
   "source": [
    "counts, bins, patches = plt.hist(x, bins=n_bins,normed=False)\n",
    "plt.plot(bin_centers,prediction, c='r', lw=2)"
   ]
  },
  {
   "cell_type": "code",
   "execution_count": 13,
   "metadata": {},
   "outputs": [
    {
     "data": {
      "text/plain": [
       "(9998.4828255329667, 10000.0)"
      ]
     },
     "execution_count": 13,
     "metadata": {},
     "output_type": "execute_result"
    }
   ],
   "source": [
    "np.sum(prediction), np.sum(counts)"
   ]
  },
  {
   "cell_type": "code",
   "execution_count": 61,
   "metadata": {},
   "outputs": [
    {
     "data": {
      "text/plain": [
       "<matplotlib.text.Text at 0x1135c0b10>"
      ]
     },
     "execution_count": 61,
     "metadata": {},
     "output_type": "execute_result"
    },
    {
     "data": {
      "image/png": "[encoded data removed]",
      "text/plain": [
       "<matplotlib.figure.Figure at 0x1130d82d0>"
      ]
     },
     "metadata": {},
     "output_type": "display_data"
    }
   ],
   "source": [
    "# make a quick plot of (counts-prediction)/sqrt(prediction)\n",
    "# it should look like N(0,1) for chi-square formula to be appropriate\n",
    "temp = plt.hist((counts-prediction)/np.sqrt(prediction), bins=7, normed=True, alpha=0.2)\n",
    "plt.plot(temp[1], norm.pdf(temp[1]))\n",
    "plt.plot(temp[1], norm.pdf(temp[1]), label='N(0,1)')\n",
    "plt.legend()\n",
    "plt.xlabel('(counts-prediction)/sqrt(prediction)')"
   ]
  },
  {
   "cell_type": "markdown",
   "metadata": {},
   "source": [
    "## Chisquare"
   ]
  },
  {
   "cell_type": "code",
   "execution_count": 37,
   "metadata": {},
   "outputs": [],
   "source": [
    "from scipy.stats import chisquare"
   ]
  },
  {
   "cell_type": "code",
   "execution_count": 38,
   "metadata": {
    "collapsed": true
   },
   "outputs": [],
   "source": [
    "from scipy.stats import chi2"
   ]
  },
  {
   "cell_type": "code",
   "execution_count": 39,
   "metadata": {},
   "outputs": [
    {
     "data": {
      "text/plain": [
       "45.498862093830645"
      ]
     },
     "execution_count": 39,
     "metadata": {},
     "output_type": "execute_result"
    }
   ],
   "source": [
    "# right way\n",
    "np.sum((counts-prediction)**2/prediction)"
   ]
  },
  {
   "cell_type": "code",
   "execution_count": 41,
   "metadata": {},
   "outputs": [
    {
     "data": {
      "text/plain": [
       "(45.498862093830645, 0.61586732424588986)"
      ]
     },
     "execution_count": 41,
     "metadata": {},
     "output_type": "execute_result"
    }
   ],
   "source": [
    "# right way\n",
    "chisq_obs, pvalue = chisquare(counts, prediction)\n",
    "chisq_obs, pvalue"
   ]
  },
  {
   "cell_type": "markdown",
   "metadata": {},
   "source": [
    "Now we can calculate the p-value for having a chi-square value this large.\n",
    "Importantly we need to have the number of degrees of freedom be the number of bins."
   ]
  },
  {
   "cell_type": "code",
   "execution_count": 44,
   "metadata": {},
   "outputs": [
    {
     "data": {
      "text/plain": [
       "0.65436627278078441"
      ]
     },
     "execution_count": 44,
     "metadata": {},
     "output_type": "execute_result"
    }
   ],
   "source": [
    "#p-value\n",
    "chi2.sf(chisq_obs,counts.size)"
   ]
  },
  {
   "cell_type": "markdown",
   "metadata": {},
   "source": [
    "## Note \n",
    "A p-value of 0 or 1 is very unlikely. You should expect to sit in the middle of the distribution and have a p-value of ~0.5"
   ]
  },
  {
   "cell_type": "markdown",
   "metadata": {},
   "source": [
    "## Normalized Histogram (wrong way)\n",
    "\n",
    "Here we make a normed histogram, which is equivalent to dividing by the normalization constant"
   ]
  },
  {
   "cell_type": "code",
   "execution_count": 45,
   "metadata": {},
   "outputs": [],
   "source": [
    "prediction_normed = norm.pdf(bin_centers)"
   ]
  },
  {
   "cell_type": "code",
   "execution_count": 46,
   "metadata": {},
   "outputs": [
    {
     "data": {
      "text/plain": [
       "[<matplotlib.lines.Line2D at 0x1124c78d0>]"
      ]
     },
     "execution_count": 46,
     "metadata": {},
     "output_type": "execute_result"
    },
    {
     "data": {
      "image/png": "[encoded data removed]",
      "text/plain": [
       "<matplotlib.figure.Figure at 0x1121e2b50>"
      ]
     },
     "metadata": {},
     "output_type": "display_data"
    }
   ],
   "source": [
    "counts_normed, bins, patches = plt.hist(x, bins=n_bins,normed=True)\n",
    "plt.plot(bin_centers,prediction_normed, c='r', lw=2)"
   ]
  },
  {
   "cell_type": "code",
   "execution_count": 51,
   "metadata": {},
   "outputs": [
    {
     "data": {
      "text/plain": [
       "(6.6014382152927498, 6.6024399206195126)"
      ]
     },
     "execution_count": 51,
     "metadata": {},
     "output_type": "execute_result"
    }
   ],
   "source": [
    "# Note, they don't add up to 1., they add up to (roughly) 1/bin_width\n",
    "np.sum(prediction_normed), np.sum(counts_normed)"
   ]
  },
  {
   "cell_type": "code",
   "execution_count": 52,
   "metadata": {},
   "outputs": [
    {
     "data": {
      "text/plain": [
       "6.6024399206195179"
      ]
     },
     "execution_count": 52,
     "metadata": {},
     "output_type": "execute_result"
    }
   ],
   "source": [
    "1/bin_width"
   ]
  },
  {
   "cell_type": "code",
   "execution_count": 75,
   "metadata": {},
   "outputs": [
    {
     "data": {
      "text/plain": [
       "<matplotlib.text.Text at 0x1135c0ed0>"
      ]
     },
     "execution_count": 75,
     "metadata": {},
     "output_type": "execute_result"
    },
    {
     "data": {
      "image/png": "[encoded data removed]",
      "text/plain": [
       "<matplotlib.figure.Figure at 0x1148e3bd0>"
      ]
     },
     "metadata": {},
     "output_type": "display_data"
    }
   ],
   "source": [
    "# make a quick plot of (counts-prediction)/sqrt(prediction)\n",
    "# it should look like N(0,1) for chi-square formula to be appropriate\n",
    "temp = plt.hist((counts_normed-prediction_normed)/np.sqrt(prediction_normed), bins=7, normed=True, alpha=0.2)\n",
    "plt.plot(temp[1], norm.pdf(temp[1]), label='N(0,1) -- needed for chi-square')\n",
    "plt.plot(temp[1], norm.pdf(temp[1], 0,1./np.sqrt(normalization)), label='N(0,1/sqrt(norm))')\n",
    "plt.legend()\n",
    "plt.xlabel('(counts_normed-prediction_normed)/sqrt(prediction_normed)')\n",
    "plt.title('note, the scale is way off!!!', color='r')"
   ]
  },
  {
   "cell_type": "code",
   "execution_count": 62,
   "metadata": {},
   "outputs": [
    {
     "data": {
      "text/plain": [
       "0.030040350343106814"
      ]
     },
     "execution_count": 62,
     "metadata": {},
     "output_type": "execute_result"
    }
   ],
   "source": [
    "#wrong way\n",
    "np.sum((counts_normed-prediction_normed)**2/prediction_normed)"
   ]
  },
  {
   "cell_type": "code",
   "execution_count": 63,
   "metadata": {},
   "outputs": [
    {
     "data": {
      "text/plain": [
       "(0.030040350343106814, 1.0)"
      ]
     },
     "execution_count": 63,
     "metadata": {},
     "output_type": "execute_result"
    }
   ],
   "source": [
    "#wrong way\n",
    "chisq_obs_wrong, pvalue_wrong = chisquare(counts_normed, prediction_normed)\n",
    "chisq_obs_wrong, pvalue_wrong"
   ]
  },
  {
   "cell_type": "code",
   "execution_count": 76,
   "metadata": {},
   "outputs": [
    {
     "data": {
      "text/plain": [
       "(45.498862093830645, 0.61586732424588986)"
      ]
     },
     "execution_count": 76,
     "metadata": {},
     "output_type": "execute_result"
    }
   ],
   "source": [
    "## compare with the right way\n",
    "chisq_obs, pvalue"
   ]
  },
  {
   "cell_type": "code",
   "execution_count": 64,
   "metadata": {},
   "outputs": [
    {
     "data": {
      "text/plain": [
       "1.0"
      ]
     },
     "execution_count": 64,
     "metadata": {},
     "output_type": "execute_result"
    }
   ],
   "source": [
    "#p-value\n",
    "chi2.sf(chisq_obs_wrong,counts.size)"
   ]
  },
  {
   "cell_type": "markdown",
   "metadata": {
    "collapsed": true
   },
   "source": [
    "## Note \n",
    "A p-value of 0 or 1 is very unlikely. You should expect to sit in the middle of the distribution and have a p-value of ~0.5"
   ]
  },
  {
   "cell_type": "code",
   "execution_count": null,
   "metadata": {
    "collapsed": true
   },
   "outputs": [],
   "source": []
  },
  {
   "cell_type": "code",
   "execution_count": null,
   "metadata": {
    "collapsed": true
   },
   "outputs": [],
   "source": []
  },
  {
   "cell_type": "code",
   "execution_count": null,
   "metadata": {
    "collapsed": true
   },
   "outputs": [],
   "source": []
  }
 ],
 "metadata": {
  "kernelspec": {
   "display_name": "Python 3",
   "language": "python",
   "name": "python3"
  },
  "language_info": {
   "codemirror_mode": {
    "name": "ipython",
    "version": 3
   },
   "file_extension": ".py",
   "mimetype": "text/x-python",
   "name": "python",
   "nbconvert_exporter": "python",
   "pygments_lexer": "ipython3",
   "version": "3.7.7"
  }
 },
 "nbformat": 4,
 "nbformat_minor": 1
}
