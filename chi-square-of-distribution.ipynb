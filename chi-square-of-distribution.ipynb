{
 "cells": [
  {
   "cell_type": "markdown",
   "metadata": {},
   "source": [
    "## Calculating the chi-square for a distribution and a histogram.\n",
    "\n",
    "We will do it two ways. With and without normalized histograms"
   ]
  },
  {
   "cell_type": "code",
   "execution_count": 1,
   "metadata": {
    "collapsed": false
   },
   "outputs": [
    {
     "name": "stdout",
     "output_type": "stream",
     "text": [
      "Populating the interactive namespace from numpy and matplotlib\n"
     ]
    }
   ],
   "source": [
    "%pylab inline --no-import-all\n",
    "from scipy.stats import norm #will use this for plotting"
   ]
  },
  {
   "cell_type": "markdown",
   "metadata": {},
   "source": [
    "### make some data from a N(0,1) distribution"
   ]
  },
  {
   "cell_type": "code",
   "execution_count": 2,
   "metadata": {
    "collapsed": true
   },
   "outputs": [],
   "source": [
    "n_bins = 50\n",
    "x = norm.rvs(size=10000)"
   ]
  },
  {
   "cell_type": "code",
   "execution_count": 3,
   "metadata": {
    "collapsed": false
   },
   "outputs": [
    {
     "data": {
      "image/png": "[encoded data removed]",
      "text/plain": [
       "<matplotlib.figure.Figure at 0x103637390>"
      ]
     },
     "metadata": {},
     "output_type": "display_data"
    }
   ],
   "source": [
    "counts, bins, patches = plt.hist(x, bins=n_bins,normed=False)"
   ]
  },
  {
   "cell_type": "markdown",
   "metadata": {},
   "source": [
    "## Get Bin centers\n",
    "\n",
    "Get the location for the bin centers. Here I do it step by step so you can see what is going on."
   ]
  },
  {
   "cell_type": "code",
   "execution_count": 4,
   "metadata": {
    "collapsed": false
   },
   "outputs": [
    {
     "data": {
      "text/plain": [
       "array([-3.82385845, -3.67475645, -3.52565445, -3.37655245, -3.22745045,\n",
       "       -3.07834845, -2.92924645, -2.78014445, -2.63104245, -2.48194045,\n",
       "       -2.33283845, -2.18373645, -2.03463445, -1.88553245, -1.73643045,\n",
       "       -1.58732845, -1.43822645, -1.28912445, -1.14002245, -0.99092045,\n",
       "       -0.84181845, -0.69271645, -0.54361445, -0.39451245, -0.24541045,\n",
       "       -0.09630845,  0.05279355,  0.20189555,  0.35099755,  0.50009955,\n",
       "        0.64920155,  0.79830355,  0.94740555,  1.09650755,  1.24560955,\n",
       "        1.39471155,  1.54381355,  1.69291555,  1.84201755,  1.99111955,\n",
       "        2.14022155,  2.28932355,  2.43842555,  2.58752755,  2.73662955,\n",
       "        2.88573155,  3.03483355,  3.18393555,  3.33303755,  3.48213955,\n",
       "        3.63124155])"
      ]
     },
     "execution_count": 4,
     "metadata": {},
     "output_type": "execute_result"
    }
   ],
   "source": [
    "# all bins edges\n",
    "bins"
   ]
  },
  {
   "cell_type": "code",
   "execution_count": 5,
   "metadata": {
    "collapsed": false
   },
   "outputs": [
    {
     "data": {
      "text/plain": [
       "array([-3.67475645, -3.52565445, -3.37655245, -3.22745045, -3.07834845,\n",
       "       -2.92924645, -2.78014445, -2.63104245, -2.48194045, -2.33283845,\n",
       "       -2.18373645, -2.03463445, -1.88553245, -1.73643045, -1.58732845,\n",
       "       -1.43822645, -1.28912445, -1.14002245, -0.99092045, -0.84181845,\n",
       "       -0.69271645, -0.54361445, -0.39451245, -0.24541045, -0.09630845,\n",
       "        0.05279355,  0.20189555,  0.35099755,  0.50009955,  0.64920155,\n",
       "        0.79830355,  0.94740555,  1.09650755,  1.24560955,  1.39471155,\n",
       "        1.54381355,  1.69291555,  1.84201755,  1.99111955,  2.14022155,\n",
       "        2.28932355,  2.43842555,  2.58752755,  2.73662955,  2.88573155,\n",
       "        3.03483355,  3.18393555,  3.33303755,  3.48213955,  3.63124155])"
      ]
     },
     "execution_count": 5,
     "metadata": {},
     "output_type": "execute_result"
    }
   ],
   "source": [
    "right_edges = bins[1:]\n",
    "right_edges"
   ]
  },
  {
   "cell_type": "code",
   "execution_count": 6,
   "metadata": {
    "collapsed": false
   },
   "outputs": [
    {
     "data": {
      "text/plain": [
       "array([-3.82385845, -3.67475645, -3.52565445, -3.37655245, -3.22745045,\n",
       "       -3.07834845, -2.92924645, -2.78014445, -2.63104245, -2.48194045,\n",
       "       -2.33283845, -2.18373645, -2.03463445, -1.88553245, -1.73643045,\n",
       "       -1.58732845, -1.43822645, -1.28912445, -1.14002245, -0.99092045,\n",
       "       -0.84181845, -0.69271645, -0.54361445, -0.39451245, -0.24541045,\n",
       "       -0.09630845,  0.05279355,  0.20189555,  0.35099755,  0.50009955,\n",
       "        0.64920155,  0.79830355,  0.94740555,  1.09650755,  1.24560955,\n",
       "        1.39471155,  1.54381355,  1.69291555,  1.84201755,  1.99111955,\n",
       "        2.14022155,  2.28932355,  2.43842555,  2.58752755,  2.73662955,\n",
       "        2.88573155,  3.03483355,  3.18393555,  3.33303755,  3.48213955])"
      ]
     },
     "execution_count": 6,
     "metadata": {},
     "output_type": "execute_result"
    }
   ],
   "source": [
    "left_edges = bins[:-1]\n",
    "left_edges"
   ]
  },
  {
   "cell_type": "code",
   "execution_count": 7,
   "metadata": {
    "collapsed": false
   },
   "outputs": [
    {
     "data": {
      "text/plain": [
       "array([-3.74930745, -3.60020545, -3.45110345, -3.30200145, -3.15289945,\n",
       "       -3.00379745, -2.85469545, -2.70559345, -2.55649145, -2.40738945,\n",
       "       -2.25828745, -2.10918545, -1.96008345, -1.81098145, -1.66187945,\n",
       "       -1.51277745, -1.36367545, -1.21457345, -1.06547145, -0.91636945,\n",
       "       -0.76726745, -0.61816545, -0.46906345, -0.31996145, -0.17085945,\n",
       "       -0.02175745,  0.12734455,  0.27644655,  0.42554855,  0.57465055,\n",
       "        0.72375255,  0.87285455,  1.02195655,  1.17105855,  1.32016055,\n",
       "        1.46926255,  1.61836455,  1.76746655,  1.91656855,  2.06567055,\n",
       "        2.21477255,  2.36387455,  2.51297655,  2.66207855,  2.81118055,\n",
       "        2.96028255,  3.10938455,  3.25848655,  3.40758855,  3.55669055])"
      ]
     },
     "execution_count": 7,
     "metadata": {},
     "output_type": "execute_result"
    }
   ],
   "source": [
    "bin_centers = (right_edges+left_edges)/2\n",
    "bin_centers"
   ]
  },
  {
   "cell_type": "code",
   "execution_count": 8,
   "metadata": {
    "collapsed": true
   },
   "outputs": [],
   "source": [
    "bin_width = bins[1]-bins[0]"
   ]
  },
  {
   "cell_type": "markdown",
   "metadata": {},
   "source": [
    "## Raw histogram counts\n",
    "\n",
    "To go from the pdf to the expected counts in a bin, you need to include a normalization constant."
   ]
  },
  {
   "cell_type": "code",
   "execution_count": 9,
   "metadata": {
    "collapsed": true
   },
   "outputs": [],
   "source": [
    "normalization = x.size*(bins[1]-bins[0])"
   ]
  },
  {
   "cell_type": "code",
   "execution_count": 10,
   "metadata": {
    "collapsed": false
   },
   "outputs": [],
   "source": [
    "prediction = normalization*norm.pdf(bin_centers)"
   ]
  },
  {
   "cell_type": "code",
   "execution_count": 11,
   "metadata": {
    "collapsed": false
   },
   "outputs": [
    {
     "data": {
      "text/plain": [
       "[<matplotlib.lines.Line2D at 0x10e16b710>]"
      ]
     },
     "execution_count": 11,
     "metadata": {},
     "output_type": "execute_result"
    },
    {
     "data": {
      "image/png": "[encoded data removed]",
      "text/plain": [
       "<matplotlib.figure.Figure at 0x10d73dad0>"
      ]
     },
     "metadata": {},
     "output_type": "display_data"
    }
   ],
   "source": [
    "counts, bins, patches = plt.hist(x, bins=n_bins,normed=False)\n",
    "plt.plot(bin_centers,prediction, c='r', lw=2)"
   ]
  },
  {
   "cell_type": "code",
   "execution_count": 12,
   "metadata": {
    "collapsed": false
   },
   "outputs": [
    {
     "data": {
      "text/plain": [
       "(9997.9604319589253, 10000.0)"
      ]
     },
     "execution_count": 12,
     "metadata": {},
     "output_type": "execute_result"
    }
   ],
   "source": [
    "np.sum(prediction), np.sum(counts)"
   ]
  },
  {
   "cell_type": "code",
   "execution_count": 13,
   "metadata": {
    "collapsed": false
   },
   "outputs": [
    {
     "data": {
      "text/plain": [
       "<matplotlib.text.Text at 0x10d723350>"
      ]
     },
     "execution_count": 13,
     "metadata": {},
     "output_type": "execute_result"
    },
    {
     "data": {
      "image/png": "[encoded data removed]",
      "text/plain": [
       "<matplotlib.figure.Figure at 0x1036378d0>"
      ]
     },
     "metadata": {},
     "output_type": "display_data"
    }
   ],
   "source": [
    "# make a quick plot of (counts-prediction)/sqrt(prediction)\n",
    "# it should look like N(0,1) for chi-square formula to be appropriate\n",
    "temp = plt.hist((counts-prediction)/np.sqrt(prediction), bins=7, normed=True, alpha=0.2)\n",
    "plt.plot(temp[1], norm.pdf(temp[1]))\n",
    "plt.plot(temp[1], norm.pdf(temp[1]), label='N(0,1)')\n",
    "plt.legend()\n",
    "plt.xlabel('(counts-prediction)/sqrt(prediction)')"
   ]
  },
  {
   "cell_type": "markdown",
   "metadata": {},
   "source": [
    "## Chisquare"
   ]
  },
  {
   "cell_type": "code",
   "execution_count": 14,
   "metadata": {
    "collapsed": false
   },
   "outputs": [],
   "source": [
    "from scipy.stats import chisquare"
   ]
  },
  {
   "cell_type": "code",
   "execution_count": 15,
   "metadata": {
    "collapsed": true
   },
   "outputs": [],
   "source": [
    "from scipy.stats import chi2"
   ]
  },
  {
   "cell_type": "code",
   "execution_count": 16,
   "metadata": {
    "collapsed": false
   },
   "outputs": [
    {
     "data": {
      "text/plain": [
       "40.684670199159804"
      ]
     },
     "execution_count": 16,
     "metadata": {},
     "output_type": "execute_result"
    }
   ],
   "source": [
    "# right way\n",
    "np.sum((counts-prediction)**2/prediction)"
   ]
  },
  {
   "cell_type": "code",
   "execution_count": 17,
   "metadata": {
    "collapsed": false
   },
   "outputs": [
    {
     "data": {
      "text/plain": [
       "(40.684670199159804, 0.79514983721038024)"
      ]
     },
     "execution_count": 17,
     "metadata": {},
     "output_type": "execute_result"
    }
   ],
   "source": [
    "# right way\n",
    "chisq_obs, pvalue = chisquare(counts, prediction)\n",
    "chisq_obs, pvalue"
   ]
  },
  {
   "cell_type": "markdown",
   "metadata": {},
   "source": [
    "Now we can calculate the p-value for having a chi-square value this large.\n",
    "Importantly we need to have the number of degrees of freedom be the number of bins."
   ]
  },
  {
   "cell_type": "code",
   "execution_count": 18,
   "metadata": {
    "collapsed": false
   },
   "outputs": [
    {
     "data": {
      "text/plain": [
       "0.82350246016717565"
      ]
     },
     "execution_count": 18,
     "metadata": {},
     "output_type": "execute_result"
    }
   ],
   "source": [
    "#p-value\n",
    "chi2.sf(chisq_obs,counts.size)"
   ]
  },
  {
   "cell_type": "markdown",
   "metadata": {},
   "source": [
    "## Note \n",
    "A p-value of 0 or 1 is very unlikely. You should expect to sit in the middle of the distribution and have a p-value of ~0.5"
   ]
  },
  {
   "cell_type": "markdown",
   "metadata": {},
   "source": [
    "## Normalized Histogram (wrong way)\n",
    "\n",
    "Here we make a normed histogram, which is equivalent to dividing by the normalization constant"
   ]
  },
  {
   "cell_type": "code",
   "execution_count": 19,
   "metadata": {
    "collapsed": false
   },
   "outputs": [],
   "source": [
    "prediction_normed = norm.pdf(bin_centers)"
   ]
  },
  {
   "cell_type": "code",
   "execution_count": 20,
   "metadata": {
    "collapsed": false
   },
   "outputs": [
    {
     "data": {
      "text/plain": [
       "[<matplotlib.lines.Line2D at 0x10e5cdb90>]"
      ]
     },
     "execution_count": 20,
     "metadata": {},
     "output_type": "execute_result"
    },
    {
     "data": {
      "image/png": "[encoded data removed]",
      "text/plain": [
       "<matplotlib.figure.Figure at 0x10e6d6ad0>"
      ]
     },
     "metadata": {},
     "output_type": "display_data"
    }
   ],
   "source": [
    "counts_normed, bins, patches = plt.hist(x, bins=n_bins,normed=True)\n",
    "plt.plot(bin_centers,prediction_normed, c='r', lw=2)"
   ]
  },
  {
   "cell_type": "code",
   "execution_count": 21,
   "metadata": {
    "collapsed": false
   },
   "outputs": [
    {
     "data": {
      "text/plain": [
       "(6.7054502553019422, 6.7068181564988683)"
      ]
     },
     "execution_count": 21,
     "metadata": {},
     "output_type": "execute_result"
    }
   ],
   "source": [
    "# Note, they don't add up to 1., they add up to (roughly) 1/bin_width\n",
    "np.sum(prediction_normed), np.sum(counts_normed)"
   ]
  },
  {
   "cell_type": "code",
   "execution_count": 22,
   "metadata": {
    "collapsed": false
   },
   "outputs": [
    {
     "data": {
      "text/plain": [
       "6.7068181564988727"
      ]
     },
     "execution_count": 22,
     "metadata": {},
     "output_type": "execute_result"
    }
   ],
   "source": [
    "1/bin_width"
   ]
  },
  {
   "cell_type": "code",
   "execution_count": 23,
   "metadata": {
    "collapsed": false
   },
   "outputs": [
    {
     "data": {
      "text/plain": [
       "<matplotlib.text.Text at 0x10ed3dad0>"
      ]
     },
     "execution_count": 23,
     "metadata": {},
     "output_type": "execute_result"
    },
    {
     "data": {
      "image/png": "[encoded data removed]",
      "text/plain": [
       "<matplotlib.figure.Figure at 0x10e6c6490>"
      ]
     },
     "metadata": {},
     "output_type": "display_data"
    }
   ],
   "source": [
    "# make a quick plot of (counts-prediction)/sqrt(prediction)\n",
    "# it should look like N(0,1) for chi-square formula to be appropriate\n",
    "temp = plt.hist((counts_normed-prediction_normed)/np.sqrt(prediction_normed), bins=7, normed=True, alpha=0.2)\n",
    "plt.plot(temp[1], norm.pdf(temp[1]), label='N(0,1) -- needed for chi-square')\n",
    "plt.plot(temp[1], norm.pdf(temp[1], 0,1./np.sqrt(normalization)), label='N(0,1/sqrt(norm))')\n",
    "plt.legend()\n",
    "plt.xlabel('(counts_normed-prediction_normed)/sqrt(prediction_normed)')\n",
    "plt.title('note, the scale is way off!!!', color='r')"
   ]
  },
  {
   "cell_type": "code",
   "execution_count": 24,
   "metadata": {
    "collapsed": false
   },
   "outputs": [
    {
     "data": {
      "text/plain": [
       "0.027286468478289808"
      ]
     },
     "execution_count": 24,
     "metadata": {},
     "output_type": "execute_result"
    }
   ],
   "source": [
    "#wrong way\n",
    "np.sum((counts_normed-prediction_normed)**2/prediction_normed)"
   ]
  },
  {
   "cell_type": "code",
   "execution_count": 25,
   "metadata": {
    "collapsed": false
   },
   "outputs": [
    {
     "data": {
      "text/plain": [
       "(0.027286468478289808, 1.0)"
      ]
     },
     "execution_count": 25,
     "metadata": {},
     "output_type": "execute_result"
    }
   ],
   "source": [
    "#wrong way\n",
    "chisq_obs_wrong, pvalue_wrong = chisquare(counts_normed, prediction_normed)\n",
    "chisq_obs_wrong, pvalue_wrong"
   ]
  },
  {
   "cell_type": "code",
   "execution_count": 26,
   "metadata": {
    "collapsed": false
   },
   "outputs": [
    {
     "data": {
      "text/plain": [
       "(40.684670199159804, 0.79514983721038024)"
      ]
     },
     "execution_count": 26,
     "metadata": {},
     "output_type": "execute_result"
    }
   ],
   "source": [
    "## compare with the right way\n",
    "chisq_obs, pvalue"
   ]
  },
  {
   "cell_type": "code",
   "execution_count": 27,
   "metadata": {
    "collapsed": false
   },
   "outputs": [
    {
     "data": {
      "text/plain": [
       "1.0"
      ]
     },
     "execution_count": 27,
     "metadata": {},
     "output_type": "execute_result"
    }
   ],
   "source": [
    "#p-value\n",
    "chi2.sf(chisq_obs_wrong,counts.size)"
   ]
  },
  {
   "cell_type": "markdown",
   "metadata": {
    "collapsed": true
   },
   "source": [
    "## Note \n",
    "A p-value of 0 or 1 is very unlikely. You should expect to sit in the middle of the distribution and have a p-value of ~0.5"
   ]
  },
  {
   "cell_type": "code",
   "execution_count": null,
   "metadata": {
    "collapsed": true
   },
   "outputs": [],
   "source": []
  },
  {
   "cell_type": "code",
   "execution_count": null,
   "metadata": {
    "collapsed": true
   },
   "outputs": [],
   "source": []
  },
  {
   "cell_type": "code",
   "execution_count": null,
   "metadata": {
    "collapsed": true
   },
   "outputs": [],
   "source": []
  }
 ],
 "metadata": {
  "kernelspec": {
   "display_name": "Python 2",
   "language": "python",
   "name": "python2"
  },
  "language_info": {
   "codemirror_mode": {
    "name": "ipython",
    "version": 2
   },
   "file_extension": ".py",
   "mimetype": "text/x-python",
   "name": "python",
   "nbconvert_exporter": "python",
   "pygments_lexer": "ipython2",
   "version": "2.7.9"
  }
 },
 "nbformat": 4,
 "nbformat_minor": 0
}
