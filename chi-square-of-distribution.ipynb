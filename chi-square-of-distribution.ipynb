{
 "cells": [
  {
   "cell_type": "markdown",
   "metadata": {},
   "source": [
    "## Calculating the chi-square for a distribution and a histogram.\n",
    "\n",
    "We will do it two ways. With and without normalized histograms"
   ]
  },
  {
   "cell_type": "code",
   "execution_count": 1,
   "metadata": {
    "collapsed": false
   },
   "outputs": [
    {
     "name": "stdout",
     "output_type": "stream",
     "text": [
      "Populating the interactive namespace from numpy and matplotlib\n"
     ]
    }
   ],
   "source": [
    "%pylab inline --no-import-all\n",
    "from scipy.stats import norm #will use this for plotting"
   ]
  },
  {
   "cell_type": "markdown",
   "metadata": {},
   "source": [
    "### make some data from a N(0,1) distribution"
   ]
  },
  {
   "cell_type": "code",
   "execution_count": 2,
   "metadata": {
    "collapsed": true
   },
   "outputs": [],
   "source": [
    "n_bins = 50\n",
    "x = norm.rvs(size=10000)"
   ]
  },
  {
   "cell_type": "code",
   "execution_count": 3,
   "metadata": {
    "collapsed": false
   },
   "outputs": [
    {
     "data": {
      "image/png": "[encoded data removed]",
      "text/plain": [
       "<matplotlib.figure.Figure at 0x2bffcc76fd0>"
      ]
     },
     "metadata": {},
     "output_type": "display_data"
    }
   ],
   "source": [
    "counts, bins, patches = plt.hist(x, bins=n_bins,normed=False)"
   ]
  },
  {
   "cell_type": "markdown",
   "metadata": {},
   "source": [
    "## Get Bin centers\n",
    "\n",
    "Get the location for the bin centers. Here I do it step by step so you can see what is going on."
   ]
  },
  {
   "cell_type": "code",
   "execution_count": 4,
   "metadata": {
    "collapsed": false
   },
   "outputs": [
    {
     "data": {
      "text/plain": [
       "array([-3.76115359, -3.60599679, -3.45084   , -3.2956832 , -3.14052641,\n",
       "       -2.98536962, -2.83021282, -2.67505603, -2.51989923, -2.36474244,\n",
       "       -2.20958564, -2.05442885, -1.89927205, -1.74411526, -1.58895846,\n",
       "       -1.43380167, -1.27864488, -1.12348808, -0.96833129, -0.81317449,\n",
       "       -0.6580177 , -0.5028609 , -0.34770411, -0.19254731, -0.03739052,\n",
       "        0.11776628,  0.27292307,  0.42807987,  0.58323666,  0.73839345,\n",
       "        0.89355025,  1.04870704,  1.20386384,  1.35902063,  1.51417743,\n",
       "        1.66933422,  1.82449102,  1.97964781,  2.13480461,  2.2899614 ,\n",
       "        2.44511819,  2.60027499,  2.75543178,  2.91058858,  3.06574537,\n",
       "        3.22090217,  3.37605896,  3.53121576,  3.68637255,  3.84152935,\n",
       "        3.99668614])"
      ]
     },
     "execution_count": 4,
     "metadata": {},
     "output_type": "execute_result"
    }
   ],
   "source": [
    "# all bins edges\n",
    "bins"
   ]
  },
  {
   "cell_type": "code",
   "execution_count": 5,
   "metadata": {
    "collapsed": false
   },
   "outputs": [
    {
     "data": {
      "text/plain": [
       "array([-3.60599679, -3.45084   , -3.2956832 , -3.14052641, -2.98536962,\n",
       "       -2.83021282, -2.67505603, -2.51989923, -2.36474244, -2.20958564,\n",
       "       -2.05442885, -1.89927205, -1.74411526, -1.58895846, -1.43380167,\n",
       "       -1.27864488, -1.12348808, -0.96833129, -0.81317449, -0.6580177 ,\n",
       "       -0.5028609 , -0.34770411, -0.19254731, -0.03739052,  0.11776628,\n",
       "        0.27292307,  0.42807987,  0.58323666,  0.73839345,  0.89355025,\n",
       "        1.04870704,  1.20386384,  1.35902063,  1.51417743,  1.66933422,\n",
       "        1.82449102,  1.97964781,  2.13480461,  2.2899614 ,  2.44511819,\n",
       "        2.60027499,  2.75543178,  2.91058858,  3.06574537,  3.22090217,\n",
       "        3.37605896,  3.53121576,  3.68637255,  3.84152935,  3.99668614])"
      ]
     },
     "execution_count": 5,
     "metadata": {},
     "output_type": "execute_result"
    }
   ],
   "source": [
    "right_edges = bins[1:]\n",
    "right_edges"
   ]
  },
  {
   "cell_type": "code",
   "execution_count": 6,
   "metadata": {
    "collapsed": false
   },
   "outputs": [
    {
     "data": {
      "text/plain": [
       "array([-3.76115359, -3.60599679, -3.45084   , -3.2956832 , -3.14052641,\n",
       "       -2.98536962, -2.83021282, -2.67505603, -2.51989923, -2.36474244,\n",
       "       -2.20958564, -2.05442885, -1.89927205, -1.74411526, -1.58895846,\n",
       "       -1.43380167, -1.27864488, -1.12348808, -0.96833129, -0.81317449,\n",
       "       -0.6580177 , -0.5028609 , -0.34770411, -0.19254731, -0.03739052,\n",
       "        0.11776628,  0.27292307,  0.42807987,  0.58323666,  0.73839345,\n",
       "        0.89355025,  1.04870704,  1.20386384,  1.35902063,  1.51417743,\n",
       "        1.66933422,  1.82449102,  1.97964781,  2.13480461,  2.2899614 ,\n",
       "        2.44511819,  2.60027499,  2.75543178,  2.91058858,  3.06574537,\n",
       "        3.22090217,  3.37605896,  3.53121576,  3.68637255,  3.84152935])"
      ]
     },
     "execution_count": 6,
     "metadata": {},
     "output_type": "execute_result"
    }
   ],
   "source": [
    "left_edges = bins[:-1]\n",
    "left_edges"
   ]
  },
  {
   "cell_type": "code",
   "execution_count": 7,
   "metadata": {
    "collapsed": false
   },
   "outputs": [
    {
     "data": {
      "text/plain": [
       "array([-3.68357519, -3.5284184 , -3.3732616 , -3.21810481, -3.06294801,\n",
       "       -2.90779122, -2.75263442, -2.59747763, -2.44232083, -2.28716404,\n",
       "       -2.13200725, -1.97685045, -1.82169366, -1.66653686, -1.51138007,\n",
       "       -1.35622327, -1.20106648, -1.04590968, -0.89075289, -0.73559609,\n",
       "       -0.5804393 , -0.4252825 , -0.27012571, -0.11496892,  0.04018788,\n",
       "        0.19534467,  0.35050147,  0.50565826,  0.66081506,  0.81597185,\n",
       "        0.97112865,  1.12628544,  1.28144224,  1.43659903,  1.59175582,\n",
       "        1.74691262,  1.90206941,  2.05722621,  2.212383  ,  2.3675398 ,\n",
       "        2.52269659,  2.67785339,  2.83301018,  2.98816698,  3.14332377,\n",
       "        3.29848056,  3.45363736,  3.60879415,  3.76395095,  3.91910774])"
      ]
     },
     "execution_count": 7,
     "metadata": {},
     "output_type": "execute_result"
    }
   ],
   "source": [
    "bin_centers = (right_edges+left_edges)/2\n",
    "bin_centers"
   ]
  },
  {
   "cell_type": "code",
   "execution_count": 8,
   "metadata": {
    "collapsed": true
   },
   "outputs": [],
   "source": [
    "bin_width = bins[1]-bins[0]"
   ]
  },
  {
   "cell_type": "markdown",
   "metadata": {},
   "source": [
    "## Raw histogram counts\n",
    "\n",
    "To go from the pdf to the expected counts in a bin, you need to include a normalization constant."
   ]
  },
  {
   "cell_type": "code",
   "execution_count": 9,
   "metadata": {
    "collapsed": true
   },
   "outputs": [],
   "source": [
    "normalization = x.size*(bins[1]-bins[0])"
   ]
  },
  {
   "cell_type": "code",
   "execution_count": 10,
   "metadata": {
    "collapsed": false
   },
   "outputs": [],
   "source": [
    "prediction = normalization*norm.pdf(bin_centers)"
   ]
  },
  {
   "cell_type": "code",
   "execution_count": 11,
   "metadata": {
    "collapsed": false
   },
   "outputs": [
    {
     "data": {
      "text/plain": [
       "[<matplotlib.lines.Line2D at 0x2bffd658f98>]"
      ]
     },
     "execution_count": 11,
     "metadata": {},
     "output_type": "execute_result"
    },
    {
     "data": {
      "image/png": "[encoded data removed]",
      "text/plain": [
       "<matplotlib.figure.Figure at 0x2bffd12aba8>"
      ]
     },
     "metadata": {},
     "output_type": "display_data"
    }
   ],
   "source": [
    "counts, bins, patches = plt.hist(x, bins=n_bins,normed=False)\n",
    "plt.plot(bin_centers,prediction, c='r', lw=2)"
   ]
  },
  {
   "cell_type": "code",
   "execution_count": 12,
   "metadata": {
    "collapsed": false
   },
   "outputs": [
    {
     "data": {
      "text/plain": [
       "(9998.8512101667056, 10000.0)"
      ]
     },
     "execution_count": 12,
     "metadata": {},
     "output_type": "execute_result"
    }
   ],
   "source": [
    "np.sum(prediction), np.sum(counts)"
   ]
  },
  {
   "cell_type": "code",
   "execution_count": 13,
   "metadata": {
    "collapsed": false
   },
   "outputs": [
    {
     "data": {
      "text/plain": [
       "<matplotlib.text.Text at 0x2bffd6e68d0>"
      ]
     },
     "execution_count": 13,
     "metadata": {},
     "output_type": "execute_result"
    },
    {
     "data": {
      "image/png": "[encoded data removed]",
      "text/plain": [
       "<matplotlib.figure.Figure at 0x2bffd6fd940>"
      ]
     },
     "metadata": {},
     "output_type": "display_data"
    }
   ],
   "source": [
    "# make a quick plot of (counts-prediction)/sqrt(prediction)\n",
    "# it should look like N(0,1) for chi-square formula to be appropriate\n",
    "temp = plt.hist((counts-prediction)/np.sqrt(prediction), bins=7, normed=True, alpha=0.2)\n",
    "plt.plot(temp[1], norm.pdf(temp[1]))\n",
    "plt.plot(temp[1], norm.pdf(temp[1]), label='N(0,1)')\n",
    "plt.legend()\n",
    "plt.xlabel('(counts-prediction)/sqrt(prediction)')"
   ]
  },
  {
   "cell_type": "markdown",
   "metadata": {},
   "source": [
    "## Chisquare"
   ]
  },
  {
   "cell_type": "code",
   "execution_count": 14,
   "metadata": {
    "collapsed": false
   },
   "outputs": [],
   "source": [
    "from scipy.stats import chisquare"
   ]
  },
  {
   "cell_type": "code",
   "execution_count": 15,
   "metadata": {
    "collapsed": true
   },
   "outputs": [],
   "source": [
    "from scipy.stats import chi2"
   ]
  },
  {
   "cell_type": "code",
   "execution_count": 16,
   "metadata": {
    "collapsed": false
   },
   "outputs": [
    {
     "data": {
      "text/plain": [
       "51.183073455069298"
      ]
     },
     "execution_count": 16,
     "metadata": {},
     "output_type": "execute_result"
    }
   ],
   "source": [
    "# right way\n",
    "np.sum((counts-prediction)**2/prediction)"
   ]
  },
  {
   "cell_type": "code",
   "execution_count": 17,
   "metadata": {
    "collapsed": false
   },
   "outputs": [
    {
     "data": {
      "text/plain": [
       "(51.183073455069298, 0.38801584444995618)"
      ]
     },
     "execution_count": 17,
     "metadata": {},
     "output_type": "execute_result"
    }
   ],
   "source": [
    "# right way\n",
    "chisq_obs, pvalue = chisquare(counts, prediction)\n",
    "chisq_obs, pvalue"
   ]
  },
  {
   "cell_type": "markdown",
   "metadata": {},
   "source": [
    "Now we can calculate the p-value for having a chi-square value this large.\n",
    "Importantly we need to have the number of degrees of freedom be the number of bins."
   ]
  },
  {
   "cell_type": "code",
   "execution_count": 18,
   "metadata": {
    "collapsed": false
   },
   "outputs": [
    {
     "data": {
      "text/plain": [
       "0.42701197069857377"
      ]
     },
     "execution_count": 18,
     "metadata": {},
     "output_type": "execute_result"
    }
   ],
   "source": [
    "#p-value\n",
    "chi2.sf(chisq_obs,counts.size)"
   ]
  },
  {
   "cell_type": "markdown",
   "metadata": {},
   "source": [
    "## Note \n",
    "A p-value of 0 or 1 is very unlikely. You should expect to sit in the middle of the distribution and have a p-value of ~0.5"
   ]
  },
  {
   "cell_type": "markdown",
   "metadata": {},
   "source": [
    "## Normalized Histogram (wrong way)\n",
    "\n",
    "Here we make a normed histogram, which is equivalent to dividing by the normalization constant"
   ]
  },
  {
   "cell_type": "code",
   "execution_count": 19,
   "metadata": {
    "collapsed": false
   },
   "outputs": [],
   "source": [
    "prediction_normed = norm.pdf(bin_centers)"
   ]
  },
  {
   "cell_type": "code",
   "execution_count": 20,
   "metadata": {
    "collapsed": false
   },
   "outputs": [
    {
     "data": {
      "text/plain": [
       "[<matplotlib.lines.Line2D at 0x2bffd706e48>]"
      ]
     },
     "execution_count": 20,
     "metadata": {},
     "output_type": "execute_result"
    },
    {
     "data": {
      "image/png": "[encoded data removed]",
      "text/plain": [
       "<matplotlib.figure.Figure at 0x2bffd706d68>"
      ]
     },
     "metadata": {},
     "output_type": "display_data"
    }
   ],
   "source": [
    "counts_normed, bins, patches = plt.hist(x, bins=n_bins,normed=True)\n",
    "plt.plot(bin_centers,prediction_normed, c='r', lw=2)"
   ]
  },
  {
   "cell_type": "code",
   "execution_count": 21,
   "metadata": {
    "collapsed": false
   },
   "outputs": [
    {
     "data": {
      "text/plain": [
       "(6.4443527840580872, 6.4450931898111961)"
      ]
     },
     "execution_count": 21,
     "metadata": {},
     "output_type": "execute_result"
    }
   ],
   "source": [
    "# Note, they don't add up to 1., they add up to (roughly) 1/bin_width\n",
    "np.sum(prediction_normed), np.sum(counts_normed)"
   ]
  },
  {
   "cell_type": "code",
   "execution_count": 22,
   "metadata": {
    "collapsed": false
   },
   "outputs": [
    {
     "data": {
      "text/plain": [
       "6.4450931898111952"
      ]
     },
     "execution_count": 22,
     "metadata": {},
     "output_type": "execute_result"
    }
   ],
   "source": [
    "1/bin_width"
   ]
  },
  {
   "cell_type": "code",
   "execution_count": 23,
   "metadata": {
    "collapsed": false
   },
   "outputs": [
    {
     "data": {
      "text/plain": [
       "<matplotlib.text.Text at 0x2bffd907b38>"
      ]
     },
     "execution_count": 23,
     "metadata": {},
     "output_type": "execute_result"
    },
    {
     "data": {
      "image/png": "[encoded data removed]",
      "text/plain": [
       "<matplotlib.figure.Figure at 0x2bffd83f9e8>"
      ]
     },
     "metadata": {},
     "output_type": "display_data"
    }
   ],
   "source": [
    "# make a quick plot of (counts-prediction)/sqrt(prediction)\n",
    "# it should look like N(0,1) for chi-square formula to be appropriate\n",
    "temp = plt.hist((counts_normed-prediction_normed)/np.sqrt(prediction_normed), bins=7, normed=True, alpha=0.2)\n",
    "plt.plot(temp[1], norm.pdf(temp[1]), label='N(0,1) -- needed for chi-square')\n",
    "plt.plot(temp[1], norm.pdf(temp[1], 0,1./np.sqrt(normalization)), label='N(0,1/sqrt(norm))')\n",
    "plt.legend()\n",
    "plt.xlabel('(counts_normed-prediction_normed)/sqrt(prediction_normed)')\n",
    "plt.title('note, the scale is way off!!!', color='r')"
   ]
  },
  {
   "cell_type": "code",
   "execution_count": 24,
   "metadata": {
    "collapsed": false
   },
   "outputs": [
    {
     "data": {
      "text/plain": [
       "0.032987967815887143"
      ]
     },
     "execution_count": 24,
     "metadata": {},
     "output_type": "execute_result"
    }
   ],
   "source": [
    "#wrong way\n",
    "np.sum((counts_normed-prediction_normed)**2/prediction_normed)"
   ]
  },
  {
   "cell_type": "code",
   "execution_count": 25,
   "metadata": {
    "collapsed": false
   },
   "outputs": [
    {
     "data": {
      "text/plain": [
       "(0.032987967815887143, 1.0)"
      ]
     },
     "execution_count": 25,
     "metadata": {},
     "output_type": "execute_result"
    }
   ],
   "source": [
    "#wrong way\n",
    "chisq_obs_wrong, pvalue_wrong = chisquare(counts_normed, prediction_normed)\n",
    "chisq_obs_wrong, pvalue_wrong"
   ]
  },
  {
   "cell_type": "code",
   "execution_count": 26,
   "metadata": {
    "collapsed": false
   },
   "outputs": [
    {
     "data": {
      "text/plain": [
       "(51.183073455069298, 0.38801584444995618)"
      ]
     },
     "execution_count": 26,
     "metadata": {},
     "output_type": "execute_result"
    }
   ],
   "source": [
    "## compare with the right way\n",
    "chisq_obs, pvalue"
   ]
  },
  {
   "cell_type": "code",
   "execution_count": 27,
   "metadata": {
    "collapsed": false
   },
   "outputs": [
    {
     "data": {
      "text/plain": [
       "1.0"
      ]
     },
     "execution_count": 27,
     "metadata": {},
     "output_type": "execute_result"
    }
   ],
   "source": [
    "#p-value\n",
    "chi2.sf(chisq_obs_wrong,counts.size)"
   ]
  },
  {
   "cell_type": "markdown",
   "metadata": {
    "collapsed": true
   },
   "source": [
    "## Note \n",
    "A p-value of 0 or 1 is very unlikely. You should expect to sit in the middle of the distribution and have a p-value of ~0.5"
   ]
  },
  {
   "cell_type": "code",
   "execution_count": null,
   "metadata": {
    "collapsed": true
   },
   "outputs": [],
   "source": []
  },
  {
   "cell_type": "code",
   "execution_count": null,
   "metadata": {
    "collapsed": true
   },
   "outputs": [],
   "source": []
  },
  {
   "cell_type": "code",
   "execution_count": null,
   "metadata": {
    "collapsed": true
   },
   "outputs": [],
   "source": []
  }
 ],
 "metadata": {
  "kernelspec": {
   "display_name": "Python 3",
   "language": "python",
   "name": "python3"
  },
  "language_info": {
   "codemirror_mode": {
    "name": "ipython",
    "version": 3
   },
   "file_extension": ".py",
   "mimetype": "text/x-python",
   "name": "python",
   "nbconvert_exporter": "python",
   "pygments_lexer": "ipython3",
   "version": "3.5.1"
  }
 },
 "nbformat": 4,
 "nbformat_minor": 0
}
