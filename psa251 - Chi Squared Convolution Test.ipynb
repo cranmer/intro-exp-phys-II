{
 "cells": [
  {
   "cell_type": "markdown",
   "metadata": {},
   "source": [
    "# 1. Import all the distributions"
   ]
  },
  {
   "cell_type": "code",
   "execution_count": 1,
   "metadata": {
    "collapsed": false
   },
   "outputs": [
    {
     "name": "stdout",
     "output_type": "stream",
     "text": [
      "Populating the interactive namespace from numpy and matplotlib\n"
     ]
    }
   ],
   "source": [
    "%pylab inline --no-import-all\n",
    "from scipy import stats"
   ]
  },
  {
   "cell_type": "code",
   "execution_count": 2,
   "metadata": {
    "collapsed": false
   },
   "outputs": [
    {
     "name": "stdout",
     "output_type": "stream",
     "text": [
      "std devs. don't match for Dist_vag273: 0.144505 vs. 0.288675\n",
      "std devs. don't match for Dist_pc1727: 0.844908 vs. 1.000000\n",
      "std devs. don't match for Dist_rdr335: 0.398094 vs. 0.100000\n",
      "means don't match for Dist_my1462: -1.872592 vs. 3.000000\n",
      "std devs. don't match for Dist_mh3908: 28.893428 vs. 38.000000\n",
      "std devs. don't match for Dist_ptf223: 2.852167 vs. 2.150000\n",
      "means don't match for Dist_jeg535: -3.304583 vs. 0.072000\n",
      "std devs. don't match for Dist_sar653_1: 0.498887 vs. 0.626657\n",
      "means don't match for Dist_jgc375: 2130.409688 vs. 2130.937950\n",
      "std devs. don't match for Dist_dl3185: 0.773658 vs. 0.632456\n",
      "std devs. don't match for Dist_vag273_1: 0.143879 vs. 0.288675\n",
      "may have a problem\n",
      "\n",
      "OK distributions: ['Dist_sm6376', 'Dist_ry643', 'Dist_yr595', 'Dist_psa251_2', 'Dist_kw1621', 'Dist_nj18', 'Dist_hk1764', 'Dist_yz2668', 'Dist_psa251', 'Dist_ejk483', 'Dist_ih646', 'Dist_kc90_2', 'Dist_kc90_3', 'Dist_vag273_2', 'Dist_msc565', 'Dist_jn1348', 'Dist_kjm538', 'Dist_recast', 'Dist_saw533', 'Dist_jsg549']\n"
     ]
    }
   ],
   "source": [
    "# Get distribs and filter bad ones\n",
    "import distributions\n",
    "\n",
    "all_distributions_dict = dict([(name, cls) for name, cls in distributions.__dict__.items() if isinstance(cls, type)])\n",
    "all_distributions_list = [(cls) for name, cls in distributions.__dict__.items() if isinstance(cls, type)]\n",
    "\n",
    "ok_distributions_list=[]\n",
    "problems=[]\n",
    "for i, cls in enumerate(all_distributions_list):\n",
    "    #print(cls)\n",
    "    try:\n",
    "        dist = cls()\n",
    "        N_test = 100000\n",
    "        #print('will try to generate for %s' %(cls.__name__))\n",
    "        if dist.pdf(dist.x_min + .3*(dist.x_max-dist.x_min)) < 1E-3:\n",
    "            print(\"may have a problem\")\n",
    "            continue\n",
    "            \n",
    "        rvs = dist.rvs(N_test)\n",
    "        if np.abs(np.mean(rvs) - dist.mean()) > 5*np.std(rvs)/np.sqrt(N_test):\n",
    "            print(\"means don't match for %s: %f vs. %f\" %(cls.__name__, \n",
    "                                                          np.mean(rvs), dist.mean()))\n",
    "            continue\n",
    "            \n",
    "        elif np.abs(np.std(rvs) - dist.std()) > 5*np.std(rvs)/np.sqrt(np.sqrt(1.*N_test)):\n",
    "            print(\"std devs. don't match for %s: %f vs. %f\" %(cls.__name__, \n",
    "                                                          np.std(rvs), dist.std()))\n",
    "            continue\n",
    "        elif np.abs(np.std(rvs) - dist.std()) / dist.std() > 0.1:\n",
    "            print(\"std devs. don't match for %s: %f vs. %f\" %(cls.__name__, \n",
    "                                                          np.std(rvs), dist.std()))\n",
    "            continue\n",
    "        \n",
    "        elif np.sum(dist.pdf(np.linspace(dist.x_min,dist.x_max,100))<0) > 0:\n",
    "            print(\"pdf was negative in some places\")\n",
    "            continue                    \n",
    "\n",
    "        else:\n",
    "            # print(\"%s passes tests, adding it\" %(cls.__name__))\n",
    "            ok_distributions_list.append(cls)\n",
    "    except:\n",
    "        print(\"%s has errors, does't work\" %(cls.__name__))\n",
    "        continue\n",
    "\n",
    "print \"\\nOK distributions: {0}\".format([i.__name__ for i in ok_distributions_list])"
   ]
  },
  {
   "cell_type": "markdown",
   "metadata": {},
   "source": [
    "# 2. Run convolutions"
   ]
  },
  {
   "cell_type": "markdown",
   "metadata": {},
   "source": [
    "Select number of samples to run"
   ]
  },
  {
   "cell_type": "code",
   "execution_count": 3,
   "metadata": {
    "collapsed": true
   },
   "outputs": [],
   "source": [
    "N_SAMPLES = 100000\n",
    "N_BINS    = 50"
   ]
  },
  {
   "cell_type": "code",
   "execution_count": 4,
   "metadata": {
    "collapsed": true
   },
   "outputs": [],
   "source": [
    "# Split functions to provide more generality\n",
    "def random_convolution(list_of_distributions, N, size):\n",
    "    q = np.zeros(size)\n",
    "    var_q = 0.\n",
    "    mean_q = 0.\n",
    "\n",
    "    for dist_class in np.random.choice(list_of_distributions,N):\n",
    "        dist = dist_class()\n",
    "        \n",
    "        print 'Using: %s ' % (dist_class.__name__)\n",
    "        \n",
    "        q      += dist.rvs(size)\n",
    "        var_q  += dist.std()**2\n",
    "        mean_q += dist.mean()\n",
    "\n",
    "    std_q = np.sqrt( var_q )\n",
    "    \n",
    "    return q, mean_q, std_q\n",
    "\n",
    "def graph_convolution(dist, mean_dist, std_dist):\n",
    "    counts, bins, patches = plt.hist(dist, bins=N_BINS, normed=True, alpha=.2)\n",
    "    plt.plot(bins, stats.norm.pdf(bins, loc=mean_dist, scale=std_dist), lw=2, c='r')\n",
    "    \n",
    "    return counts, bins"
   ]
  },
  {
   "cell_type": "code",
   "execution_count": 5,
   "metadata": {
    "collapsed": false
   },
   "outputs": [
    {
     "name": "stdout",
     "output_type": "stream",
     "text": [
      "Using: Dist_hk1764 \n",
      "Using: Dist_psa251 \n",
      "Using: Dist_kc90_3 \n",
      "Using: Dist_saw533 \n",
      "Using: Dist_hk1764 \n",
      "Using: Dist_sm6376 \n",
      "Using: Dist_jn1348 \n",
      "Using: Dist_psa251 \n",
      "Using: Dist_kc90_2 \n",
      "Using: Dist_hk1764 \n",
      "Using: Dist_msc565 \n",
      "Using: Dist_kjm538 \n",
      "Using: Dist_sm6376 \n",
      "Using: Dist_psa251_2 \n",
      "Using: Dist_sm6376 \n",
      "Using: Dist_vag273_2 \n",
      "Using: Dist_hk1764 \n",
      "Using: Dist_msc565 \n",
      "Using: Dist_msc565 \n",
      "Using: Dist_jsg549 \n"
     ]
    },
    {
     "data": {
      "image/png": "[encoded data removed]",
      "text/plain": [
       "<matplotlib.figure.Figure at 0x106aa9950>"
      ]
     },
     "metadata": {},
     "output_type": "display_data"
    }
   ],
   "source": [
    "# 20 iterations\n",
    "y, mu_y, s_y = random_convolution(ok_distributions_list, 20, N_SAMPLES)\n",
    "y_counts, y_bins = graph_convolution(y, mu_y, s_y)"
   ]
  },
  {
   "cell_type": "markdown",
   "metadata": {},
   "source": [
    "# 3. Generate norm predictions from bins"
   ]
  },
  {
   "cell_type": "code",
   "execution_count": 6,
   "metadata": {
    "collapsed": true
   },
   "outputs": [],
   "source": [
    "def fetch_bin_centers(bins):\n",
    "    rights  = bins[1:]\n",
    "    lefts   = bins[:-1]\n",
    "\n",
    "    centers = (rights + lefts) / 2\n",
    "    return centers\n",
    "\n",
    "def bin_width(bins):\n",
    "    return bins[1] - bins[0]"
   ]
  },
  {
   "cell_type": "code",
   "execution_count": 7,
   "metadata": {
    "collapsed": false
   },
   "outputs": [
    {
     "data": {
      "text/plain": [
       "array([ -1.51113366,  -0.84764206,  -0.18415046,   0.47934114,\n",
       "         1.14283274,   1.80632435,   2.46981595,   3.13330755,\n",
       "         3.79679915,   4.46029075,   5.12378235,   5.78727396,\n",
       "         6.45076556,   7.11425716,   7.77774876,   8.44124036,\n",
       "         9.10473196,   9.76822357,  10.43171517,  11.09520677,\n",
       "        11.75869837,  12.42218997,  13.08568157,  13.74917318,\n",
       "        14.41266478,  15.07615638,  15.73964798,  16.40313958,\n",
       "        17.06663118,  17.73012279,  18.39361439,  19.05710599,\n",
       "        19.72059759,  20.38408919,  21.04758079,  21.7110724 ,\n",
       "        22.374564  ,  23.0380556 ,  23.7015472 ,  24.3650388 ,\n",
       "        25.0285304 ,  25.692022  ,  26.35551361,  27.01900521,\n",
       "        27.68249681,  28.34598841,  29.00948001,  29.67297161,\n",
       "        30.33646322,  30.99995482])"
      ]
     },
     "execution_count": 7,
     "metadata": {},
     "output_type": "execute_result"
    }
   ],
   "source": [
    "y_centers = fetch_bin_centers(y_bins)\n",
    "y_centers"
   ]
  },
  {
   "cell_type": "markdown",
   "metadata": {},
   "source": [
    "Check if the area is ~1, a feature of the Gaussian normal distribution (or any distribution)"
   ]
  },
  {
   "cell_type": "code",
   "execution_count": 8,
   "metadata": {
    "collapsed": false
   },
   "outputs": [
    {
     "data": {
      "text/plain": [
       "1.0"
      ]
     },
     "execution_count": 8,
     "metadata": {},
     "output_type": "execute_result"
    }
   ],
   "source": [
    "np.sum(y_counts * (bin_width(y_bins)))"
   ]
  },
  {
   "cell_type": "code",
   "execution_count": 9,
   "metadata": {
    "collapsed": false
   },
   "outputs": [
    {
     "data": {
      "text/plain": [
       "<matplotlib.text.Text at 0x103bcd850>"
      ]
     },
     "execution_count": 9,
     "metadata": {},
     "output_type": "execute_result"
    },
    {
     "data": {
      "image/png": "[encoded data removed]",
      "text/plain": [
       "<matplotlib.figure.Figure at 0x106aa9510>"
      ]
     },
     "metadata": {},
     "output_type": "display_data"
    }
   ],
   "source": [
    "prediction = stats.norm.pdf(y_centers, loc=mu_y, scale=s_y)*bin_width(y_bins)*N_SAMPLES\n",
    "\n",
    "plt.plot(y_centers, prediction)\n",
    "plt.xlabel('Predicted distribution curve')"
   ]
  },
  {
   "cell_type": "code",
   "execution_count": 10,
   "metadata": {
    "collapsed": false
   },
   "outputs": [
    {
     "data": {
      "text/plain": [
       "99475.925168922768"
      ]
     },
     "execution_count": 10,
     "metadata": {},
     "output_type": "execute_result"
    }
   ],
   "source": [
    "cs_t = np.sum(((y_counts - prediction)**2.) / prediction)\n",
    "cs_t"
   ]
  },
  {
   "cell_type": "markdown",
   "metadata": {},
   "source": [
    "# 4. Chi-Square Test"
   ]
  },
  {
   "cell_type": "code",
   "execution_count": 11,
   "metadata": {
    "collapsed": false
   },
   "outputs": [
    {
     "data": {
      "text/plain": [
       "(99475.925168922768, 0.0)"
      ]
     },
     "execution_count": 11,
     "metadata": {},
     "output_type": "execute_result"
    }
   ],
   "source": [
    "chisq_obs, p_val = stats.chisquare(y_counts, f_exp=prediction)\n",
    "chisq_obs, p_val"
   ]
  },
  {
   "cell_type": "code",
   "execution_count": 12,
   "metadata": {
    "collapsed": false
   },
   "outputs": [
    {
     "data": {
      "text/plain": [
       "0.0"
      ]
     },
     "execution_count": 12,
     "metadata": {},
     "output_type": "execute_result"
    }
   ],
   "source": [
    "stats.chi2.sf(chisq_obs, y_counts.size - 1)"
   ]
  },
  {
   "cell_type": "markdown",
   "metadata": {},
   "source": [
    "At the ```a = 0.01 level```, the p-value above is greatly less than ```a```, suggesting very strong evidence that the convolutions fail to reject the hypothesis of the Central Limit Theorem."
   ]
  }
 ],
 "metadata": {
  "kernelspec": {
   "display_name": "Python 2",
   "language": "python",
   "name": "python2"
  },
  "language_info": {
   "codemirror_mode": {
    "name": "ipython",
    "version": 2
   },
   "file_extension": ".py",
   "mimetype": "text/x-python",
   "name": "python",
   "nbconvert_exporter": "python",
   "pygments_lexer": "ipython2",
   "version": "2.7.11"
  }
 },
 "nbformat": 4,
 "nbformat_minor": 0
}
