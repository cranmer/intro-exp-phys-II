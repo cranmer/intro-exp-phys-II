{
 "cells": [
  {
   "cell_type": "markdown",
   "metadata": {},
   "source": [
    "# 1. Import all the distributions"
   ]
  },
  {
   "cell_type": "code",
   "execution_count": 1,
   "metadata": {
    "collapsed": false
   },
   "outputs": [
    {
     "name": "stdout",
     "output_type": "stream",
     "text": [
      "Populating the interactive namespace from numpy and matplotlib\n"
     ]
    }
   ],
   "source": [
    "%pylab inline --no-import-all\n",
    "from scipy import stats"
   ]
  },
  {
   "cell_type": "code",
   "execution_count": 2,
   "metadata": {
    "collapsed": false
   },
   "outputs": [
    {
     "name": "stdout",
     "output_type": "stream",
     "text": [
      "std devs. don't match for Dist_vag273: 0.144454 vs. 0.288675\n",
      "std devs. don't match for Dist_pc1727: 0.845196 vs. 1.000000\n",
      "std devs. don't match for Dist_rdr335: 0.398187 vs. 0.100000\n",
      "means don't match for Dist_my1462: -1.920250 vs. 3.000000\n",
      "std devs. don't match for Dist_mh3908: 28.892109 vs. 38.000000\n",
      "std devs. don't match for Dist_ptf223: 2.851560 vs. 2.150000\n",
      "means don't match for Dist_jeg535: -3.293163 vs. 0.072000\n",
      "std devs. don't match for Dist_sar653_1: 0.500563 vs. 0.626657\n",
      "means don't match for Dist_jgc375: 2130.456453 vs. 2130.937950\n",
      "std devs. don't match for Dist_dl3185: 0.774920 vs. 0.632456\n",
      "std devs. don't match for Dist_vag273_1: 0.144104 vs. 0.288675\n",
      "may have a problem\n",
      "\n",
      "OK distributions: ['Dist_sm6376', 'Dist_ry643', 'Dist_yr595', 'Dist_psa251_2', 'Dist_kw1621', 'Dist_nj18', 'Dist_hk1764', 'Dist_yz2668', 'Dist_psa251', 'Dist_ejk483', 'Dist_ih646', 'Dist_kc90_2', 'Dist_kc90_3', 'Dist_vag273_2', 'Dist_msc565', 'Dist_jn1348', 'Dist_kjm538', 'Dist_recast', 'Dist_saw533', 'Dist_jsg549']\n"
     ]
    }
   ],
   "source": [
    "# Get distribs and filter bad ones\n",
    "import distributions\n",
    "\n",
    "all_distributions_dict = dict([(name, cls) for name, cls in distributions.__dict__.items() if isinstance(cls, type)])\n",
    "all_distributions_list = [(cls) for name, cls in distributions.__dict__.items() if isinstance(cls, type)]\n",
    "\n",
    "ok_distributions_list=[]\n",
    "problems=[]\n",
    "for i, cls in enumerate(all_distributions_list):\n",
    "    #print(cls)\n",
    "    try:\n",
    "        dist = cls()\n",
    "        N_test = 100000\n",
    "        #print('will try to generate for %s' %(cls.__name__))\n",
    "        if dist.pdf(dist.x_min + .3*(dist.x_max-dist.x_min)) < 1E-3:\n",
    "            print(\"may have a problem\")\n",
    "            continue\n",
    "            \n",
    "        rvs = dist.rvs(N_test)\n",
    "        if np.abs(np.mean(rvs) - dist.mean()) > 5*np.std(rvs)/np.sqrt(N_test):\n",
    "            print(\"means don't match for %s: %f vs. %f\" %(cls.__name__, \n",
    "                                                          np.mean(rvs), dist.mean()))\n",
    "            continue\n",
    "            \n",
    "        elif np.abs(np.std(rvs) - dist.std()) > 5*np.std(rvs)/np.sqrt(np.sqrt(1.*N_test)):\n",
    "            print(\"std devs. don't match for %s: %f vs. %f\" %(cls.__name__, \n",
    "                                                          np.std(rvs), dist.std()))\n",
    "            continue\n",
    "        elif np.abs(np.std(rvs) - dist.std()) / dist.std() > 0.1:\n",
    "            print(\"std devs. don't match for %s: %f vs. %f\" %(cls.__name__, \n",
    "                                                          np.std(rvs), dist.std()))\n",
    "            continue\n",
    "        \n",
    "        elif np.sum(dist.pdf(np.linspace(dist.x_min,dist.x_max,100))<0) > 0:\n",
    "            print(\"pdf was negative in some places\")\n",
    "            continue                    \n",
    "\n",
    "        else:\n",
    "            # print(\"%s passes tests, adding it\" %(cls.__name__))\n",
    "            ok_distributions_list.append(cls)\n",
    "    except:\n",
    "        print(\"%s has errors, does't work\" %(cls.__name__))\n",
    "        continue\n",
    "\n",
    "print \"\\nOK distributions: {0}\".format([i.__name__ for i in ok_distributions_list])"
   ]
  },
  {
   "cell_type": "markdown",
   "metadata": {},
   "source": [
    "# 2. Run convolutions"
   ]
  },
  {
   "cell_type": "code",
   "execution_count": 3,
   "metadata": {
    "collapsed": true
   },
   "outputs": [],
   "source": [
    "# Split functions to provide more generality\n",
    "def random_convolution(list_of_distributions, N, size):\n",
    "    q = np.zeros(size)\n",
    "    var_q = 0.\n",
    "    mean_q = 0.\n",
    "\n",
    "    for dist_class in np.random.choice(list_of_distributions,N):\n",
    "        dist = dist_class()\n",
    "        \n",
    "        print 'Using: %s ' % (dist_class.__name__)\n",
    "        \n",
    "        q      += dist.rvs(size)\n",
    "        var_q  += dist.std()**2\n",
    "        mean_q += dist.mean()\n",
    "\n",
    "    std_q = np.sqrt( var_q )\n",
    "    \n",
    "    return q, mean_q, std_q\n",
    "\n",
    "def graph_convolution(dist, mean_dist, std_dist):\n",
    "    counts, bins, patches = plt.hist(dist ,bins=50, normed=True, alpha=.2)\n",
    "    plt.plot(bins, stats.norm.pdf(bins, loc=mean_dist, scale=std_dist), lw=2, c='r')\n",
    "    \n",
    "    return counts, bins"
   ]
  },
  {
   "cell_type": "markdown",
   "metadata": {},
   "source": [
    "Select number of samples to run"
   ]
  },
  {
   "cell_type": "code",
   "execution_count": 4,
   "metadata": {
    "collapsed": true
   },
   "outputs": [],
   "source": [
    "N_SAMPLES = 100000"
   ]
  },
  {
   "cell_type": "code",
   "execution_count": 5,
   "metadata": {
    "collapsed": false
   },
   "outputs": [
    {
     "name": "stdout",
     "output_type": "stream",
     "text": [
      "Using: Dist_kjm538 \n",
      "Using: Dist_ih646 \n",
      "Using: Dist_yz2668 \n",
      "Using: Dist_ih646 \n",
      "Using: Dist_jsg549 \n",
      "Using: Dist_psa251 \n",
      "Using: Dist_ih646 \n",
      "Using: Dist_kw1621 \n",
      "Using: Dist_hk1764 \n",
      "Using: Dist_ih646 \n",
      "Using: Dist_sm6376 \n",
      "Using: Dist_hk1764 \n",
      "Using: Dist_kjm538 \n",
      "Using: Dist_nj18 \n",
      "Using: Dist_recast \n"
     ]
    },
    {
     "data": {
      "image/png": "[encoded data removed]",
      "text/plain": [
       "<matplotlib.figure.Figure at 0x106a25e50>"
      ]
     },
     "metadata": {},
     "output_type": "display_data"
    }
   ],
   "source": [
    "# 15 iterations\n",
    "y, mu_y, s_y = random_convolution(ok_distributions_list, 15, N_SAMPLES)\n",
    "y_counts, y_bins = graph_convolution(y, mu_y, s_y)"
   ]
  },
  {
   "cell_type": "markdown",
   "metadata": {},
   "source": [
    "# 3. Generate norm predictions from bins"
   ]
  },
  {
   "cell_type": "code",
   "execution_count": 6,
   "metadata": {
    "collapsed": true
   },
   "outputs": [],
   "source": [
    "def fetch_bin_centers(bins):\n",
    "    rights  = bins[1:]\n",
    "    lefts   = bins[:-1]\n",
    "\n",
    "    centers = (rights + lefts) / 2\n",
    "    return centers"
   ]
  },
  {
   "cell_type": "code",
   "execution_count": 7,
   "metadata": {
    "collapsed": false
   },
   "outputs": [
    {
     "data": {
      "text/plain": [
       "array([-10.05530973,  -9.07459672,  -8.09388372,  -7.11317071,\n",
       "        -6.13245771,  -5.15174471,  -4.1710317 ,  -3.1903187 ,\n",
       "        -2.20960569,  -1.22889269,  -0.24817968,   0.73253332,\n",
       "         1.71324633,   2.69395933,   3.67467234,   4.65538534,\n",
       "         5.63609835,   6.61681135,   7.59752436,   8.57823736,\n",
       "         9.55895037,  10.53966337,  11.52037638,  12.50108938,\n",
       "        13.48180239,  14.46251539,  15.4432284 ,  16.4239414 ,\n",
       "        17.40465441,  18.38536741,  19.36608041,  20.34679342,\n",
       "        21.32750642,  22.30821943,  23.28893243,  24.26964544,\n",
       "        25.25035844,  26.23107145,  27.21178445,  28.19249746,\n",
       "        29.17321046,  30.15392347,  31.13463647,  32.11534948,\n",
       "        33.09606248,  34.07677549,  35.05748849,  36.0382015 ,\n",
       "        37.0189145 ,  37.99962751])"
      ]
     },
     "execution_count": 7,
     "metadata": {},
     "output_type": "execute_result"
    }
   ],
   "source": [
    "y_centers = fetch_bin_centers(y_bins)\n",
    "y_centers"
   ]
  },
  {
   "cell_type": "markdown",
   "metadata": {},
   "source": [
    "Check if the area is ~1, a feature of the Gaussian normal distribution (or any distribution)"
   ]
  },
  {
   "cell_type": "code",
   "execution_count": 8,
   "metadata": {
    "collapsed": false
   },
   "outputs": [
    {
     "data": {
      "text/plain": [
       "1.0"
      ]
     },
     "execution_count": 8,
     "metadata": {},
     "output_type": "execute_result"
    }
   ],
   "source": [
    "np.sum(y_counts * (y_bins[1] - y_bins[0]))"
   ]
  },
  {
   "cell_type": "code",
   "execution_count": 9,
   "metadata": {
    "collapsed": false
   },
   "outputs": [
    {
     "data": {
      "text/plain": [
       "array([  4.33367675e-018,   5.13741463e-014,   2.32771154e-010,\n",
       "         4.03097530e-007,   2.66801061e-004,   6.74934152e-002,\n",
       "         6.52576895e+000,   2.41156193e+002,   3.40613284e+003,\n",
       "         1.83874363e+004,   3.79382432e+004,   2.99178024e+004,\n",
       "         9.01734321e+003,   1.03878088e+003,   4.57367952e+001,\n",
       "         7.69668921e-001,   4.95038080e-003,   1.21694150e-005,\n",
       "         1.14339749e-008,   4.10602133e-012,   5.63561875e-016,\n",
       "         2.95636769e-020,   5.92750222e-025,   4.54235885e-030,\n",
       "         1.33041641e-035,   1.48932741e-041,   6.37219721e-048,\n",
       "         1.04204067e-054,   6.51293239e-062,   1.55583991e-069,\n",
       "         1.42052761e-077,   4.95713664e-086,   6.61162993e-095,\n",
       "         3.37040912e-104,   6.56679020e-114,   4.89012656e-124,\n",
       "         1.39182135e-134,   1.51406083e-145,   6.29505593e-157,\n",
       "         1.00035074e-168,   6.07577161e-181,   1.41041533e-193,\n",
       "         1.25137949e-206,   4.24353205e-220,   5.49999603e-234,\n",
       "         2.72454322e-248,   5.15847661e-263,   3.73289406e-278,\n",
       "         1.03244352e-293,   1.09139856e-309])"
      ]
     },
     "execution_count": 9,
     "metadata": {},
     "output_type": "execute_result"
    }
   ],
   "source": [
    "prediction = stats.norm.pdf(y_centers)*N_SAMPLES*(y_bins[1] - y_bins[0])\n",
    "prediction"
   ]
  },
  {
   "cell_type": "markdown",
   "metadata": {},
   "source": [
    "# 4. Chi-Square Test"
   ]
  },
  {
   "cell_type": "code",
   "execution_count": 10,
   "metadata": {
    "collapsed": false
   },
   "outputs": [
    {
     "data": {
      "text/plain": [
       "(2.3816216223746511e+300, 0.0)"
      ]
     },
     "execution_count": 10,
     "metadata": {},
     "output_type": "execute_result"
    }
   ],
   "source": [
    "chisq_obs, p_val = stats.chisquare(y_counts, prediction)\n",
    "chisq_obs, p_val"
   ]
  },
  {
   "cell_type": "code",
   "execution_count": 11,
   "metadata": {
    "collapsed": false
   },
   "outputs": [
    {
     "data": {
      "text/plain": [
       "0.0"
      ]
     },
     "execution_count": 11,
     "metadata": {},
     "output_type": "execute_result"
    }
   ],
   "source": [
    "stats.chi2.sf(chisq_obs, y_counts.size - 1)"
   ]
  },
  {
   "cell_type": "markdown",
   "metadata": {},
   "source": [
    "At the ```a = 0.01 level```, the p-value above is greatly less than ```a```, suggesting very strong evidence that the convolutions fail to reject the hypothesis of the Central Limit Theorem."
   ]
  }
 ],
 "metadata": {
  "kernelspec": {
   "display_name": "Python 2",
   "language": "python",
   "name": "python2"
  },
  "language_info": {
   "codemirror_mode": {
    "name": "ipython",
    "version": 2
   },
   "file_extension": ".py",
   "mimetype": "text/x-python",
   "name": "python",
   "nbconvert_exporter": "python",
   "pygments_lexer": "ipython2",
   "version": "2.7.11"
  }
 },
 "nbformat": 4,
 "nbformat_minor": 0
}
