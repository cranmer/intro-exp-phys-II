{
 "cells": [
  {
   "cell_type": "code",
   "execution_count": 9,
   "metadata": {},
   "outputs": [],
   "source": [
    "import numpy as np\n",
    "import matplotlib.pyplot as plt"
   ]
  },
  {
   "cell_type": "code",
   "execution_count": 2,
   "metadata": {},
   "outputs": [],
   "source": [
    "import distributions\n",
    "import distributions.Dist_kc90 as Dist"
   ]
  },
  {
   "cell_type": "code",
   "execution_count": 3,
   "metadata": {},
   "outputs": [
    {
     "name": "stdout",
     "output_type": "stream",
     "text": [
      "import numpy as np\r\n",
      "from .base_distribution import BaseDistribution\r\n",
      "\r\n",
      "class Dist_kc90(BaseDistribution):\r\n",
      "\tdef __init__(self):\r\n",
      "\t\tself.f_max = 1\r\n",
      "\t\tself.x_min = -1\r\n",
      "\t\tself.x_max = 1\r\n",
      "\r\n",
      "\r\n",
      "\tdef pdf(self, x):\r\n",
      "\t\t\"\"\"This is your PDF\"\"\"\r\n",
      "\t\treturn np.abs(x)\r\n",
      "\r\n",
      "\tdef mean(self):\r\n",
      "\t\t\"\"\"This is the mean of the PDF\"\"\"\r\n",
      "\t\treturn 0.\r\n",
      "\r\n",
      "\tdef std(self):\r\n",
      "\t\t\"\"\"This is the standard deviation of the pdf\"\"\"\r\n",
      "\t\treturn np.sqrt(0.5)\r\n",
      "\r\n",
      "\r\n"
     ]
    }
   ],
   "source": [
    "!cat distributions/Dist_kc90.py"
   ]
  },
  {
   "cell_type": "code",
   "execution_count": 4,
   "metadata": {},
   "outputs": [],
   "source": [
    "my_dist = Dist()"
   ]
  },
  {
   "cell_type": "code",
   "execution_count": 5,
   "metadata": {},
   "outputs": [
    {
     "data": {
      "text/plain": [
       "0.0"
      ]
     },
     "execution_count": 5,
     "metadata": {},
     "output_type": "execute_result"
    }
   ],
   "source": [
    "my_dist.mean()"
   ]
  },
  {
   "cell_type": "code",
   "execution_count": 7,
   "metadata": {},
   "outputs": [],
   "source": [
    "x = my_dist.rvs(10000)"
   ]
  },
  {
   "cell_type": "code",
   "execution_count": 10,
   "metadata": {},
   "outputs": [
    {
     "data": {
      "text/plain": [
       "(array([1788., 1384.,  993.,  583.,  204.,  181.,  607., 1009., 1405.,\n",
       "        1846.]),\n",
       " array([-9.99993211e-01, -8.00006471e-01, -6.00019730e-01, -4.00032990e-01,\n",
       "        -2.00046249e-01, -5.95088837e-05,  1.99927232e-01,  3.99913972e-01,\n",
       "         5.99900712e-01,  7.99887453e-01,  9.99874193e-01]),\n",
       " <a list of 10 Patch objects>)"
      ]
     },
     "execution_count": 10,
     "metadata": {},
     "output_type": "execute_result"
    },
    {
     "data": {
      "image/png": "[encoded data removed]",
      "text/plain": [
       "<matplotlib.figure.Figure at 0x10f805fd0>"
      ]
     },
     "metadata": {},
     "output_type": "display_data"
    }
   ],
   "source": [
    "plt.hist(x)"
   ]
  },
  {
   "cell_type": "code",
   "execution_count": null,
   "metadata": {},
   "outputs": [],
   "source": []
  }
 ],
 "metadata": {
  "kernelspec": {
   "display_name": "Python 3",
   "language": "python",
   "name": "python3"
  },
  "language_info": {
   "codemirror_mode": {
    "name": "ipython",
    "version": 3
   },
   "file_extension": ".py",
   "mimetype": "text/x-python",
   "name": "python",
   "nbconvert_exporter": "python",
   "pygments_lexer": "ipython3",
   "version": "3.6.4"
  }
 },
 "nbformat": 4,
 "nbformat_minor": 2
}
