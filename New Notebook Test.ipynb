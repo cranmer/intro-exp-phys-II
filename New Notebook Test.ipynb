{
 "cells": [
  {
   "cell_type": "code",
   "execution_count": null,
   "metadata": {},
   "outputs": [],
   "source": [
    "import numpy as np\n",
    "import matplotlib.pyplot as plt"
   ]
  },
  {
   "cell_type": "code",
   "execution_count": 2,
   "metadata": {},
   "outputs": [],
   "source": [
    "import distributions\n",
    "import distributions.Dist_mkb452 as Dist"
   ]
  },
  {
   "cell_type": "code",
   "execution_count": 3,
   "metadata": {},
   "outputs": [
    {
     "name": "stdout",
     "output_type": "stream",
     "text": [
      "import numpy as np\r\n",
      "from .base_distribution import BaseDistribution\r\n",
      "\r\n",
      "class Dist_mkb452(BaseDistribution):\r\n",
      "\tdef __init__(self):\r\n",
      "\t\tself.f_max = 1\r\n",
      "\t\tself.x_min = 2\r\n",
      "\t\tself.x_max = 5\r\n",
      "\r\n",
      "\r\n",
      "\tdef pdf(self, x):\r\n",
      "\t\t\"\"\"This is your PDF\"\"\"\r\n",
      "\t\ty = (1/0.000022737)\r\n",
      "\t\treturn (y*np.exp(-x,3)*np.sin(x))\r\n",
      "\r\n",
      "\tdef mean(self):\r\n",
      "\t\t\"\"\"This is the mean of the PDF\"\"\"\r\n",
      "\t\treturn 2.06994\r\n",
      "\r\n",
      "\tdef std(self):\r\n",
      "\t\t\"\"\"This is the standard deviation of the pdf\"\"\"\r\n",
      "\t\treturn 0.066015\r\n",
      "\r\n",
      "\r\n"
     ]
    }
   ],
   "source": [
    "!cat distributions/Dist_mkb452.py"
   ]
  },
  {
   "cell_type": "code",
   "execution_count": 4,
   "metadata": {},
   "outputs": [],
   "source": [
    "my_dist = Dist()"
   ]
  },
  {
   "cell_type": "code",
   "execution_count": 5,
   "metadata": {},
   "outputs": [
    {
     "data": {
      "text/plain": [
       "2.06994"
      ]
     },
     "execution_count": 5,
     "metadata": {},
     "output_type": "execute_result"
    }
   ],
   "source": [
    "my_dist.mean()"
   ]
  },
  {
   "cell_type": "code",
   "execution_count": 6,
   "metadata": {},
   "outputs": [
    {
     "data": {
      "text/plain": [
       "0.066015"
      ]
     },
     "execution_count": 6,
     "metadata": {},
     "output_type": "execute_result"
    }
   ],
   "source": [
    "my_dist.std()"
   ]
  },
  {
   "cell_type": "code",
   "execution_count": null,
   "metadata": {},
   "outputs": [],
   "source": []
  },
  {
   "cell_type": "code",
   "execution_count": null,
   "metadata": {},
   "outputs": [],
   "source": []
  },
  {
   "cell_type": "code",
   "execution_count": null,
   "metadata": {},
   "outputs": [],
   "source": []
  },
  {
   "cell_type": "code",
   "execution_count": null,
   "metadata": {},
   "outputs": [],
   "source": []
  }
 ],
 "metadata": {
  "kernelspec": {
   "display_name": "Python 3",
   "language": "python",
   "name": "python3"
  },
  "language_info": {
   "codemirror_mode": {
    "name": "ipython",
    "version": 3
   },
   "file_extension": ".py",
   "mimetype": "text/x-python",
   "name": "python",
   "nbconvert_exporter": "python",
   "pygments_lexer": "ipython3",
   "version": "3.6.4"
  }
 },
 "nbformat": 4,
 "nbformat_minor": 2
}
