{
 "cells": [
  {
   "cell_type": "code",
   "execution_count": 1,
   "metadata": {
    "collapsed": false
   },
   "outputs": [
    {
     "name": "stdout",
     "output_type": "stream",
     "text": [
      "Populating the interactive namespace from numpy and matplotlib\n"
     ]
    }
   ],
   "source": [
    "%pylab inline --no-import-all"
   ]
  },
  {
   "cell_type": "code",
   "execution_count": 2,
   "metadata": {
    "collapsed": true
   },
   "outputs": [],
   "source": [
    "def get_buckets(N_buckets=10000, N_rain=1000, av_V = 1., sigma_V=-1.):\n",
    "    buckets = np.zeros(N_buckets)\n",
    "    \n",
    "    for i in range(N_buckets):\n",
    "        N_drops = np.random.poisson(N_rain)\n",
    "        v = np.ones(N_drops)*av_V\n",
    "        if sigma_V > 0:\n",
    "            v*= np.random.normal(1.,sigma_V,N_drops)\n",
    "        buckets[i] = np.sum(v)\n",
    "\n",
    "    return buckets    "
   ]
  },
  {
   "cell_type": "code",
   "execution_count": 75,
   "metadata": {
    "collapsed": false
   },
   "outputs": [],
   "source": [
    "N_buckets = 5000\n",
    "N_rain = 1000\n",
    "av_V = 1000./N_rain\n",
    "buckets = get_buckets(N_buckets=N_buckets, N_rain=N_rain, av_V=av_V, sigma_V=-.1)\n",
    "buckets_small = get_buckets(N_buckets=N_buckets, N_rain=.5*N_rain, av_V=av_V*2,sigma_V=-.1)"
   ]
  },
  {
   "cell_type": "code",
   "execution_count": 76,
   "metadata": {
    "collapsed": false
   },
   "outputs": [
    {
     "data": {
      "image/png": "[encoded data removed]",
      "text/plain": [
       "<matplotlib.figure.Figure at 0x11365bd50>"
      ]
     },
     "metadata": {},
     "output_type": "display_data"
    }
   ],
   "source": [
    "h = plt.hist(buckets, bins=np.linspace(900,1100, 50), alpha=0.2)\n",
    "h = plt.hist(buckets_small, bins=np.linspace(900,1100,50), alpha=0.2)"
   ]
  },
  {
   "cell_type": "code",
   "execution_count": 77,
   "metadata": {
    "collapsed": false
   },
   "outputs": [],
   "source": [
    "sigmaVs=np.linspace(-.1,.5)\n",
    "sigBucket = np.zeros(sigmaVs.size)\n",
    "prediction = np.zeros(sigmaVs.size)\n",
    "prediction_r = np.zeros(sigmaVs.size)\n",
    "prediction_n = np.zeros(sigmaVs.size)\n",
    "\n",
    "for i, sigma in enumerate(sigmaVs):\n",
    "    sigBucket[i] = np.std(get_buckets(N_buckets=N_buckets, N_rain=N_rain, av_V=av_V, sigma_V=sigma))\n",
    "    rel_variance = (av_V**2)*(1./N_rain) + (sigma/av_V)**2 /(N_rain)\n",
    "    prediction[i]=N_rain*av_V*np.sqrt(rel_variance)\n",
    "\n",
    "    rel_variance_n = (av_V**2)*(1./N_rain) \n",
    "    prediction_n[i]=N_rain*av_V*np.sqrt(rel_variance_n)\n",
    "\n",
    "    rel_variance_r =  (sigma/av_V)**2/(N_rain)\n",
    "    prediction_r[i]=N_rain*av_V*np.sqrt(rel_variance_r)"
   ]
  },
  {
   "cell_type": "code",
   "execution_count": 78,
   "metadata": {
    "collapsed": false
   },
   "outputs": [
    {
     "data": {
      "text/plain": [
       "<matplotlib.legend.Legend at 0x11407ae50>"
      ]
     },
     "execution_count": 78,
     "metadata": {},
     "output_type": "execute_result"
    },
    {
     "data": {
      "image/png": "[encoded data removed]",
      "text/plain": [
       "<matplotlib.figure.Figure at 0x112955fd0>"
      ]
     },
     "metadata": {},
     "output_type": "display_data"
    }
   ],
   "source": [
    "plt.scatter(sigmaVs, sigBucket, alpha=0.2,label='data')\n",
    "plt.plot(sigmaVs, prediction, label='tot prediction')\n",
    "plt.plot(sigmaVs, prediction_n, label='n part')\n",
    "plt.plot(sigmaVs, prediction_r, label='r part')\n",
    "plt.legend(loc='lower left')"
   ]
  },
  {
   "cell_type": "markdown",
   "metadata": {},
   "source": [
    "## doesn't work with different N_rain"
   ]
  },
  {
   "cell_type": "code",
   "execution_count": null,
   "metadata": {
    "collapsed": true
   },
   "outputs": [],
   "source": []
  }
 ],
 "metadata": {
  "kernelspec": {
   "display_name": "Python 2",
   "language": "python",
   "name": "python2"
  },
  "language_info": {
   "codemirror_mode": {
    "name": "ipython",
    "version": 2
   },
   "file_extension": ".py",
   "mimetype": "text/x-python",
   "name": "python",
   "nbconvert_exporter": "python",
   "pygments_lexer": "ipython2",
   "version": "2.7.11"
  }
 },
 "nbformat": 4,
 "nbformat_minor": 0
}
