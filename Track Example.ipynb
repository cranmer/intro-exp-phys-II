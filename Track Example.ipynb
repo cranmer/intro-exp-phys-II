{
 "cells": [
  {
   "cell_type": "markdown",
   "metadata": {},
   "source": [
    "## A track example\n",
    "\n",
    "The file `times.dat` has made up data for 100-m races between Florence Griffith-Joyner and Shelly-Ann Fraser-Pryce. \n",
    "\n",
    "We want to understand how often Shelly-Ann beats Flo-Jo."
   ]
  },
  {
   "cell_type": "code",
   "execution_count": 1,
   "metadata": {},
   "outputs": [
    {
     "name": "stdout",
     "output_type": "stream",
     "text": [
      "Populating the interactive namespace from numpy and matplotlib\n"
     ]
    }
   ],
   "source": [
    "%pylab inline --no-import-all"
   ]
  },
  {
   "cell_type": "markdown",
   "metadata": {},
   "source": [
    "<!-- Secret comment:\n",
    "How the data were generated\n",
    "w = np.random.normal(0,.07,10000)\n",
    "x = np.random.normal(10.65,.02,10000)+w\n",
    "y = np.random.normal(10.7,.02,10000)+w\n",
    "np.savetxt('times.dat', (x,y), delimiter=',')\n",
    "-->"
   ]
  },
  {
   "cell_type": "code",
   "execution_count": 2,
   "metadata": {},
   "outputs": [],
   "source": [
    "florence, shelly = np.loadtxt('times.dat', delimiter=',')"
   ]
  },
  {
   "cell_type": "code",
   "execution_count": 3,
   "metadata": {},
   "outputs": [
    {
     "data": {
      "text/plain": [
       "Text(0.5,0,'times (s)')"
      ]
     },
     "execution_count": 3,
     "metadata": {},
     "output_type": "execute_result"
    },
    {
     "data": {
      "image/png": "[encoded data removed]",
      "text/plain": [
       "<matplotlib.figure.Figure at 0x1149740f0>"
      ]
     },
     "metadata": {},
     "output_type": "display_data"
    }
   ],
   "source": [
    "counts, bins, patches = plt.hist(florence,bins=50,alpha=0.2, label='Flo-Jo')\n",
    "counts, bins, patches = plt.hist(shelly,bins=bins,alpha=0.2, label='Shelly-Ann')\n",
    "plt.legend()\n",
    "plt.xlabel('times (s)')"
   ]
  },
  {
   "cell_type": "code",
   "execution_count": 4,
   "metadata": {},
   "outputs": [
    {
     "data": {
      "text/plain": [
       "(10.64984971048745, 10.699829543395099)"
      ]
     },
     "execution_count": 4,
     "metadata": {},
     "output_type": "execute_result"
    }
   ],
   "source": [
    "np.mean(florence), np.mean(shelly)"
   ]
  },
  {
   "cell_type": "code",
   "execution_count": 5,
   "metadata": {},
   "outputs": [
    {
     "data": {
      "text/plain": [
       "(0.073163889088267695, 0.073028322568524776)"
      ]
     },
     "execution_count": 5,
     "metadata": {},
     "output_type": "execute_result"
    }
   ],
   "source": [
    "np.std(florence),np.std(shelly)"
   ]
  },
  {
   "cell_type": "markdown",
   "metadata": {},
   "source": [
    "## let's make a prediction \n",
    "\n",
    "Based on the mean and std. of their times, let's make a little simulation to predict how often Shelly-Ann beats Flo-Jo.\n",
    "\n",
    "We can use propagation of errors to predict mean and standard deviation for $q=T_{shelly}-T_{Florence}$"
   ]
  },
  {
   "cell_type": "code",
   "execution_count": 6,
   "metadata": {},
   "outputs": [],
   "source": [
    "mean_q = np.mean(shelly)-np.mean(florence)"
   ]
  },
  {
   "cell_type": "code",
   "execution_count": 7,
   "metadata": {},
   "outputs": [],
   "source": [
    "sigma_q = np.sqrt(np.std(florence)**2+np.std(shelly)**2)"
   ]
  },
  {
   "cell_type": "code",
   "execution_count": 8,
   "metadata": {},
   "outputs": [],
   "source": [
    "f_guess = np.random.normal(np.mean(florence),np.std(florence),10000)\n",
    "s_guess = np.random.normal(np.mean(shelly),np.std(shelly),10000)\n",
    "toy_difference = s_guess-f_guess"
   ]
  },
  {
   "cell_type": "markdown",
   "metadata": {},
   "source": [
    "Make Toy data"
   ]
  },
  {
   "cell_type": "code",
   "execution_count": 9,
   "metadata": {},
   "outputs": [
    {
     "data": {
      "text/plain": [
       "Text(0.5,0,'Shelly - Florence')"
      ]
     },
     "execution_count": 9,
     "metadata": {},
     "output_type": "execute_result"
    },
    {
     "data": {
      "image/png": "[encoded data removed]",
      "text/plain": [
       "<matplotlib.figure.Figure at 0x114afdf28>"
      ]
     },
     "metadata": {},
     "output_type": "display_data"
    }
   ],
   "source": [
    "#toy_difference = np.random.normal(mean_q, sigma_q, 10000)\n",
    "counts, bins, patches = plt.hist(toy_difference,bins=50, alpha=0.2, label='toy data')\n",
    "counts, bins, patches = plt.hist(toy_difference[toy_difference<0],bins=bins, alpha=0.2)\n",
    "norm = (bins[1]-bins[0])*10000\n",
    "plt.plot(bins,norm*mlab.normpdf(bins,mean_q,sigma_q), label='prediction')\n",
    "plt.legend()\n",
    "plt.xlabel('Shelly - Florence')"
   ]
  },
  {
   "cell_type": "code",
   "execution_count": 10,
   "metadata": {},
   "outputs": [
    {
     "data": {
      "text/plain": [
       "0.31119999999999998"
      ]
     },
     "execution_count": 10,
     "metadata": {},
     "output_type": "execute_result"
    }
   ],
   "source": [
    "# predict fraction of wins\n",
    "np.sum(toy_difference<0)/10000."
   ]
  },
  {
   "cell_type": "code",
   "execution_count": null,
   "metadata": {},
   "outputs": [],
   "source": [
    "#check toy data looks like real data\n",
    "counts, bins, patches = plt.hist(f_guess,bins=50,alpha=0.2)\n",
    "counts, bins, patches = plt.hist(s_guess,bins=bins,alpha=0.2)"
   ]
  },
  {
   "cell_type": "markdown",
   "metadata": {},
   "source": [
    "## How often does she actually win?"
   ]
  },
  {
   "cell_type": "code",
   "execution_count": null,
   "metadata": {},
   "outputs": [],
   "source": [
    "counts, bins, patches = plt.hist(shelly-florence,bins=50,alpha=0.2)\n",
    "counts, bins, patches = plt.hist((shelly-florence)[florence-shelly>0],bins=bins,alpha=0.2)\n",
    "plt.xlabel('Shelly - Florence')\n",
    "\n",
    "1.*np.sum(florence-shelly>0)/florence.size\n"
   ]
  },
  {
   "cell_type": "code",
   "execution_count": null,
   "metadata": {},
   "outputs": [],
   "source": []
  },
  {
   "cell_type": "code",
   "execution_count": null,
   "metadata": {},
   "outputs": [],
   "source": []
  },
  {
   "cell_type": "markdown",
   "metadata": {},
   "source": [
    "## What's gonig on?"
   ]
  },
  {
   "cell_type": "code",
   "execution_count": null,
   "metadata": {},
   "outputs": [],
   "source": []
  },
  {
   "cell_type": "code",
   "execution_count": null,
   "metadata": {},
   "outputs": [],
   "source": [
    "plt.scatter(f_guess,s_guess, alpha=0.01)"
   ]
  },
  {
   "cell_type": "code",
   "execution_count": null,
   "metadata": {},
   "outputs": [],
   "source": [
    "plt.scatter(florence,shelly, alpha=0.01)"
   ]
  },
  {
   "cell_type": "code",
   "execution_count": null,
   "metadata": {},
   "outputs": [],
   "source": [
    "plt.hexbin(shelly,florence, alpha=1)"
   ]
  },
  {
   "cell_type": "markdown",
   "metadata": {},
   "source": [
    "Previously we learned propagation of errors formula neglecting correlation:\n",
    "\n",
    "$\\sigma_q^2 = \\left( \\frac{\\partial q}{ \\partial x} \\sigma_x \\right)^2 + \\left( \\frac{\\partial q}{ \\partial y}\\, \\sigma_y \\right)^2 = \\frac{\\partial q}{ \\partial x} \\frac{\\partial q}{ \\partial x} C_{xx} + \\frac{\\partial q}{ \\partial y} \\frac{\\partial q}{ \\partial y} C_{yy}$\n",
    "\n",
    "Now we need to extend the formula to take into account correlation\n",
    "\n",
    "$\\sigma_q^2   = \\frac{\\partial q}{ \\partial x} \\frac{\\partial q}{ \\partial x} C_{xx} + \\frac{\\partial q}{ \\partial y} \\frac{\\partial q}{ \\partial y} C_{yy} + 2 \\frac{\\partial q}{ \\partial x} \\frac{\\partial q}{ \\partial y} C_{xxy} $\n",
    "\n"
   ]
  },
  {
   "cell_type": "code",
   "execution_count": null,
   "metadata": {},
   "outputs": [],
   "source": [
    "# covariance matrix\n",
    "cov_matrix = np.cov(shelly,florence)\n",
    "cov_matrix"
   ]
  },
  {
   "cell_type": "code",
   "execution_count": null,
   "metadata": {},
   "outputs": [],
   "source": [
    "# normalized correlation matrix\n",
    "np.corrcoef(shelly,florence)"
   ]
  },
  {
   "cell_type": "code",
   "execution_count": null,
   "metadata": {},
   "outputs": [],
   "source": [
    "# q = T_shelly - T_florence\n",
    "# x = T_shelly\n",
    "# y = T_florence\n",
    "# propagation of errors\n",
    "cov_matrix[0,0]+cov_matrix[1,1]-2*cov_matrix[0,1]"
   ]
  },
  {
   "cell_type": "code",
   "execution_count": null,
   "metadata": {},
   "outputs": [],
   "source": [
    "mean_q = np.mean(shelly)-np.mean(florence)\n",
    "sigma_q_with_corr = np.sqrt(cov_matrix[0,0]+cov_matrix[1,1]-2*cov_matrix[0,1])\n",
    "sigma_q_no_corr = np.sqrt(cov_matrix[0,0]+cov_matrix[1,1])"
   ]
  },
  {
   "cell_type": "code",
   "execution_count": null,
   "metadata": {},
   "outputs": [],
   "source": [
    "counts, bins, patches = plt.hist(shelly-florence,bins=50,alpha=0.2)\n",
    "counts, bins, patches = plt.hist((shelly-florence)[florence-shelly>0],bins=bins,alpha=0.2)\n",
    "norm = (bins[1]-bins[0])*10000\n",
    "plt.plot(bins,norm*mlab.normpdf(bins,mean_q,sigma_q_with_corr), label='prediction with correlation')\n",
    "plt.plot(bins,norm*mlab.normpdf(bins,mean_q, sigma_q_no_corr), label='prediction without correlation')\n",
    "plt.legend()\n",
    "plt.xlabel('Shelly - Florence')\n",
    "\n",
    "1.*np.sum(florence-shelly>0)/florence.size\n",
    "\n"
   ]
  },
  {
   "cell_type": "code",
   "execution_count": null,
   "metadata": {},
   "outputs": [],
   "source": [
    "np.std(florence-shelly)"
   ]
  },
  {
   "cell_type": "code",
   "execution_count": null,
   "metadata": {},
   "outputs": [],
   "source": [
    "np.sqrt(2.)*0.73"
   ]
  },
  {
   "cell_type": "code",
   "execution_count": null,
   "metadata": {},
   "outputs": [],
   "source": [
    "((np.sqrt(2.)*0.073)**2-0.028**2)/2."
   ]
  },
  {
   "cell_type": "code",
   "execution_count": null,
   "metadata": {},
   "outputs": [],
   "source": [
    ".073**2"
   ]
  },
  {
   "cell_type": "code",
   "execution_count": null,
   "metadata": {},
   "outputs": [],
   "source": [
    "np.std(florence+shelly)"
   ]
  },
  {
   "cell_type": "code",
   "execution_count": null,
   "metadata": {},
   "outputs": [],
   "source": [
    "np.sqrt(2*(np.sqrt(2.)*0.073)**2 -0.028**2)"
   ]
  },
  {
   "cell_type": "code",
   "execution_count": null,
   "metadata": {},
   "outputs": [],
   "source": []
  },
  {
   "cell_type": "code",
   "execution_count": null,
   "metadata": {},
   "outputs": [],
   "source": []
  }
 ],
 "metadata": {
  "kernelspec": {
   "display_name": "Python 3",
   "language": "python",
   "name": "python3"
  },
  "language_info": {
   "codemirror_mode": {
    "name": "ipython",
    "version": 3
   },
   "file_extension": ".py",
   "mimetype": "text/x-python",
   "name": "python",
   "nbconvert_exporter": "python",
   "pygments_lexer": "ipython3",
   "version": "3.7.6"
  }
 },
 "nbformat": 4,
 "nbformat_minor": 1
}
